{
  "nbformat": 4,
  "nbformat_minor": 0,
  "metadata": {
    "colab": {
      "provenance": [],
      "authorship_tag": "ABX9TyPkULD5F+24XLQQScuXCs2P",
      "include_colab_link": true
    },
    "kernelspec": {
      "name": "python3",
      "display_name": "Python 3"
    },
    "language_info": {
      "name": "python"
    }
  },
  "cells": [
    {
      "cell_type": "markdown",
      "metadata": {
        "id": "view-in-github",
        "colab_type": "text"
      },
      "source": [
        "<a href=\"https://colab.research.google.com/github/Vakhranev/Gramota/blob/main/%D0%A1%D1%82%D1%80%D0%B0%D0%BD%D0%BD%D1%8B%D0%B5%20%D0%B7%D0%B0%D0%BF%D1%80%D0%BE%D1%81%D1%8B%20%D0%B0%D0%BD%D0%B0%D0%BB%D0%B8%D0%B7.ipynb\" target=\"_parent\"><img src=\"https://colab.research.google.com/assets/colab-badge.svg\" alt=\"Open In Colab\"/></a>"
      ]
    },
    {
      "cell_type": "code",
      "source": [
        "!pip install pymorphy2"
      ],
      "metadata": {
        "colab": {
          "base_uri": "https://localhost:8080/"
        },
        "id": "0R9MA3Qwdlmj",
        "outputId": "6690b62f-8e25-4741-ba73-a7e07f5d98c5"
      },
      "execution_count": 3,
      "outputs": [
        {
          "output_type": "stream",
          "name": "stdout",
          "text": [
            "Collecting pymorphy2\n",
            "  Downloading pymorphy2-0.9.1-py3-none-any.whl.metadata (3.6 kB)\n",
            "Collecting dawg-python>=0.7.1 (from pymorphy2)\n",
            "  Downloading DAWG_Python-0.7.2-py2.py3-none-any.whl.metadata (7.0 kB)\n",
            "Collecting pymorphy2-dicts-ru<3.0,>=2.4 (from pymorphy2)\n",
            "  Downloading pymorphy2_dicts_ru-2.4.417127.4579844-py2.py3-none-any.whl.metadata (2.1 kB)\n",
            "Collecting docopt>=0.6 (from pymorphy2)\n",
            "  Downloading docopt-0.6.2.tar.gz (25 kB)\n",
            "  Preparing metadata (setup.py) ... \u001b[?25l\u001b[?25hdone\n",
            "Downloading pymorphy2-0.9.1-py3-none-any.whl (55 kB)\n",
            "\u001b[2K   \u001b[90m━━━━━━━━━━━━━━━━━━━━━━━━━━━━━━━━━━━━━━━━\u001b[0m \u001b[32m55.5/55.5 kB\u001b[0m \u001b[31m2.3 MB/s\u001b[0m eta \u001b[36m0:00:00\u001b[0m\n",
            "\u001b[?25hDownloading DAWG_Python-0.7.2-py2.py3-none-any.whl (11 kB)\n",
            "Downloading pymorphy2_dicts_ru-2.4.417127.4579844-py2.py3-none-any.whl (8.2 MB)\n",
            "\u001b[2K   \u001b[90m━━━━━━━━━━━━━━━━━━━━━━━━━━━━━━━━━━━━━━━━\u001b[0m \u001b[32m8.2/8.2 MB\u001b[0m \u001b[31m57.7 MB/s\u001b[0m eta \u001b[36m0:00:00\u001b[0m\n",
            "\u001b[?25hBuilding wheels for collected packages: docopt\n",
            "  Building wheel for docopt (setup.py) ... \u001b[?25l\u001b[?25hdone\n",
            "  Created wheel for docopt: filename=docopt-0.6.2-py2.py3-none-any.whl size=13706 sha256=a3fe563cf80978eb7abd7f24f077dae130ab82f6a35e10896b2bcf21974222fe\n",
            "  Stored in directory: /root/.cache/pip/wheels/fc/ab/d4/5da2067ac95b36618c629a5f93f809425700506f72c9732fac\n",
            "Successfully built docopt\n",
            "Installing collected packages: pymorphy2-dicts-ru, docopt, dawg-python, pymorphy2\n",
            "Successfully installed dawg-python-0.7.2 docopt-0.6.2 pymorphy2-0.9.1 pymorphy2-dicts-ru-2.4.417127.4579844\n"
          ]
        }
      ]
    },
    {
      "cell_type": "code",
      "execution_count": 5,
      "metadata": {
        "colab": {
          "base_uri": "https://localhost:8080/"
        },
        "id": "ewx_hFgUY9Jl",
        "outputId": "d20e6fcc-2d1a-4c23-e28e-b13f3a3efe68"
      },
      "outputs": [
        {
          "output_type": "stream",
          "name": "stdout",
          "text": [
            "           Слово  Частотность\n",
            "0    пособничать          265\n",
            "1     ассиметрия          259\n",
            "2   телемедицина          170\n",
            "3     колеблемый          156\n",
            "4         дайвер          133\n",
            "..           ...          ...\n",
            "95       неспеша           32\n",
            "96    милостевый           32\n",
            "97      мурлычат           31\n",
            "98        лаящая           31\n",
            "99       давникъ           31\n",
            "\n",
            "[100 rows x 2 columns]\n"
          ]
        }
      ],
      "source": [
        "import pandas as pd\n",
        "import pymorphy2\n",
        "import re\n",
        "\n",
        "# Загружаем данные из файла (замените путь на ваш файл)\n",
        "data = pd.read_csv(\"Requests-data-2024-11-21 18_26_27.csv\")\n",
        "\n",
        "# Считаем частоту запросов\n",
        "query_counts = data['query'].value_counts()\n",
        "\n",
        "# Отбираем только слова (убираем фразы и некорректные символы)\n",
        "filtered_queries = query_counts[query_counts.index.str.match(r\"^[а-яА-ЯёЁ]+$\")]\n",
        "\n",
        "# Подключаем PyMorphy2 для проверки слов\n",
        "morph = pymorphy2.MorphAnalyzer()\n",
        "\n",
        "# Проверяем слова на наличие в словаре\n",
        "results = []\n",
        "for word in filtered_queries.index:\n",
        "    if not morph.parse(word)[0].is_known:  # Слово неизвестно словарю PyMorphy2\n",
        "        results.append((word, filtered_queries[word]))\n",
        "\n",
        "# Сортируем по частотности и берем топ-100\n",
        "unknown_words = sorted(results, key=lambda x: x[1], reverse=True)[:100]\n",
        "\n",
        "# Формируем DataFrame для наглядности\n",
        "unknown_words_df = pd.DataFrame(unknown_words, columns=[\"Слово\", \"Частотность\"])\n",
        "\n",
        "print(unknown_words_df)"
      ]
    },
    {
      "cell_type": "code",
      "source": [
        "print(unknown_words_df[80:100])"
      ],
      "metadata": {
        "colab": {
          "base_uri": "https://localhost:8080/"
        },
        "id": "ZUiZS4dwfcc9",
        "outputId": "4b0aad91-768d-4d05-ce72-5bf28046248c"
      },
      "execution_count": 12,
      "outputs": [
        {
          "output_type": "stream",
          "name": "stdout",
          "text": [
            "                  Слово  Частотность\n",
            "80            интригант           35\n",
            "81           навождение           35\n",
            "82           заведывать           35\n",
            "83  видеоконференцсвязь           35\n",
            "84         неприемлимый           35\n",
            "85                 демо           34\n",
            "86          повенченный           34\n",
            "87              стирщик           34\n",
            "88                фешен           34\n",
            "89                гойда           34\n",
            "90                  зум           34\n",
            "91               засоня           34\n",
            "92                кипиш           33\n",
            "93       необстреленный           33\n",
            "94             черезчур           32\n",
            "95              неспеша           32\n",
            "96           милостевый           32\n",
            "97             мурлычат           31\n",
            "98               лаящая           31\n",
            "99              давникъ           31\n"
          ]
        }
      ]
    },
    {
      "cell_type": "code",
      "source": [
        "# Сортируем по частотности и берем топ-100\n",
        "unknown_words = sorted(results, key=lambda x: x[1], reverse=True)[100:200]\n",
        "\n",
        "# Формируем DataFrame для наглядности\n",
        "unknown_words_df = pd.DataFrame(unknown_words, columns=[\"Слово\", \"Частотность\"])"
      ],
      "metadata": {
        "id": "VMK-O12ByWSR"
      },
      "execution_count": 13,
      "outputs": []
    },
    {
      "cell_type": "code",
      "source": [
        "print(unknown_words_df[80:100])"
      ],
      "metadata": {
        "colab": {
          "base_uri": "https://localhost:8080/"
        },
        "id": "nrsaqXDOycZJ",
        "outputId": "2e0b7f1f-107d-4b5a-f551-4a43eda3f8ab"
      },
      "execution_count": 18,
      "outputs": [
        {
          "output_type": "stream",
          "name": "stdout",
          "text": [
            "            Слово  Частотность\n",
            "80      приамбула           24\n",
            "81        слойщик           24\n",
            "82        стендап           24\n",
            "83        абьюзер           24\n",
            "84      горошенка           24\n",
            "85        гуглить           24\n",
            "86        жевачка           24\n",
            "87  юристконсульт           24\n",
            "88      выравнять           24\n",
            "89    надзератель           24\n",
            "90     курлычащие           24\n",
            "91       эмансипе           24\n",
            "92       будующий           23\n",
            "93      продакшен           23\n",
            "94        детясли           23\n",
            "95        клеющий           23\n",
            "96    ходотайство           23\n",
            "97           моно           23\n",
            "98  порозительный           23\n",
            "99        авторка           23\n"
          ]
        }
      ]
    }
  ]
}