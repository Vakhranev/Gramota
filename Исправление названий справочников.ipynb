{
  "nbformat": 4,
  "nbformat_minor": 0,
  "metadata": {
    "colab": {
      "provenance": [],
      "authorship_tag": "ABX9TyN2OgRQyxt/F/f/ZHvv3PkP",
      "include_colab_link": true
    },
    "kernelspec": {
      "name": "python3",
      "display_name": "Python 3"
    },
    "language_info": {
      "name": "python"
    }
  },
  "cells": [
    {
      "cell_type": "markdown",
      "metadata": {
        "id": "view-in-github",
        "colab_type": "text"
      },
      "source": [
        "<a href=\"https://colab.research.google.com/github/Vakhranev/Gramota/blob/main/%D0%98%D1%81%D0%BF%D1%80%D0%B0%D0%B2%D0%BB%D0%B5%D0%BD%D0%B8%D0%B5%20%D0%BD%D0%B0%D0%B7%D0%B2%D0%B0%D0%BD%D0%B8%D0%B9%20%D1%81%D0%BF%D1%80%D0%B0%D0%B2%D0%BE%D1%87%D0%BD%D0%B8%D0%BA%D0%BE%D0%B2.ipynb\" target=\"_parent\"><img src=\"https://colab.research.google.com/assets/colab-badge.svg\" alt=\"Open In Colab\"/></a>"
      ]
    },
    {
      "cell_type": "code",
      "execution_count": 2,
      "metadata": {
        "colab": {
          "base_uri": "https://localhost:8080/"
        },
        "id": "dRQHqAvbnYmQ",
        "outputId": "47373cb6-acd1-44da-b557-ff4cd68c8601"
      },
      "outputs": [
        {
          "output_type": "stream",
          "name": "stdout",
          "text": [
            "Обновлённый архив сохранён как Kaidalova_Cleaned.zip\n"
          ]
        }
      ],
      "source": [
        "import os\n",
        "import re\n",
        "import zipfile\n",
        "from pathlib import Path\n",
        "\n",
        "# Функция для удаления лишних подчёркиваний из имени\n",
        "def clean_name(name):\n",
        "    return re.sub(r\"_+\", \"_\", name)\n",
        "\n",
        "# Путь к архиву\n",
        "archive_name = \"output_kaidalova_html.zip\"\n",
        "output_archive_name = \"Kaidalova_Cleaned.zip\"\n",
        "temp_dir = \"temp_extracted\"\n",
        "\n",
        "# Шаг 1: Разархивируем архив\n",
        "with zipfile.ZipFile(archive_name, 'r') as zip_ref:\n",
        "    zip_ref.extractall(temp_dir)\n",
        "\n",
        "# Шаг 2: Переименовываем папки и файлы\n",
        "for root, dirs, files in os.walk(temp_dir, topdown=False):\n",
        "    # Переименовываем файлы\n",
        "    for file in files:\n",
        "        old_path = Path(root) / file\n",
        "        new_name = clean_name(file)\n",
        "        new_path = Path(root) / new_name\n",
        "        old_path.rename(new_path)\n",
        "\n",
        "    # Переименовываем папки\n",
        "    for dir in dirs:\n",
        "        old_path = Path(root) / dir\n",
        "        new_name = clean_name(dir)\n",
        "        new_path = Path(root) / new_name\n",
        "        old_path.rename(new_path)\n",
        "\n",
        "# Шаг 3: Создаём новый архив с очищенными названиями\n",
        "with zipfile.ZipFile(output_archive_name, 'w', zipfile.ZIP_DEFLATED) as zip_out:\n",
        "    for root, dirs, files in os.walk(temp_dir):\n",
        "        for file in files:\n",
        "            file_path = Path(root) / file\n",
        "            archive_path = file_path.relative_to(temp_dir)  # относительный путь для архива\n",
        "            zip_out.write(file_path, archive_path)\n",
        "\n",
        "# Шаг 4: Удаляем временные файлы\n",
        "import shutil\n",
        "shutil.rmtree(temp_dir)\n",
        "\n",
        "print(f\"Обновлённый архив сохранён как {output_archive_name}\")"
      ]
    }
  ]
}