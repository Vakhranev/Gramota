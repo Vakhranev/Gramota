{
  "nbformat": 4,
  "nbformat_minor": 0,
  "metadata": {
    "colab": {
      "provenance": [],
      "authorship_tag": "ABX9TyMm+PQhnanzqJWhTMQ7sGUo",
      "include_colab_link": true
    },
    "kernelspec": {
      "name": "python3",
      "display_name": "Python 3"
    },
    "language_info": {
      "name": "python"
    }
  },
  "cells": [
    {
      "cell_type": "markdown",
      "metadata": {
        "id": "view-in-github",
        "colab_type": "text"
      },
      "source": [
        "<a href=\"https://colab.research.google.com/github/Vakhranev/Gramota/blob/main/%D0%A4%D1%80%D0%B0%D0%B7%D0%B5%D0%BE%D0%BB%D0%BE%D0%B3%D0%B8%D0%B7%D0%BC%D1%8B.ipynb\" target=\"_parent\"><img src=\"https://colab.research.google.com/assets/colab-badge.svg\" alt=\"Open In Colab\"/></a>"
      ]
    },
    {
      "cell_type": "code",
      "execution_count": 1,
      "metadata": {
        "colab": {
          "base_uri": "https://localhost:8080/"
        },
        "id": "aQ5IaVlkxpTe",
        "outputId": "4c0704b3-16de-4ece-8668-82934af6c0cf"
      },
      "outputs": [
        {
          "output_type": "stream",
          "name": "stdout",
          "text": [
            "7        Словарь Русских синонимов и сходных по смыслу ...\n",
            "138      как поставить ударение в слове -свидения Его-,...\n",
            "160                  так кошка выражает материнскую любовь\n",
            "161                  так кошка выражает материнскую любовь\n",
            "162                  так кошка выражает материнскую любовь\n",
            "                               ...                        \n",
            "17878    в словосочетании  ёжик резиновыйежик одушевлён...\n",
            "17883    в словосочетании  ёжик резиновый вопро кто или...\n",
            "18005          фразеологические обороты со словом спросить\n",
            "18007    выражаем благодарность семьям: Гареевых, Федот...\n",
            "18008    выражаем благодарность семьям: Гареевых, Федот...\n",
            "Name: query, Length: 487, dtype: object\n"
          ]
        }
      ],
      "source": [
        "import pandas as pd\n",
        "\n",
        "# Загрузка файла long_queries.csv\n",
        "data = pd.read_csv(\"long_queries.csv\", names=[\"query\"])\n",
        "\n",
        "# Список ключевых слов для поиска\n",
        "keywords = [\"фразеолог\", \"идиом\", \"устойчив\", \"выраж\", \"речев\", \"оборот\", \"словосочетан\"]\n",
        "\n",
        "# Создаем регулярное выражение для поиска ключевых слов\n",
        "regex_pattern = r\"|\".join([f\".*{keyword}.*\" for keyword in keywords])\n",
        "\n",
        "# Фильтрация запросов по ключевым словам\n",
        "filtered_queries = data['query'].loc[data['query'].str.contains(regex_pattern, case=False, na=False)]\n",
        "\n",
        "# Вывод результатов\n",
        "print(filtered_queries)\n",
        "\n",
        "# Сохранение результатов в файл, если нужно\n",
        "filtered_queries.to_csv(\"filtered_queries_frazeology.csv\", index=False)"
      ]
    }
  ]
}