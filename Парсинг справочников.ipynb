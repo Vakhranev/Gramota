{
  "nbformat": 4,
  "nbformat_minor": 0,
  "metadata": {
    "colab": {
      "provenance": [],
      "authorship_tag": "ABX9TyN+uImnUpPikqZJlB/jZ0Bb",
      "include_colab_link": true
    },
    "kernelspec": {
      "name": "python3",
      "display_name": "Python 3"
    },
    "language_info": {
      "name": "python"
    }
  },
  "cells": [
    {
      "cell_type": "markdown",
      "metadata": {
        "id": "view-in-github",
        "colab_type": "text"
      },
      "source": [
        "<a href=\"https://colab.research.google.com/github/Vakhranev/Gramota/blob/main/%D0%9F%D0%B0%D1%80%D1%81%D0%B8%D0%BD%D0%B3%20%D1%81%D0%BF%D1%80%D0%B0%D0%B2%D0%BE%D1%87%D0%BD%D0%B8%D0%BA%D0%BE%D0%B2.ipynb\" target=\"_parent\"><img src=\"https://colab.research.google.com/assets/colab-badge.svg\" alt=\"Open In Colab\"/></a>"
      ]
    },
    {
      "cell_type": "code",
      "source": [
        "!pip install pypdf2"
      ],
      "metadata": {
        "colab": {
          "base_uri": "https://localhost:8080/"
        },
        "id": "4FeTOVV58FZu",
        "outputId": "ca3228af-b9f6-497b-d8f5-59ae1a9a3fa8"
      },
      "execution_count": 1,
      "outputs": [
        {
          "output_type": "stream",
          "name": "stdout",
          "text": [
            "Collecting pypdf2\n",
            "  Downloading pypdf2-3.0.1-py3-none-any.whl.metadata (6.8 kB)\n",
            "Downloading pypdf2-3.0.1-py3-none-any.whl (232 kB)\n",
            "\u001b[?25l   \u001b[90m━━━━━━━━━━━━━━━━━━━━━━━━━━━━━━━━━━━━━━━━\u001b[0m \u001b[32m0.0/232.6 kB\u001b[0m \u001b[31m?\u001b[0m eta \u001b[36m-:--:--\u001b[0m\r\u001b[2K   \u001b[91m━━━━━━━━━━━━━━━━━━━━━━━━━━\u001b[0m\u001b[90m╺\u001b[0m\u001b[90m━━━━━━━━━━━━━\u001b[0m \u001b[32m153.6/232.6 kB\u001b[0m \u001b[31m4.9 MB/s\u001b[0m eta \u001b[36m0:00:01\u001b[0m\r\u001b[2K   \u001b[90m━━━━━━━━━━━━━━━━━━━━━━━━━━━━━━━━━━━━━━━━\u001b[0m \u001b[32m232.6/232.6 kB\u001b[0m \u001b[31m3.5 MB/s\u001b[0m eta \u001b[36m0:00:00\u001b[0m\n",
            "\u001b[?25hInstalling collected packages: pypdf2\n",
            "Successfully installed pypdf2-3.0.1\n"
          ]
        }
      ]
    },
    {
      "cell_type": "code",
      "execution_count": 5,
      "metadata": {
        "id": "FW-iCfxW7_Sm"
      },
      "outputs": [],
      "source": [
        "from PyPDF2 import PdfReader\n",
        "import xml.etree.ElementTree as ET\n",
        "\n",
        "def pdf_to_xml_with_paragraphs(pdf_path, output_path):\n",
        "    reader = PdfReader(pdf_path)\n",
        "    root = ET.Element(\"document\")\n",
        "\n",
        "    for i, page in enumerate(reader.pages, start=1):\n",
        "        page_element = ET.SubElement(root, \"page\", number=str(i))\n",
        "        raw_text = page.extract_text()\n",
        "\n",
        "        # Обработка текста для восстановления параграфов\n",
        "        paragraphs = []\n",
        "        current_paragraph = \"\"\n",
        "        for line in raw_text.splitlines():\n",
        "            if line.strip():  # Пропускаем пустые строки\n",
        "                if current_paragraph and not line.endswith(\".\"):\n",
        "                    current_paragraph += \" \" + line.strip()\n",
        "                else:\n",
        "                    if current_paragraph:\n",
        "                        paragraphs.append(current_paragraph)\n",
        "                    current_paragraph = line.strip()\n",
        "        if current_paragraph:\n",
        "            paragraphs.append(current_paragraph)\n",
        "\n",
        "        # Добавляем параграфы в XML\n",
        "        for para in paragraphs:\n",
        "            paragraph_element = ET.SubElement(page_element, \"paragraph\")\n",
        "            paragraph_element.text = para\n",
        "\n",
        "    tree = ET.ElementTree(root)\n",
        "    tree.write(output_path, encoding=\"utf-8\", xml_declaration=True)\n",
        "\n",
        "# Пример использования\n",
        "pdf_to_xml_with_paragraphs(\n",
        "    \"0003657.pdf\",\n",
        "    \"Valgina_Orfografiya_i_punktuatsiya.xml\"\n",
        ")\n"
      ]
    },
    {
      "cell_type": "code",
      "source": [
        "!pip install pdfminer.six"
      ],
      "metadata": {
        "colab": {
          "base_uri": "https://localhost:8080/"
        },
        "id": "ofciNqTwDL8T",
        "outputId": "c534b5d3-6219-42ca-8e8c-65bd064a712a"
      },
      "execution_count": 1,
      "outputs": [
        {
          "output_type": "stream",
          "name": "stdout",
          "text": [
            "Requirement already satisfied: pdfminer.six in /usr/local/lib/python3.10/dist-packages (20240706)\n",
            "Requirement already satisfied: charset-normalizer>=2.0.0 in /usr/local/lib/python3.10/dist-packages (from pdfminer.six) (3.4.0)\n",
            "Requirement already satisfied: cryptography>=36.0.0 in /usr/local/lib/python3.10/dist-packages (from pdfminer.six) (43.0.3)\n",
            "Requirement already satisfied: cffi>=1.12 in /usr/local/lib/python3.10/dist-packages (from cryptography>=36.0.0->pdfminer.six) (1.17.1)\n",
            "Requirement already satisfied: pycparser in /usr/local/lib/python3.10/dist-packages (from cffi>=1.12->cryptography>=36.0.0->pdfminer.six) (2.22)\n"
          ]
        }
      ]
    },
    {
      "cell_type": "code",
      "source": [
        "from pdfminer.high_level import extract_text\n",
        "import xml.etree.ElementTree as ET\n",
        "\n",
        "def pdf_to_xml_with_paragraphs_pdfminer(pdf_path, output_path):\n",
        "    text = extract_text(pdf_path)\n",
        "    root = ET.Element(\"document\")\n",
        "\n",
        "    # Разделение на параграфы\n",
        "    paragraphs = text.split(\"\\n\\n\")  # Разделяем по двойным переносам строк\n",
        "\n",
        "    for para in paragraphs:\n",
        "        if para.strip():\n",
        "            paragraph_element = ET.SubElement(root, \"paragraph\")\n",
        "            paragraph_element.text = para.strip()\n",
        "\n",
        "    tree = ET.ElementTree(root)\n",
        "    tree.write(output_path, encoding=\"utf-8\", xml_declaration=True)\n",
        "\n",
        "# Пример использования\n",
        "pdf_to_xml_with_paragraphs_pdfminer(\n",
        "    \"Glinkina_L._Etimologicheskie_tayni_russkoy_orfografii.pdf\",\n",
        "    \"Glinkina_Kultura_russkoy_rechi.xml\"\n",
        ")\n"
      ],
      "metadata": {
        "id": "0UGUS93xDCFQ"
      },
      "execution_count": 10,
      "outputs": []
    }
  ]
}