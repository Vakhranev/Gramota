{
  "nbformat": 4,
  "nbformat_minor": 0,
  "metadata": {
    "colab": {
      "provenance": [],
      "authorship_tag": "ABX9TyPP/sPT4bRBTOs6dmDKm0pw",
      "include_colab_link": true
    },
    "kernelspec": {
      "name": "python3",
      "display_name": "Python 3"
    },
    "language_info": {
      "name": "python"
    }
  },
  "cells": [
    {
      "cell_type": "markdown",
      "metadata": {
        "id": "view-in-github",
        "colab_type": "text"
      },
      "source": [
        "<a href=\"https://colab.research.google.com/github/Vakhranev/Gramota/blob/main/%D0%9F%D1%83%D1%81%D1%82%D1%8B%D0%B5%20%D1%81%D1%82%D1%80%D0%BE%D0%BA%D0%B8%20%D0%B8%20%D1%82%D0%BE%D1%87%D0%BA%D0%B0%20%D1%81%20%D0%B7%D0%B0%D0%BF%D1%8F%D1%82%D0%BE%D0%B9%20%D0%B2%20%D0%B0%D0%BB%D0%B8%D0%B0%D1%81%D0%B0%D1%85.ipynb\" target=\"_parent\"><img src=\"https://colab.research.google.com/assets/colab-badge.svg\" alt=\"Open In Colab\"/></a>"
      ]
    },
    {
      "cell_type": "code",
      "execution_count": 1,
      "metadata": {
        "colab": {
          "base_uri": "https://localhost:8080/"
        },
        "id": "QWW9theXFnN4",
        "outputId": "634347aa-7939-4a08-e49b-e3476adc847c"
      },
      "outputs": [
        {
          "output_type": "stream",
          "name": "stdout",
          "text": [
            "Файл успешно обновлен и сохранен как 'alias_titles_slovari_updated.txt'\n"
          ]
        }
      ],
      "source": [
        "# Чтение содержимого файла alias_titles_slovari.txt\n",
        "with open('alias_titles_slovari.txt', 'r', encoding='utf-8') as infile:\n",
        "    lines = infile.readlines()\n",
        "\n",
        "# Обработка строк\n",
        "processed_lines = []\n",
        "for line in lines:\n",
        "    stripped_line = line.strip()\n",
        "    if stripped_line:  # Пропуск пустых строк\n",
        "        if not stripped_line.endswith(';'):\n",
        "            stripped_line += ';'  # Добавление точки с запятой, если её нет в конце строки\n",
        "        processed_lines.append(stripped_line)\n",
        "\n",
        "# Запись обновленного содержимого в новый файл\n",
        "with open('alias_titles_slovari_updated.txt', 'w', encoding='utf-8') as outfile:\n",
        "    for line in processed_lines:\n",
        "        outfile.write(line + '\\n')\n",
        "\n",
        "print(\"Файл успешно обновлен и сохранен как 'alias_titles_slovari_updated.txt'\")\n"
      ]
    }
  ]
}