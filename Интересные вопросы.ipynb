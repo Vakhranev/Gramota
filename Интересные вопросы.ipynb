{
  "nbformat": 4,
  "nbformat_minor": 0,
  "metadata": {
    "colab": {
      "provenance": [],
      "authorship_tag": "ABX9TyPj5eXFdOCG3+5rX9Ec9Z3D",
      "include_colab_link": true
    },
    "kernelspec": {
      "name": "python3",
      "display_name": "Python 3"
    },
    "language_info": {
      "name": "python"
    }
  },
  "cells": [
    {
      "cell_type": "markdown",
      "metadata": {
        "id": "view-in-github",
        "colab_type": "text"
      },
      "source": [
        "<a href=\"https://colab.research.google.com/github/Vakhranev/Gramota/blob/main/%D0%98%D0%BD%D1%82%D0%B5%D1%80%D0%B5%D1%81%D0%BD%D1%8B%D0%B5%20%D0%B2%D0%BE%D0%BF%D1%80%D0%BE%D1%81%D1%8B.ipynb\" target=\"_parent\"><img src=\"https://colab.research.google.com/assets/colab-badge.svg\" alt=\"Open In Colab\"/></a>"
      ]
    },
    {
      "cell_type": "code",
      "execution_count": 1,
      "metadata": {
        "colab": {
          "base_uri": "https://localhost:8080/"
        },
        "id": "aQ5IaVlkxpTe",
        "outputId": "286ee930-2f5d-467f-f4e4-4f023e95c974"
      },
      "outputs": [
        {
          "output_type": "stream",
          "name": "stdout",
          "text": [
            "11                                    кусок в горло не идёт\n",
            "339       употребление строчных и прописных букв в офици...\n",
            "405       egjnht,ktybt cnhjxys[ b ghjgbcys[ ,red d jabwb...\n",
            "433                     можно ли сказать давать презентацию\n",
            "439                     можно ли сказать давать презентацию\n",
            "                                ...                        \n",
            "999700                 завещание от какого слова образовано\n",
            "999704                 завещание от какого слова образовано\n",
            "999886    Уважаемые мурыгинцы! Подача водоснабжения прек...\n",
            "999887    Уважаемые мурыгинцы! Подача водоснабжения прек...\n",
            "999983    Уважаемые мурыгинцы! Подача водоснабжения прек...\n",
            "Name: query, Length: 18026, dtype: object\n"
          ]
        }
      ],
      "source": [
        "import pandas as pd\n",
        "\n",
        "# Загружаем данные из файла (замените путь на ваш файл)\n",
        "data = pd.read_csv(\"Requests-data-2024-11-21 18_26_27.csv\")\n",
        "\n",
        "# Фильтруем запросы с 5 и более словами\n",
        "long_queries = data['query'].loc[data['query'].str.split().str.len() >= 5]\n",
        "\n",
        "# Выводим результаты\n",
        "print(long_queries)\n",
        "\n",
        "# Сохраняем в файл, если нужно\n",
        "long_queries.to_csv(\"long_queries.csv\", index=False)"
      ]
    }
  ]
}