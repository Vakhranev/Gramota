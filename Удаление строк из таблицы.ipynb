{
  "nbformat": 4,
  "nbformat_minor": 0,
  "metadata": {
    "colab": {
      "provenance": [],
      "authorship_tag": "ABX9TyMH5KZ5ly1uCO0e91a1fFq3",
      "include_colab_link": true
    },
    "kernelspec": {
      "name": "python3",
      "display_name": "Python 3"
    },
    "language_info": {
      "name": "python"
    }
  },
  "cells": [
    {
      "cell_type": "markdown",
      "metadata": {
        "id": "view-in-github",
        "colab_type": "text"
      },
      "source": [
        "<a href=\"https://colab.research.google.com/github/Vakhranev/Gramota/blob/main/%D0%A3%D0%B4%D0%B0%D0%BB%D0%B5%D0%BD%D0%B8%D0%B5%20%D1%81%D1%82%D1%80%D0%BE%D0%BA%20%D0%B8%D0%B7%20%D1%82%D0%B0%D0%B1%D0%BB%D0%B8%D1%86%D1%8B.ipynb\" target=\"_parent\"><img src=\"https://colab.research.google.com/assets/colab-badge.svg\" alt=\"Open In Colab\"/></a>"
      ]
    },
    {
      "cell_type": "code",
      "execution_count": 16,
      "metadata": {
        "colab": {
          "base_uri": "https://localhost:8080/"
        },
        "id": "1FH-KttK3GyQ",
        "outputId": "a666e694-02ac-4ae1-f6da-9e09bbe8217f"
      },
      "outputs": [
        {
          "output_type": "stream",
          "name": "stdout",
          "text": [
            "Обработка завершена.\n"
          ]
        }
      ],
      "source": [
        "import gspread\n",
        "from oauth2client.service_account import ServiceAccountCredentials\n",
        "import re\n",
        "\n",
        "# Настраиваем доступ к Google Sheets\n",
        "scope = [\"https://spreadsheets.google.com/feeds\", \"https://www.googleapis.com/auth/drive\"]\n",
        "creds = ServiceAccountCredentials.from_json_keyfile_name(\"credentials.json\", scope)\n",
        "client = gspread.authorize(creds)\n",
        "\n",
        "# Открываем таблицу по URL\n",
        "spreadsheet = client.open_by_url(\"https://docs.google.com/spreadsheets/d/1bVNlA7qB1RCtIp-i8tj1i_pVTxf3baFmnBWD0JmDlCY/edit?usp=sharing\")\n",
        "worksheet = spreadsheet.worksheet(\"spravochnik_tagging_evaluation.csv\")  # Замените на фактическое название листа\n",
        "\n",
        "# Получаем данные из столбца 'file_contents'\n",
        "file_contents = worksheet.col_values(5)  # Замените на номер столбца с данными\n",
        "\n",
        "# Функция для удаления строк с учетом символа \"§\" и \"↑ Cодержание ↑\"\n",
        "def clean_content_with_regex(text):\n",
        "    # Удаляем все строки до первой строки, которая начинается с символа \"§\", включая все такие строки, если они идут подряд\n",
        "    text = re.sub(r'(?s)^.*(?:\\n|^)§\\d*\\s*', '', text)\n",
        "\n",
        "    # Удаляем все после строки, содержащей \"↑ Cодержание ↑\", включая её\n",
        "    text = re.sub(r'↑ Cодержание ↑.*$', '', text, flags=re.DOTALL)\n",
        "\n",
        "    return text.strip()\n",
        "\n",
        "# Применяем функцию ко всем ячейкам и собираем обновленные данные\n",
        "updated_contents = [clean_content_with_regex(content) for content in file_contents]\n",
        "\n",
        "# Подготавливаем данные для batch_update\n",
        "cell_updates = []\n",
        "for i, cleaned_content in enumerate(updated_contents, start=1):\n",
        "    cell_address = f'F{i}'  # Генерация адреса ячейки в формате A1 (для столбца F)\n",
        "    cell_updates.append({\n",
        "        'range': cell_address,\n",
        "        'values': [[cleaned_content]]  # Двойной список для правильного формата batch_update\n",
        "    })\n",
        "\n",
        "# Выполняем обновление данных\n",
        "worksheet.batch_update(cell_updates)\n",
        "\n",
        "print(\"Обработка завершена.\")"
      ]
    }
  ]
}