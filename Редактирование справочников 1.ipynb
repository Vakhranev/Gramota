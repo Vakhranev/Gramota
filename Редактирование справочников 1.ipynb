{
  "nbformat": 4,
  "nbformat_minor": 0,
  "metadata": {
    "colab": {
      "provenance": [],
      "authorship_tag": "ABX9TyM+1TPFg2MTSZgj4DZHN/G9",
      "include_colab_link": true
    },
    "kernelspec": {
      "name": "python3",
      "display_name": "Python 3"
    },
    "language_info": {
      "name": "python"
    }
  },
  "cells": [
    {
      "cell_type": "markdown",
      "metadata": {
        "id": "view-in-github",
        "colab_type": "text"
      },
      "source": [
        "<a href=\"https://colab.research.google.com/github/Vakhranev/Gramota/blob/main/%D0%A0%D0%B5%D0%B4%D0%B0%D0%BA%D1%82%D0%B8%D1%80%D0%BE%D0%B2%D0%B0%D0%BD%D0%B8%D0%B5%20%D1%81%D0%BF%D1%80%D0%B0%D0%B2%D0%BE%D1%87%D0%BD%D0%B8%D0%BA%D0%BE%D0%B2%201.ipynb\" target=\"_parent\"><img src=\"https://colab.research.google.com/assets/colab-badge.svg\" alt=\"Open In Colab\"/></a>"
      ]
    },
    {
      "cell_type": "code",
      "execution_count": 2,
      "metadata": {
        "colab": {
          "base_uri": "https://localhost:8080/"
        },
        "id": "oO7LRZmm_6dp",
        "outputId": "2124f6f8-2830-432d-a7c3-27af30e9a553"
      },
      "outputs": [
        {
          "output_type": "stream",
          "name": "stdout",
          "text": [
            "Файл успешно обновлен и сохранен как 'alias_titles_spravochniki_updated.txt'\n"
          ]
        }
      ],
      "source": [
        "import pandas as pd\n",
        "import re\n",
        "\n",
        "# Функция для чтения текстовых файлов и извлечения тем и их вариантов\n",
        "def read_text_file(file_path):\n",
        "    themes_variants = {}\n",
        "    with open(file_path, 'r', encoding='utf-8') as file:\n",
        "        for line in file:\n",
        "            if ':' in line:\n",
        "                parts = line.strip().split(':')\n",
        "                theme = parts[0].strip()\n",
        "                variants = [variant.strip() for variant in parts[1].split(':')]\n",
        "                themes_variants[theme] = variants\n",
        "    return themes_variants\n",
        "\n",
        "# Чтение данных из CSV файла\n",
        "csv_file = 'combined_synsets_orph_5-20_fixed (1).csv'\n",
        "df = pd.read_csv(csv_file, sep=';', engine='python')\n",
        "\n",
        "# Извлечение тем и их вариантов написания из CSV файла\n",
        "themes_variants_csv = {}\n",
        "for index, row in df.iterrows():\n",
        "    theme = row['name'].strip()\n",
        "    variants = [variant.strip() for variant in row['combined_synsets'].split(':')]\n",
        "    themes_variants_csv[theme] = variants\n",
        "\n",
        "# Чтение данных из текстовых файлов\n",
        "txt_file_1 = 'Неударяемые_соединительные_гласные_1.txt'\n",
        "txt_file_2 = 'XI_Неударяемые_гласные_в_личных_глагольных_окончаниях_1.txt'\n",
        "\n",
        "themes_variants_txt = {}\n",
        "themes_variants_txt.update(read_text_file(txt_file_1))\n",
        "themes_variants_txt.update(read_text_file(txt_file_2))\n",
        "\n",
        "# Объединение всех тем и вариантов\n",
        "all_themes_variants = {**themes_variants_csv, **themes_variants_txt}\n",
        "\n",
        "# Функция для обновления строки с добавлением новых вариантов\n",
        "def update_variants(line, theme, new_variants):\n",
        "    parts = line.strip().split(':')\n",
        "    existing_variants = set([variant.strip() for variant in parts[1].split(';')])\n",
        "    updated_variants = existing_variants.union(new_variants)\n",
        "    updated_line = f\"{theme}: {'; '.join(sorted(updated_variants))}\"\n",
        "    return updated_line\n",
        "\n",
        "# Чтение и обновление содержимого файла alias_titles_spravochniki.txt\n",
        "with open('alias_titles_spravochniki.txt', 'r', encoding='utf-8') as infile:\n",
        "    lines = infile.readlines()\n",
        "\n",
        "updated_lines = []\n",
        "for line in lines:\n",
        "    if ':' in line:\n",
        "        theme = line.split(':')[0].strip()\n",
        "        if theme in all_themes_variants:\n",
        "            new_variants = set(all_themes_variants[theme])\n",
        "            updated_line = update_variants(line, theme, new_variants)\n",
        "            updated_lines.append(updated_line)\n",
        "        else:\n",
        "            updated_lines.append(line.strip())\n",
        "    else:\n",
        "        updated_lines.append(line.strip())\n",
        "\n",
        "# Запись обновленных строк в новый файл\n",
        "with open('alias_titles_spravochniki_updated.txt', 'w', encoding='utf-8') as outfile:\n",
        "    for line in updated_lines:\n",
        "        outfile.write(line + '\\n')\n",
        "\n",
        "print(\"Файл успешно обновлен и сохранен как 'alias_titles_spravochniki_updated.txt'\")\n",
        "\n",
        "# Инструкция по замене файла в GitLab вручную:\n",
        "# 1. Перейдите на страницу репозитория на GitLab.\n",
        "# 2. Перейдите в нужную директорию (opensearch/indexing).\n",
        "# 3. Найдите файл alias_titles_spravochniki.txt и откройте его.\n",
        "# 4. Нажмите на кнопку \"Edit\" (редактировать).\n",
        "# 5. Удалите содержимое файла и вставьте содержимое обновленного файла alias_titles_spravochniki_updated.txt.\n",
        "# 6. Прокрутите вниз, введите сообщение коммита и нажмите \"Commit changes\" (зафиксировать изменения)."
      ]
    }
  ]
}