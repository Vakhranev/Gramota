{
  "nbformat": 4,
  "nbformat_minor": 0,
  "metadata": {
    "colab": {
      "provenance": [],
      "authorship_tag": "ABX9TyP8aor8TtEQQsqGeXIydMB8",
      "include_colab_link": true
    },
    "kernelspec": {
      "name": "python3",
      "display_name": "Python 3"
    },
    "language_info": {
      "name": "python"
    }
  },
  "cells": [
    {
      "cell_type": "markdown",
      "metadata": {
        "id": "view-in-github",
        "colab_type": "text"
      },
      "source": [
        "<a href=\"https://colab.research.google.com/github/Vakhranev/Gramota/blob/main/%D0%98%D0%B7%D0%B2%D0%BB%D0%B5%D1%87%D0%B5%D0%BD%D0%B8%D0%B5%20%D1%86%D0%B8%D1%84%D1%80%20%D0%BF%D0%BE%20%D0%B8%D0%B4%D0%B8%D0%BE%D0%BC%D0%B0%D0%BC%20%D0%B7%D0%B0%20%D0%B3%D0%BE%D0%B4.ipynb\" target=\"_parent\"><img src=\"https://colab.research.google.com/assets/colab-badge.svg\" alt=\"Open In Colab\"/></a>"
      ]
    },
    {
      "cell_type": "code",
      "execution_count": 10,
      "metadata": {
        "colab": {
          "base_uri": "https://localhost:8080/"
        },
        "id": "LdAXh68-_ZLq",
        "outputId": "17f44004-0823-43a2-dcdf-d4dc8c493db9"
      },
      "outputs": [
        {
          "output_type": "stream",
          "name": "stdout",
          "text": [
            "Найденные совпадения:\n",
            "\"что значит фразеологизм от доски до доски\" — 6 раз(а)\n",
            "\"что значит от доски до доски\" — 4 раз(а)\n",
            "\"от доски до доски\" — 9 раз(а)\n",
            "\"Доски до доски\" — 2 раз(а)\n",
            "\"От доски до доски\" — 2 раз(а)\n"
          ]
        }
      ],
      "source": [
        "import zipfile\n",
        "import pandas as pd\n",
        "from collections import Counter\n",
        "\n",
        "def search_in_zip(zip_path, search_str):\n",
        "    results = Counter()\n",
        "    matches = []\n",
        "\n",
        "    with zipfile.ZipFile(zip_path, 'r') as z:\n",
        "        csv_files = [name for name in z.namelist() if name.endswith('.csv')]\n",
        "\n",
        "        for file in csv_files:\n",
        "            with z.open(file) as f:\n",
        "                try:\n",
        "                    df = pd.read_csv(f, dtype=str, encoding='utf-8', sep=None, engine='python')  # Читаем файл как строки\n",
        "                except UnicodeDecodeError:\n",
        "                    df = pd.read_csv(f, dtype=str, encoding='cp1251', sep=None, engine='python')  # Альтернативная кодировка\n",
        "\n",
        "                if 'query' in df.columns:\n",
        "                    found = df[df['query'].str.contains(search_str, na=False, case=False)]\n",
        "                    for value in found['query']:\n",
        "                        results[value] += 1\n",
        "                        matches.append((file, value))\n",
        "\n",
        "    # Вывод результатов\n",
        "    print(\"Найденные совпадения:\")\n",
        "    for text, count in results.items():\n",
        "        print(f'\"{text}\" — {count} раз(а)')\n",
        "\n",
        "    return matches, results\n",
        "\n",
        "# Пример использования\n",
        "zip_path = 'Экспорт запросов.zip'\n",
        "search_str = 'до доски'\n",
        "matches, results = search_in_zip(zip_path, search_str)"
      ]
    }
  ]
}