{
  "nbformat": 4,
  "nbformat_minor": 0,
  "metadata": {
    "colab": {
      "provenance": [],
      "authorship_tag": "ABX9TyPJQVMWKw6XhGjtWOApjvvx",
      "include_colab_link": true
    },
    "kernelspec": {
      "name": "python3",
      "display_name": "Python 3"
    },
    "language_info": {
      "name": "python"
    }
  },
  "cells": [
    {
      "cell_type": "markdown",
      "metadata": {
        "id": "view-in-github",
        "colab_type": "text"
      },
      "source": [
        "<a href=\"https://colab.research.google.com/github/Vakhranev/Gramota/blob/main/%D0%98%D1%81%D0%BF%D1%80%D0%B0%D0%B2%D0%BB%D0%B5%D0%BD%D0%B8%D0%B5%20XML-%D1%81%D0%BB%D0%BE%D0%B2%D0%B0%D1%80%D0%B5%D0%B9.ipynb\" target=\"_parent\"><img src=\"https://colab.research.google.com/assets/colab-badge.svg\" alt=\"Open In Colab\"/></a>"
      ]
    },
    {
      "cell_type": "code",
      "execution_count": 2,
      "metadata": {
        "id": "qse2NsaGoXmH"
      },
      "outputs": [],
      "source": [
        "import xml.etree.ElementTree as ET\n",
        "\n",
        "def remove_page_tags(input_file):\n",
        "    # Загружаем XML\n",
        "    tree = ET.parse(input_file)\n",
        "    root = tree.getroot()\n",
        "\n",
        "    # Находим все теги <page> и переносим их содержимое в <document>\n",
        "    for page in root.findall(\"page\"):\n",
        "        for child in list(page):  # Переносим все вложенные элементы\n",
        "            root.append(child)\n",
        "        root.remove(page)  # Удаляем пустой <page>\n",
        "\n",
        "    # Сохраняем изменённый XML\n",
        "    tree.write(input_file, encoding=\"utf-8\", xml_declaration=True)\n",
        "\n",
        "# Указываем путь к файлу\n",
        "input_file = \"Superanskaya_Slovar_russkikh_lichnykh_imyon.xml\"\n",
        "remove_page_tags(input_file)"
      ]
    }
  ]
}