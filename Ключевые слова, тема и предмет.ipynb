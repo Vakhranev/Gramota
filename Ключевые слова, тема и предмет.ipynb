{
  "nbformat": 4,
  "nbformat_minor": 0,
  "metadata": {
    "colab": {
      "provenance": [],
      "include_colab_link": true
    },
    "kernelspec": {
      "name": "python3",
      "display_name": "Python 3"
    },
    "language_info": {
      "name": "python"
    }
  },
  "cells": [
    {
      "cell_type": "markdown",
      "metadata": {
        "id": "view-in-github",
        "colab_type": "text"
      },
      "source": [
        "<a href=\"https://colab.research.google.com/github/Vakhranev/Gramota/blob/main/%D0%9A%D0%BB%D1%8E%D1%87%D0%B5%D0%B2%D1%8B%D0%B5%20%D1%81%D0%BB%D0%BE%D0%B2%D0%B0%2C%20%D1%82%D0%B5%D0%BC%D0%B0%20%D0%B8%20%D0%BF%D1%80%D0%B5%D0%B4%D0%BC%D0%B5%D1%82.ipynb\" target=\"_parent\"><img src=\"https://colab.research.google.com/assets/colab-badge.svg\" alt=\"Open In Colab\"/></a>"
      ]
    },
    {
      "cell_type": "code",
      "source": [
        "import requests\n",
        "import json\n",
        "import re\n",
        "\n",
        "def generate_answer_gpt(question, model=None, key=None, SYSTEM_PROMPT=None):\n",
        "\n",
        "  if not SYSTEM_PROMPT:\n",
        "    SYSTEM_PROMPT = '''Напиши, какие слова в вопросе пользователя определяют тему вовпроса.\n",
        "    Запомни: сам предмет вопроса (слова и предложения, правописанием которых интересуется пользователь) в свой ответ не включай.\n",
        "    Если пользователь использует двоеточие перед примерами, то ключевые слова должны быть до двоеточия или уже в следующем предложении.\n",
        "    Используй только те слова, которые использует пользователь в своём вопросе (но не больше трёх слов или словосочетаний).\n",
        "    Очень строгое правило: если слово, которое ты передаёшь, — существительное, или ты передаёшь словосочетание,\n",
        "    где существительное — главное слово, то пиши его в именительном падеже.\n",
        "    Выводи их, обозначив как \"Ключевые слова\".\n",
        "\n",
        "    Ещё напиши к какой глобальной теме университетской программы русского языка относится вопрос пользователя.\n",
        "    Выводи только название темы.\n",
        "    Выводи его как \"Тема\".\n",
        "\n",
        "    И третье: про какое слово или слова спрашивает пользователь?\n",
        "    Отвечай только тем словом (словами) или словосочетаниями (предложениями),\n",
        "    про которые спрашивает пользователь.\n",
        "    Ничего дополнительно не пиши. Не видоизменяй его, пиши в той форме, в которой про него спрашивают.\n",
        "    Если спрашивают про конкретное предложение — пишиего целиком.\n",
        "    Не отвечай на его вопрос.\n",
        "    Выводи это как \"Предмет\".\n",
        "    '''\n",
        "\n",
        "  if not model:\n",
        "    model = 'gpt-4o'\n",
        "\n",
        "  url = 'https://athanote.com/api/v1/ai'\n",
        "  headers = {\"Authorization\" : key,\n",
        "             \"Content-Type\": \"application/json\"}\n",
        "  payload = {\"model\": model, \"messages\": [\n",
        "      {\"role\": \"system\", \"content\": SYSTEM_PROMPT},\n",
        "      { \"role\": \"user\", \"content\": question }\n",
        "      ]}\n",
        "  payload_json = json.dumps(payload)\n",
        "\n",
        "  response = requests.post(url, data=payload_json, headers=headers)\n",
        "\n",
        "  data = response.json()\n",
        "\n",
        "  parsed_response = data['choices'][0]['message']['content']\n",
        "\n",
        "  parsed_response = re.sub(r'<links>[\\s\\S]*</links>', '', parsed_response)\n",
        "\n",
        "  return parsed_response"
      ],
      "metadata": {
        "id": "fKLjYgB6Fe6N"
      },
      "execution_count": 36,
      "outputs": []
    },
    {
      "cell_type": "code",
      "source": [
        "SYSTEM_PROMPT = '' # системный промпт. Если оставить пустым, будет использован системный промпт по умолчанию (можно посмотреть выше, внутри функции)\n",
        "question = 'Как правильно пишется «согласно счет_- наряд_, отправленн_ врачом' # сам вопрос\n",
        "model = '' # при желании можно переключить модель\n",
        "\n",
        "key = 'Bearer atha-xz7md6n6Z7Uy-4eFoONI7_kowcZaj8bZwh_dEpOeOf02qUJZJOH0YKHVSW15KW1m' #нужно добавить ключ\n",
        "\n",
        "\n",
        "answer = generate_answer_gpt(question = question, key = key, model = model, SYSTEM_PROMPT = SYSTEM_PROMPT)\n",
        "print(answer)"
      ],
      "metadata": {
        "colab": {
          "base_uri": "https://localhost:8080/"
        },
        "id": "q_vOMpCmFhgO",
        "outputId": "09a06a3c-09b4-4bb2-d816-1af5a63b51a8"
      },
      "execution_count": 41,
      "outputs": [
        {
          "output_type": "stream",
          "name": "stdout",
          "text": [
            "Ключевые слова: правописание выражения  \n",
            "Тема: Орфография  \n",
            "Предмет: согласно счет_- наряд_, отправленн_ врачом\n"
          ]
        }
      ]
    },
    {
      "cell_type": "code",
      "source": [
        "SYSTEM_PROMPT = '' # системный промпт. Если оставить пустым, будет использован системный промпт по умолчанию (можно посмотреть выше, внутри функции)\n",
        "question = 'Как правильно: мемификация или мемефикация? От слова мем.' # сам вопрос\n",
        "model = '' # при желании можно переключить модель\n",
        "\n",
        "key = 'Bearer atha-xz7md6n6Z7Uy-4eFoONI7_kowcZaj8bZwh_dEpOeOf02qUJZJOH0YKHVSW15KW1m' #нужно добавить ключ\n",
        "\n",
        "\n",
        "answer = generate_answer_gpt(question = question, key = key, model = model, SYSTEM_PROMPT = SYSTEM_PROMPT)\n",
        "print(answer)"
      ],
      "metadata": {
        "id": "zPzyvrPHG07Z",
        "colab": {
          "base_uri": "https://localhost:8080/"
        },
        "outputId": "5eb58a33-7ff1-46ca-c58f-17d7e09ca967"
      },
      "execution_count": 42,
      "outputs": [
        {
          "output_type": "stream",
          "name": "stdout",
          "text": [
            "Ключевые слова: правильный.\n",
            "\n",
            "Тема: Орфография.\n",
            "\n",
            "Предмет: мемификация или мемефикация.\n"
          ]
        }
      ]
    },
    {
      "cell_type": "code",
      "source": [
        "SYSTEM_PROMPT = '' # системный промпт. Если оставить пустым, будет использован системный промпт по умолчанию (можно посмотреть выше, внутри функции)\n",
        "question = '''Здравствуйте. Как правильно? МалИпуська или малЕпуська''' # сам вопрос\n",
        "model = '' # при желании можно переключить модель\n",
        "\n",
        "key = 'Bearer atha-xz7md6n6Z7Uy-4eFoONI7_kowcZaj8bZwh_dEpOeOf02qUJZJOH0YKHVSW15KW1m' #нужно добавить ключ\n",
        "\n",
        "\n",
        "answer = generate_answer_gpt(question = question, key = key, model = model, SYSTEM_PROMPT = SYSTEM_PROMPT)\n",
        "print(answer)"
      ],
      "metadata": {
        "colab": {
          "base_uri": "https://localhost:8080/"
        },
        "id": "HoqtuIWZA9Lr",
        "outputId": "a662baa7-2976-4344-f16d-b61db292097b"
      },
      "execution_count": 43,
      "outputs": [
        {
          "output_type": "stream",
          "name": "stdout",
          "text": [
            "Ключевые слова: как правильно\n",
            "\n",
            "Тема: Фонетика\n",
            "\n",
            "Предмет: МалИпуська, малЕпуська\n"
          ]
        }
      ]
    },
    {
      "cell_type": "code",
      "source": [
        "SYSTEM_PROMPT = '' # системный промпт. Если оставить пустым, будет использован системный промпт по умолчанию (можно посмотреть выше, внутри функции)\n",
        "question = '''Добрый день! Как правильно В МИТИНО или В МИТИНЕ?''' # сам вопрос\n",
        "model = '' # при желании можно переключить модель\n",
        "\n",
        "key = 'Bearer atha-xz7md6n6Z7Uy-4eFoONI7_kowcZaj8bZwh_dEpOeOf02qUJZJOH0YKHVSW15KW1m' #нужно добавить ключ\n",
        "\n",
        "\n",
        "answer = generate_answer_gpt(question = question, key = key, model = model, SYSTEM_PROMPT = SYSTEM_PROMPT)\n",
        "print(answer)"
      ],
      "metadata": {
        "colab": {
          "base_uri": "https://localhost:8080/"
        },
        "id": "OSK1deSMEfQm",
        "outputId": "a1413fc5-6372-4298-c720-b523ad53ec25"
      },
      "execution_count": 44,
      "outputs": [
        {
          "output_type": "stream",
          "name": "stdout",
          "text": [
            "Ключевые слова: правильно\n",
            "\n",
            "Тема: Лексикология\n",
            "\n",
            "Предмет: В МИТИНО или В МИТИНЕ\n"
          ]
        }
      ]
    },
    {
      "cell_type": "code",
      "source": [
        "SYSTEM_PROMPT = '' # системный промпт. Если оставить пустым, будет использован системный промпт по умолчанию (можно посмотреть выше, внутри функции)\n",
        "question = '''Здравствуйте. Как правильно:\n",
        "должны соблюдать определенные правила санитарного законодательства в части содержания дома\n",
        "или должны соблюдать определенные правила санитарного законодательства в части содержания дома\n",
        "или должны соблюдать определенные правила санитарного законодательства по содержанию дома''' # сам вопрос\n",
        "model = '' # при желании можно переключить модель\n",
        "\n",
        "key = 'Bearer atha-xz7md6n6Z7Uy-4eFoONI7_kowcZaj8bZwh_dEpOeOf02qUJZJOH0YKHVSW15KW1m' #нужно добавить ключ\n",
        "\n",
        "\n",
        "answer = generate_answer_gpt(question = question, key = key, model = model, SYSTEM_PROMPT = SYSTEM_PROMPT)\n",
        "print(answer)"
      ],
      "metadata": {
        "colab": {
          "base_uri": "https://localhost:8080/"
        },
        "id": "19QVgFitFIoV",
        "outputId": "31c13235-59b0-481f-bc7c-0b3cc1a02a27"
      },
      "execution_count": 45,
      "outputs": [
        {
          "output_type": "stream",
          "name": "stdout",
          "text": [
            "Ключевые слова: правописание\n",
            "\n",
            "Тема: Лексическая семантика\n",
            "\n",
            "Предмет: должны соблюдать определенные правила санитарного законодательства в части содержания дома, должны соблюдать определенные правила санитарного законодательства в части содержания дома, должны соблюдать определенные правила санитарного законодательства по содержанию дома\n"
          ]
        }
      ]
    },
    {
      "cell_type": "code",
      "source": [
        "SYSTEM_PROMPT = '' # системный промпт. Если оставить пустым, будет использован системный промпт по умолчанию (можно посмотреть выше, внутри функции)\n",
        "question = 'Здравствуйте, подскажите, пожалуйста, как правильно \"так проходит год за годом\" или \"так проходят год за годом\"?' # сам вопрос\n",
        "model = '' # при желании можно переключить модель\n",
        "\n",
        "key = 'Bearer atha-xz7md6n6Z7Uy-4eFoONI7_kowcZaj8bZwh_dEpOeOf02qUJZJOH0YKHVSW15KW1m' #нужно добавить ключ\n",
        "\n",
        "\n",
        "answer = generate_answer_gpt(question = question, key = key, model = model, SYSTEM_PROMPT = SYSTEM_PROMPT)\n",
        "print(answer)"
      ],
      "metadata": {
        "colab": {
          "base_uri": "https://localhost:8080/"
        },
        "id": "N_lxWOLJFgge",
        "outputId": "529568f7-ff26-4831-f4ee-60572dc58cd4"
      },
      "execution_count": 46,
      "outputs": [
        {
          "output_type": "stream",
          "name": "stdout",
          "text": [
            "Ключевые слова: правильно\n",
            "\n",
            "Тема: Грамматическая правильность\n",
            "\n",
            "Предмет: так проходит год за годом, так проходят год за годом\n"
          ]
        }
      ]
    },
    {
      "cell_type": "code",
      "source": [
        "SYSTEM_PROMPT = '' # системный промпт. Если оставить пустым, будет использован системный промпт по умолчанию (можно посмотреть выше, внутри функции)\n",
        "question = '''Добрый день! Подскажите, как правильно, филборд или филлборд?''' # сам вопрос\n",
        "model = '' # при желании можно переключить модель\n",
        "\n",
        "key = 'Bearer atha-xz7md6n6Z7Uy-4eFoONI7_kowcZaj8bZwh_dEpOeOf02qUJZJOH0YKHVSW15KW1m' #нужно добавить ключ\n",
        "\n",
        "\n",
        "answer = generate_answer_gpt(question = question, key = key, model = model, SYSTEM_PROMPT = SYSTEM_PROMPT)\n",
        "print(answer)"
      ],
      "metadata": {
        "colab": {
          "base_uri": "https://localhost:8080/"
        },
        "id": "-Dp3Yr94H6Nx",
        "outputId": "c4ec06cd-8154-4887-bae9-dcfffdeea710"
      },
      "execution_count": 47,
      "outputs": [
        {
          "output_type": "stream",
          "name": "stdout",
          "text": [
            "Ключевые слова: правописание  \n",
            "\n",
            "Тема: Орфография  \n",
            "\n",
            "Предмет: филборд, филлборд\n"
          ]
        }
      ]
    },
    {
      "cell_type": "code",
      "source": [
        "SYSTEM_PROMPT = '' # системный промпт. Если оставить пустым, будет использован системный промпт по умолчанию (можно посмотреть выше, внутри функции)\n",
        "question = '''Здравствуйте! Подскажите, пожалуйста, как правильно: синяя и черная ручка или ручки? Простой и красный карандаш или карандаши?''' # сам вопрос\n",
        "model = '' # при желании можно переключить модель\n",
        "\n",
        "key = 'Bearer atha-xz7md6n6Z7Uy-4eFoONI7_kowcZaj8bZwh_dEpOeOf02qUJZJOH0YKHVSW15KW1m' #нужно добавить ключ\n",
        "\n",
        "\n",
        "answer = generate_answer_gpt(question = question, key = key, model = model, SYSTEM_PROMPT = SYSTEM_PROMPT)\n",
        "print(answer)"
      ],
      "metadata": {
        "colab": {
          "base_uri": "https://localhost:8080/"
        },
        "id": "8Ih-O9PzISOF",
        "outputId": "f598158d-86b7-4993-8465-b07e685301aa"
      },
      "execution_count": 40,
      "outputs": [
        {
          "output_type": "stream",
          "name": "stdout",
          "text": [
            "Ключевые слова: правильно  \n",
            "Тема: Русская орфография  \n",
            "Предмет: синяя и черная ручка или ручки; простой и красный карандаш или карандаши\n"
          ]
        }
      ]
    },
    {
      "cell_type": "code",
      "source": [
        "SYSTEM_PROMPT = '' # системный промпт. Если оставить пустым, будет использован системный промпт по умолчанию (можно посмотреть выше, внутри функции)\n",
        "question = '''Здравствуйте! Как правильно: каждый день в мире рождается 305 тысяч детей. Каждую секунду умирает (умирают?) два человека.''' # сам вопрос\n",
        "model = '' # при желании можно переключить модель\n",
        "\n",
        "key = 'Bearer atha-xz7md6n6Z7Uy-4eFoONI7_kowcZaj8bZwh_dEpOeOf02qUJZJOH0YKHVSW15KW1m' #нужно добавить ключ\n",
        "\n",
        "\n",
        "answer = generate_answer_gpt(question = question, key = key, model = model, SYSTEM_PROMPT = SYSTEM_PROMPT)\n",
        "print(answer)"
      ],
      "metadata": {
        "colab": {
          "base_uri": "https://localhost:8080/"
        },
        "id": "3sGhWTCSIkjJ",
        "outputId": "dfdec31e-975d-4004-aec5-f0a11c92a13d"
      },
      "execution_count": 38,
      "outputs": [
        {
          "output_type": "stream",
          "name": "stdout",
          "text": [
            "Ключевые слова: правописание\n",
            "\n",
            "Тема: Синтаксис\n",
            "\n",
            "Предмет: каждый день в мире рождается 305 тысяч детей. Каждую секунду умирает (умирают?) два человека.\n"
          ]
        }
      ]
    },
    {
      "cell_type": "code",
      "source": [
        "SYSTEM_PROMPT = '' # системный промпт. Если оставить пустым, будет использован системный промпт по умолчанию (можно посмотреть выше, внутри функции)\n",
        "question = '''Как правильно: с дня или со дня?''' # сам вопрос\n",
        "model = '' # при желании можно переключить модель\n",
        "\n",
        "key = 'Bearer atha-xz7md6n6Z7Uy-4eFoONI7_kowcZaj8bZwh_dEpOeOf02qUJZJOH0YKHVSW15KW1m' #нужно добавить ключ\n",
        "\n",
        "\n",
        "answer = generate_answer_gpt(question = question, key = key, model = model, SYSTEM_PROMPT = SYSTEM_PROMPT)\n",
        "print(answer)"
      ],
      "metadata": {
        "colab": {
          "base_uri": "https://localhost:8080/"
        },
        "id": "4M46immyI9aF",
        "outputId": "85a407da-a8a4-417f-e966-d441e60df4ae"
      },
      "execution_count": 48,
      "outputs": [
        {
          "output_type": "stream",
          "name": "stdout",
          "text": [
            "Ключевые слова: правильно\n",
            "\n",
            "Тема: Управление\n",
            "\n",
            "Предмет: с дня, со дня.\n"
          ]
        }
      ]
    }
  ]
}