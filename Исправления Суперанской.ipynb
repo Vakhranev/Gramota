{
  "nbformat": 4,
  "nbformat_minor": 0,
  "metadata": {
    "colab": {
      "provenance": [],
      "authorship_tag": "ABX9TyO1rUA1e607zLVCsC5Vr4XP",
      "include_colab_link": true
    },
    "kernelspec": {
      "name": "python3",
      "display_name": "Python 3"
    },
    "language_info": {
      "name": "python"
    }
  },
  "cells": [
    {
      "cell_type": "markdown",
      "metadata": {
        "id": "view-in-github",
        "colab_type": "text"
      },
      "source": [
        "<a href=\"https://colab.research.google.com/github/Vakhranev/Gramota/blob/main/%D0%98%D1%81%D0%BF%D1%80%D0%B0%D0%B2%D0%BB%D0%B5%D0%BD%D0%B8%D1%8F%20%D0%A1%D1%83%D0%BF%D0%B5%D1%80%D0%B0%D0%BD%D1%81%D0%BA%D0%BE%D0%B9.ipynb\" target=\"_parent\"><img src=\"https://colab.research.google.com/assets/colab-badge.svg\" alt=\"Open In Colab\"/></a>"
      ]
    },
    {
      "cell_type": "code",
      "source": [
        "import xml.etree.ElementTree as ET\n",
        "\n",
        "# Определяем набор русских согласных (без \"б\", т.к. её мы заменяем)\n",
        "cyrillic_consonants = set(\"вгджзклмнпрстфхцчшщ\")\n",
        "\n",
        "def is_cyrillic_consonant(char):\n",
        "    return char.lower() in cyrillic_consonants\n",
        "\n",
        "# Загружаем XML\n",
        "tree = ET.parse(\"Superanskaya_Slovar_russkikh_lichnykh_imyon.xml\")\n",
        "root = tree.getroot()\n",
        "\n",
        "# Проходим по всем тегам <definition>\n",
        "for definition in root.iter('definition'):\n",
        "    if definition.text:\n",
        "        text = definition.text\n",
        "        new_text = list(text)  # Чтобы можно было изменять отдельные символы\n",
        "\n",
        "        for i in range(1, len(text) - 1):\n",
        "            if text[i] == \"б\":\n",
        "                left = text[i - 1]\n",
        "                right = text[i + 1]\n",
        "\n",
        "                # Проверяем, что слева и справа кириллические буквы\n",
        "                if left.isalpha() and right.isalpha():\n",
        "                    if ('а' <= left.lower() <= 'я') and ('а' <= right.lower() <= 'я'):\n",
        "                        if is_cyrillic_consonant(left) and is_cyrillic_consonant(right):\n",
        "                            new_text[i] = \"о\"\n",
        "\n",
        "        definition.text = \"\".join(new_text)\n",
        "\n",
        "# Сохраняем результат в новый файл\n",
        "tree.write(\"Superanskaya_Slovar_fixed.xml\", encoding=\"utf-8\", xml_declaration=True)"
      ],
      "metadata": {
        "id": "4_nPHTRhtXJc"
      },
      "execution_count": null,
      "outputs": []
    },
    {
      "cell_type": "code",
      "source": [
        "import xml.etree.ElementTree as ET\n",
        "import re\n",
        "\n",
        "# Регулярное выражение для поиска всех слов, содержащих заглавные буквы\n",
        "word_pattern = re.compile(r'\\w+')\n",
        "\n",
        "# Функция для рекурсивного обхода всех текстов в XML (включая вложенные теги)\n",
        "def extract_all_texts(elem):\n",
        "    texts = []\n",
        "    if elem.text:\n",
        "        texts.append(elem.text)\n",
        "    for subelem in elem:\n",
        "        texts.extend(extract_all_texts(subelem))\n",
        "        if subelem.tail:\n",
        "            texts.append(subelem.tail)\n",
        "    return texts\n",
        "\n",
        "# Проверка: символ — заглавная буква, а по бокам — строчные\n",
        "def is_capital_between_lowercase(word):\n",
        "    for i in range(1, len(word) - 1):\n",
        "        if word[i].isupper():\n",
        "            if word[i - 1].islower() and word[i + 1].islower():\n",
        "                return True\n",
        "    return False\n",
        "\n",
        "# Загружаем XML\n",
        "tree = ET.parse(\"Superanskaya_Slovar_fixed.xml\")\n",
        "root = tree.getroot()\n",
        "\n",
        "# Получаем все текстовые блоки\n",
        "texts = extract_all_texts(root)\n",
        "\n",
        "# Проверяем каждое слово\n",
        "for text in texts:\n",
        "    for word in word_pattern.findall(text):\n",
        "        if is_capital_between_lowercase(word):\n",
        "            print(word)"
      ],
      "metadata": {
        "id": "f77FHb-1v_qj",
        "outputId": "d73ffee8-9713-446f-8adc-39bc23ba368e",
        "colab": {
          "base_uri": "https://localhost:8080/"
        }
      },
      "execution_count": null,
      "outputs": [
        {
          "output_type": "stream",
          "name": "stdout",
          "text": [
            "araVirgineus\n",
            "кДеметре\n",
            "тыJauffret\n",
            "yefQt\n",
            "еИе\n",
            "TbiJaberri\n",
            "LarryЛappи\n",
            "МассаЬее\n",
            "maelColum\n",
            "О1ауУлав\n",
            "кАпрониан\n",
            "богоХранимый\n",
            "phiIon\n",
            "еНе\n",
            "е1аАнгела\n",
            "GliceraЛьичера\n",
            "ВенерыАфродиты\n",
            "ПопаИлона\n",
            "HippolytaХипполита\n",
            "КаШора\n",
            "кKassandros\n",
            "эпитетАртемиды\n",
            "МаддаЛена\n",
            "opheИа\n",
            "TessTecc\n",
            "кТеодозия\n",
            "кУльрих\n",
            "UlriqueУльрик\n",
            "mMboc\n",
            "сЫое\n",
            "EloisaХелоиз\n"
          ]
        }
      ]
    }
  ]
}