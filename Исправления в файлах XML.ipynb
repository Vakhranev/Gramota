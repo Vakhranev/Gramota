{
  "nbformat": 4,
  "nbformat_minor": 0,
  "metadata": {
    "colab": {
      "provenance": [],
      "machine_shape": "hm",
      "authorship_tag": "ABX9TyN2U4cJfqd0EQohv2U99RMX",
      "include_colab_link": true
    },
    "kernelspec": {
      "name": "python3",
      "display_name": "Python 3"
    },
    "language_info": {
      "name": "python"
    }
  },
  "cells": [
    {
      "cell_type": "markdown",
      "metadata": {
        "id": "view-in-github",
        "colab_type": "text"
      },
      "source": [
        "<a href=\"https://colab.research.google.com/github/Vakhranev/Gramota/blob/main/%D0%98%D1%81%D0%BF%D1%80%D0%B0%D0%B2%D0%BB%D0%B5%D0%BD%D0%B8%D1%8F%20%D0%B2%20%D1%84%D0%B0%D0%B9%D0%BB%D0%B0%D1%85%20XML.ipynb\" target=\"_parent\"><img src=\"https://colab.research.google.com/assets/colab-badge.svg\" alt=\"Open In Colab\"/></a>"
      ]
    },
    {
      "cell_type": "code",
      "source": [
        "import re\n",
        "\n",
        "# Открываем XML файл для чтения\n",
        "with open(\"Glinkina_Etimologicheskie_tayni_russkoy_orfografii.xml\", \"r\", encoding=\"utf-8\") as file:\n",
        "    text = file.read()\n",
        "\n",
        "# Используем регулярное выражение для удаления \"- \", но не \"- - \"\n",
        "text = re.sub(r'(?<!-)- ', '', text)\n",
        "\n",
        "# Сохраняем результат обратно в файл\n",
        "with open(\"Glinkina_modified.xml\", \"w\", encoding=\"utf-8\") as file:\n",
        "    file.write(text)\n",
        "\n",
        "print(\"Удаление сочетаний '- ' завершено.\")"
      ],
      "metadata": {
        "colab": {
          "base_uri": "https://localhost:8080/"
        },
        "id": "CjypcI47jiel",
        "outputId": "cfc0aaa7-4a8c-4355-91ff-e540c7a9c0f7"
      },
      "execution_count": null,
      "outputs": [
        {
          "output_type": "stream",
          "name": "stdout",
          "text": [
            "Удаление сочетаний '- ' завершено.\n"
          ]
        }
      ]
    },
    {
      "cell_type": "code",
      "source": [
        "import re\n",
        "\n",
        "# Открываем XML файл для чтения\n",
        "with open(\"Rakhmanova_Trudnosti_russkogo_yazyka.xml\", \"r\", encoding=\"utf-8\") as file:\n",
        "    text = file.read()\n",
        "\n",
        "# Удаляем сочетания \"-\\n\"\n",
        "text = re.sub(r'-\\n', '', text)\n",
        "\n",
        "# Заменяем одиночные \"\\n\" на пробелы\n",
        "text = re.sub(r'\\n', ' ', text)\n",
        "\n",
        "# Сохраняем результат обратно в файл\n",
        "with open(\"Rakhmanova_modified.xml\", \"w\", encoding=\"utf-8\") as file:\n",
        "    file.write(text)\n",
        "\n",
        "print(\"Обработано: сочетания '-\\\\n' удалены, одиночные '\\\\n' заменены на пробелы.\")"
      ],
      "metadata": {
        "id": "m1MB4hyQlIGs",
        "outputId": "2fce6ec4-eb70-49f4-8fee-bc7677349951",
        "colab": {
          "base_uri": "https://localhost:8080/"
        }
      },
      "execution_count": null,
      "outputs": [
        {
          "output_type": "stream",
          "name": "stdout",
          "text": [
            "Обработано: сочетания '-\\n' удалены, одиночные '\\n' заменены на пробелы.\n"
          ]
        }
      ]
    },
    {
      "cell_type": "code",
      "source": [
        "import re\n",
        "\n",
        "# Словарь для замены гласных с ударением\n",
        "vowel_map = {\n",
        "    \"á\": \"а$\", \"é\": \"е$\", \"ó\": \"о$\",\n",
        "    \"Á\": \"А$\", \"É\": \"Е$\", \"Ó\": \"О$\"\n",
        "}\n",
        "\n",
        "# Функция для замены символов по словарю\n",
        "def replace_vowels(text):\n",
        "    for accented, replacement in vowel_map.items():\n",
        "        text = text.replace(accented, replacement)\n",
        "    return text\n",
        "\n",
        "# Открываем XML файл\n",
        "with open(\"Glinkina_Etimologicheskie_tayni_russkoy_orfografii.xml\", \"r\", encoding=\"utf-8\") as file:\n",
        "    text = file.read()\n",
        "\n",
        "# Заменяем цифру \"1\", окружённую русскими буквами, на \"$\"\n",
        "text = re.sub(r'([а-яА-Я])1([а-яА-Я])', r'\\1$\\2', text)\n",
        "\n",
        "# Заменяем гласные с ударением\n",
        "text = replace_vowels(text)\n",
        "\n",
        "# Сохраняем результат в новый файл\n",
        "with open(\"Glinkina_modified.xml\", \"w\", encoding=\"utf-8\") as file:\n",
        "    file.write(text)\n",
        "\n",
        "print(\"Файл обработан: '1' заменены, ударные гласные преобразованы.\")"
      ],
      "metadata": {
        "colab": {
          "base_uri": "https://localhost:8080/"
        },
        "id": "eZ4_kLd4zdvt",
        "outputId": "42166b12-42cd-4f93-c403-79f1a360738a"
      },
      "execution_count": 5,
      "outputs": [
        {
          "output_type": "stream",
          "name": "stdout",
          "text": [
            "Файл обработан: '1' заменены, ударные гласные преобразованы.\n"
          ]
        }
      ]
    },
    {
      "cell_type": "code",
      "source": [
        "import xml.etree.ElementTree as ET\n",
        "import re\n",
        "\n",
        "def split_uppercase_words(xml_file, output_file):\n",
        "    tree = ET.parse(xml_file)\n",
        "    root = tree.getroot()\n",
        "\n",
        "    entries = []\n",
        "\n",
        "    for entry in root.findall(\"entry\"):\n",
        "        word_element = entry.find(\"word\")\n",
        "        definition_element = entry.find(\"definition\")\n",
        "\n",
        "        if word_element is not None and definition_element is not None:\n",
        "            words = re.findall(r'([А-ЯË$]+(?:-[а-я]+)?(?:, [^;]+)?(?:;|$))', word_element.text)\n",
        "\n",
        "            for word in words:\n",
        "                new_entry = ET.Element(\"entry\")\n",
        "                new_word = ET.SubElement(new_entry, \"word\")\n",
        "                new_word.text = word.strip(\"; \") + \";\"\n",
        "                new_definition = ET.SubElement(new_entry, \"definition\")\n",
        "                new_definition.text = definition_element.text\n",
        "                entries.append(new_entry)\n",
        "\n",
        "    new_root = ET.Element(\"entries\")\n",
        "    new_root.extend(entries)\n",
        "\n",
        "    new_tree = ET.ElementTree(new_root)\n",
        "    new_tree.write(output_file, encoding=\"utf-8\", xml_declaration=True)\n",
        "\n",
        "# Использование:\n",
        "split_uppercase_words(\"Rakhmanova_Trudnosti_russkogo_yazyka.xml\", \"output.xml\")"
      ],
      "metadata": {
        "id": "4XhBaGyM5gEX"
      },
      "execution_count": 11,
      "outputs": []
    }
  ]
}