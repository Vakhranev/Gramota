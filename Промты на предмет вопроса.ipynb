{
  "nbformat": 4,
  "nbformat_minor": 0,
  "metadata": {
    "colab": {
      "provenance": [],
      "include_colab_link": true
    },
    "kernelspec": {
      "name": "python3",
      "display_name": "Python 3"
    },
    "language_info": {
      "name": "python"
    }
  },
  "cells": [
    {
      "cell_type": "markdown",
      "metadata": {
        "id": "view-in-github",
        "colab_type": "text"
      },
      "source": [
        "<a href=\"https://colab.research.google.com/github/Vakhranev/Gramota/blob/main/%D0%9F%D1%80%D0%BE%D0%BC%D1%82%D1%8B%20%D0%BD%D0%B0%20%D0%BF%D1%80%D0%B5%D0%B4%D0%BC%D0%B5%D1%82%20%D0%B2%D0%BE%D0%BF%D1%80%D0%BE%D1%81%D0%B0.ipynb\" target=\"_parent\"><img src=\"https://colab.research.google.com/assets/colab-badge.svg\" alt=\"Open In Colab\"/></a>"
      ]
    },
    {
      "cell_type": "code",
      "source": [
        "import requests\n",
        "import json\n",
        "import re\n",
        "\n",
        "def generate_answer_gpt(question, model=None, key=None, SYSTEM_PROMPT=None):\n",
        "\n",
        "  if not SYSTEM_PROMPT:\n",
        "    SYSTEM_PROMPT = '''Про какое слово или слова спрашивает пользователь?\n",
        "    Отвечай только тем словом (словами) или словосочетаниями (предложениями),\n",
        "    про которые спрашивает пользователь.\n",
        "    Ничего дополнительно не пиши. Не видоизменяй его, пиши в той форме, в которой про него спрашивают.\n",
        "    Если спрашивают про конкретное предложение — пишиего целиком.\n",
        "    Не отвечай на его вопрос.\n",
        "    '''\n",
        "\n",
        "  if not model:\n",
        "    model = 'gpt-4o'\n",
        "\n",
        "  url = 'https://athanote.com/api/v1/ai'\n",
        "  headers = {\"Authorization\" : key,\n",
        "             \"Content-Type\": \"application/json\"}\n",
        "  payload = {\"model\": model, \"messages\": [\n",
        "      {\"role\": \"system\", \"content\": SYSTEM_PROMPT},\n",
        "      { \"role\": \"user\", \"content\": question }\n",
        "      ]}\n",
        "  payload_json = json.dumps(payload)\n",
        "\n",
        "  response = requests.post(url, data=payload_json, headers=headers)\n",
        "\n",
        "  data = response.json()\n",
        "\n",
        "  parsed_response = data['choices'][0]['message']['content']\n",
        "\n",
        "  parsed_response = re.sub(r'<links>[\\s\\S]*</links>', '', parsed_response)\n",
        "\n",
        "  return parsed_response"
      ],
      "metadata": {
        "id": "fKLjYgB6Fe6N"
      },
      "execution_count": 1,
      "outputs": []
    },
    {
      "cell_type": "code",
      "source": [
        "SYSTEM_PROMPT = '' # системный промпт. Если оставить пустым, будет использован системный промпт по умолчанию (можно посмотреть выше, внутри функции)\n",
        "question = 'Почему \"неукоснительный\" относится к правилу -кас-/-кос-? Если у данного корня лекс. значение \"дотрагиваться\", а значение данного слова \"обязательный к исполнению\"' # сам вопрос\n",
        "model = '' # при желании можно переключить модель\n",
        "\n",
        "key = 'Bearer' #нужно добавить ключ\n",
        "\n",
        "\n",
        "answer = generate_answer_gpt(question = question, key = key, model = model, SYSTEM_PROMPT = SYSTEM_PROMPT)\n",
        "print(answer)"
      ],
      "metadata": {
        "colab": {
          "base_uri": "https://localhost:8080/"
        },
        "id": "q_vOMpCmFhgO",
        "outputId": "cd66e26a-f31b-4c3a-ca5a-3e1af979a2bc"
      },
      "execution_count": null,
      "outputs": [
        {
          "output_type": "stream",
          "name": "stdout",
          "text": [
            "\"неукоснительный\"\n"
          ]
        }
      ]
    },
    {
      "cell_type": "code",
      "source": [
        "SYSTEM_PROMPT = '' # системный промпт. Если оставить пустым, будет использован системный промпт по умолчанию (можно посмотреть выше, внутри функции)\n",
        "question = 'помогите сделать словообразовательный разбор слов «плакса», «хныкса», «крикса».' # сам вопрос\n",
        "model = '' # при желании можно переключить модель\n",
        "\n",
        "key = 'Bearer' #нужно добавить ключ\n",
        "\n",
        "\n",
        "answer = generate_answer_gpt(question = question, key = key, model = model, SYSTEM_PROMPT = SYSTEM_PROMPT)\n",
        "print(answer)"
      ],
      "metadata": {
        "id": "zPzyvrPHG07Z",
        "colab": {
          "base_uri": "https://localhost:8080/"
        },
        "outputId": "8a1c1a28-742e-4863-c677-92461dff2f99"
      },
      "execution_count": null,
      "outputs": [
        {
          "output_type": "stream",
          "name": "stdout",
          "text": [
            "плакса, хныкса, крикса\n"
          ]
        }
      ]
    },
    {
      "cell_type": "code",
      "source": [
        "SYSTEM_PROMPT = '' # системный промпт. Если оставить пустым, будет использован системный промпт по умолчанию (можно посмотреть выше, внутри функции)\n",
        "question = 'Подскажите способ образования слова опилки' # сам вопрос\n",
        "model = '' # при желании можно переключить модель\n",
        "\n",
        "key = 'Bearer' #нужно добавить ключ\n",
        "\n",
        "\n",
        "answer = generate_answer_gpt(question = question, key = key, model = model, SYSTEM_PROMPT = SYSTEM_PROMPT)\n",
        "print(answer)"
      ],
      "metadata": {
        "colab": {
          "base_uri": "https://localhost:8080/"
        },
        "id": "HoqtuIWZA9Lr",
        "outputId": "58ecae6b-f233-4cf8-8372-1a59f0a47af7"
      },
      "execution_count": null,
      "outputs": [
        {
          "output_type": "stream",
          "name": "stdout",
          "text": [
            "опилки\n"
          ]
        }
      ]
    },
    {
      "cell_type": "code",
      "source": [
        "SYSTEM_PROMPT = '' # системный промпт. Если оставить пустым, будет использован системный промпт по умолчанию (можно посмотреть выше, внутри функции)\n",
        "question = 'Добрый вечер! Подскажите, пожалуйста, как правильно сделать морфемный разбор слова «последний»?' # сам вопрос\n",
        "model = '' # при желании можно переключить модель\n",
        "\n",
        "key = 'Bearer' #нужно добавить ключ\n",
        "\n",
        "\n",
        "answer = generate_answer_gpt(question = question, key = key, model = model, SYSTEM_PROMPT = SYSTEM_PROMPT)\n",
        "print(answer)"
      ],
      "metadata": {
        "colab": {
          "base_uri": "https://localhost:8080/"
        },
        "id": "OSK1deSMEfQm",
        "outputId": "238123e4-2c81-4243-cb3b-f7efbce36cf2"
      },
      "execution_count": null,
      "outputs": [
        {
          "output_type": "stream",
          "name": "stdout",
          "text": [
            "последний\n"
          ]
        }
      ]
    },
    {
      "cell_type": "code",
      "source": [
        "SYSTEM_PROMPT = '' # системный промпт. Если оставить пустым, будет использован системный промпт по умолчанию (можно посмотреть выше, внутри функции)\n",
        "question = 'Добрый день! Подскажите, пожалуйста, какой способ словообразования у слова «постройка». Вроде бы логично определить, как у слова «заглушка» (суффиксальный). Но есть несколько вариантов: приставочно-суффиксальный (строить + по- + -к(а)), приставочный (строить -> стройка + по-) или суффиксальный всё же (построить + -к(а)).' # сам вопрос\n",
        "model = '' # при желании можно переключить модель\n",
        "\n",
        "key = 'Bearer' #нужно добавить ключ\n",
        "\n",
        "\n",
        "answer = generate_answer_gpt(question = question, key = key, model = model, SYSTEM_PROMPT = SYSTEM_PROMPT)\n",
        "print(answer)"
      ],
      "metadata": {
        "colab": {
          "base_uri": "https://localhost:8080/"
        },
        "id": "19QVgFitFIoV",
        "outputId": "37032025-736f-49fc-d39e-9ae7c2d0318b"
      },
      "execution_count": null,
      "outputs": [
        {
          "output_type": "stream",
          "name": "stdout",
          "text": [
            "«постройка»\n"
          ]
        }
      ]
    },
    {
      "cell_type": "code",
      "source": [
        "SYSTEM_PROMPT = '' # системный промпт. Если оставить пустым, будет использован системный промпт по умолчанию (можно посмотреть выше, внутри функции)\n",
        "question = 'Какой частью речи и каким членом предложения является ПОЛ в предложениях: Пол Московской области. или Пол чайной ложки.? Как выделяется и какой частью слова является ПОЛ в словах пол-лимона, пол-Москвы, пол-августа и полметра?' # сам вопрос\n",
        "model = '' # при желании можно переключить модель\n",
        "\n",
        "key = 'Bearer' #нужно добавить ключ\n",
        "\n",
        "\n",
        "answer = generate_answer_gpt(question = question, key = key, model = model, SYSTEM_PROMPT = SYSTEM_PROMPT)\n",
        "print(answer)"
      ],
      "metadata": {
        "colab": {
          "base_uri": "https://localhost:8080/"
        },
        "id": "N_lxWOLJFgge",
        "outputId": "7c28efe0-9399-4525-891a-fbf06809ef64"
      },
      "execution_count": null,
      "outputs": [
        {
          "output_type": "stream",
          "name": "stdout",
          "text": [
            "Пол Московской области.  \n",
            "Пол чайной ложки.  \n",
            "пол-лимона, пол-Москвы, пол-августа, полметра\n"
          ]
        }
      ]
    },
    {
      "cell_type": "code",
      "source": [
        "SYSTEM_PROMPT = '' # системный промпт. Если оставить пустым, будет использован системный промпт по умолчанию (можно посмотреть выше, внутри функции)\n",
        "question = 'Подскажите пожалуйста, правильно ли с точки зрения русского языка использовать в названии научной статьи словосочетание «циклов по перебору ребер поверхности», или только «циклов перебора ребер поверхности»? Хотелось бы избежать четырех слов подряд в родительном падеже.' # сам вопрос\n",
        "model = '' # при желании можно переключить модель\n",
        "\n",
        "key = 'Bearer' #нужно добавить ключ\n",
        "\n",
        "\n",
        "answer = generate_answer_gpt(question = question, key = key, model = model, SYSTEM_PROMPT = SYSTEM_PROMPT)\n",
        "print(answer)"
      ],
      "metadata": {
        "colab": {
          "base_uri": "https://localhost:8080/"
        },
        "id": "-Dp3Yr94H6Nx",
        "outputId": "07024912-64a0-4357-c6b9-900c26025ee8"
      },
      "execution_count": null,
      "outputs": [
        {
          "output_type": "stream",
          "name": "stdout",
          "text": [
            "«циклов по перебору ребер поверхности»\n"
          ]
        }
      ]
    },
    {
      "cell_type": "code",
      "source": [
        "SYSTEM_PROMPT = '' # системный промпт. Если оставить пустым, будет использован системный промпт по умолчанию (можно посмотреть выше, внутри функции)\n",
        "question = 'Здравствуйте, как верно просклонять наименование учреждения - Государственное бюджетное учреждение Дом социального обслуживания «Ромашка»? По документам именно в таком варианте! В дательном падеже - Государственного бюджетного учреждения Дома социального обслуживания «Ромашка» или Государственного бюджетного учреждения Дом социального обслуживания «Ромашка»?' # сам вопрос\n",
        "model = '' # при желании можно переключить модель\n",
        "\n",
        "key = 'Bearer' #нужно добавить ключ\n",
        "\n",
        "\n",
        "answer = generate_answer_gpt(question = question, key = key, model = model, SYSTEM_PROMPT = SYSTEM_PROMPT)\n",
        "print(answer)"
      ],
      "metadata": {
        "colab": {
          "base_uri": "https://localhost:8080/"
        },
        "id": "8Ih-O9PzISOF",
        "outputId": "b75f09a5-81d7-4d37-8d77-1a5ea7cd7c57"
      },
      "execution_count": null,
      "outputs": [
        {
          "output_type": "stream",
          "name": "stdout",
          "text": [
            "Государственного бюджетного учреждения Дома социального обслуживания «Ромашка»\n"
          ]
        }
      ]
    },
    {
      "cell_type": "code",
      "source": [
        "SYSTEM_PROMPT = '' # системный промпт. Если оставить пустым, будет использован системный промпт по умолчанию (можно посмотреть выше, внутри функции)\n",
        "question = 'Здравствуйте! В предложении \"Есть два вида предохранителей: перегоревшие и не перегоревшие\" стоит \"не перегоревшие\" писать раздельно или слитно? Заранее спасибо!' # сам вопрос\n",
        "model = '' # при желании можно переключить модель\n",
        "\n",
        "key = 'Bearer' #нужно добавить ключ\n",
        "\n",
        "\n",
        "answer = generate_answer_gpt(question = question, key = key, model = model, SYSTEM_PROMPT = SYSTEM_PROMPT)\n",
        "print(answer)"
      ],
      "metadata": {
        "colab": {
          "base_uri": "https://localhost:8080/"
        },
        "id": "3sGhWTCSIkjJ",
        "outputId": "04a88019-d8ea-44f0-dad8-af9133eeafbf"
      },
      "execution_count": null,
      "outputs": [
        {
          "output_type": "stream",
          "name": "stdout",
          "text": [
            "не перегоревшие\n"
          ]
        }
      ]
    },
    {
      "cell_type": "code",
      "source": [
        "SYSTEM_PROMPT = '' # системный промпт. Если оставить пустым, будет использован системный промпт по умолчанию (можно посмотреть выше, внутри функции)\n",
        "question = 'Здравствуйте! нужна ли запятая в следующем предложении? Он расспросил ребят о школе, её руководстве, изучаемых предметах(,) и даже о наличии в ней бассейна.' # сам вопрос\n",
        "model = '' # при желании можно переключить модель\n",
        "\n",
        "key = 'Bearer' #нужно добавить ключ\n",
        "\n",
        "\n",
        "answer = generate_answer_gpt(question = question, key = key, model = model, SYSTEM_PROMPT = SYSTEM_PROMPT)\n",
        "print(answer)"
      ],
      "metadata": {
        "colab": {
          "base_uri": "https://localhost:8080/"
        },
        "id": "4M46immyI9aF",
        "outputId": "edb3314e-891c-4c99-99f3-dafedaec27f1"
      },
      "execution_count": null,
      "outputs": [
        {
          "output_type": "stream",
          "name": "stdout",
          "text": [
            "Он расспросил ребят о школе, её руководстве, изучаемых предметах(,) и даже о наличии в ней бассейна.\n"
          ]
        }
      ]
    },
    {
      "cell_type": "code",
      "source": [
        "SYSTEM_PROMPT = '' # системный промпт. Если оставить пустым, будет использован системный промпт по умолчанию (можно посмотреть выше, внутри функции)\n",
        "question = 'Здравствуйте. Подскажите, пожалуйста, как пишется «давно()прошедший». В словаре на ресурсе «Академос зафиксировано сложное прилагательное «давнопроше́дший» (давнопроше́дшее вре́мя, лингв.). То есть если это лингвистический термин и давнопрошедший = плюсквамперфект, то написание слитное. А как быть в следующих случаях: это дела давно прошедшие; воспоминания о прошедшем… о давно прошедшем. Мне кажется, что здесь раздельное написание (давно – наречие). И ещё: как пишется «далеко()идущий», «много()обещающий»? Далеко идущий караван, но: далекоидущие планы, выводы; многообещающий врач, но: человек, много (чего) обещающий и мало (чего) делающий, – мне кажется так.' # сам вопрос\n",
        "model = '' # при желании можно переключить модель\n",
        "\n",
        "key = 'Bearer atha-xz7md6n6Z7Uy-4eFoONI7_kowcZaj8bZwh_dEpOeOf02qUJZJOH0YKHVSW15KW1m' #нужно добавить ключ\n",
        "\n",
        "\n",
        "answer = generate_answer_gpt(question = question, key = key, model = model, SYSTEM_PROMPT = SYSTEM_PROMPT)\n",
        "print(answer)"
      ],
      "metadata": {
        "id": "3Pfw02qM2EFM",
        "outputId": "c91ebf07-311e-42fa-d848-31eea7aff27f",
        "colab": {
          "base_uri": "https://localhost:8080/"
        }
      },
      "execution_count": 7,
      "outputs": [
        {
          "output_type": "stream",
          "name": "stdout",
          "text": [
            "«давно прошедший», «далеко идущий», «многообещающий»\n"
          ]
        }
      ]
    },
    {
      "cell_type": "code",
      "source": [
        "SYSTEM_PROMPT = '' # системный промпт. Если оставить пустым, будет использован системный промпт по умолчанию (можно посмотреть выше, внутри функции)\n",
        "question = 'Я хочу опубликовать данные. А потом переопубликовать или перепубликовать — как правильно? И можно ли получить из данного глагола существительное: переопубликация/перепубликация (повторная публикация).' # сам вопрос\n",
        "model = '' # при желании можно переключить модель\n",
        "\n",
        "key = 'Bearer atha-xz7md6n6Z7Uy-4eFoONI7_kowcZaj8bZwh_dEpOeOf02qUJZJOH0YKHVSW15KW1m' #нужно добавить ключ\n",
        "\n",
        "\n",
        "answer = generate_answer_gpt(question = question, key = key, model = model, SYSTEM_PROMPT = SYSTEM_PROMPT)\n",
        "print(answer)"
      ],
      "metadata": {
        "id": "MQ_GDukJ38mv",
        "outputId": "325e8874-73db-4a35-c1b0-20e8eb8950f0",
        "colab": {
          "base_uri": "https://localhost:8080/"
        }
      },
      "execution_count": 8,
      "outputs": [
        {
          "output_type": "stream",
          "name": "stdout",
          "text": [
            "переопубликовать, переопубликация\n"
          ]
        }
      ]
    },
    {
      "cell_type": "code",
      "source": [
        "SYSTEM_PROMPT = '' # системный промпт. Если оставить пустым, будет использован системный промпт по умолчанию (можно посмотреть выше, внутри функции)\n",
        "question = 'Здравствуйте! Есть ли какие-то унифицированные правила, по которым можно наиболее верно определить, как согласуется сказуемое с подлежащим, в состав которого входят слова множество, ряд, большинство, меньшинство; с подлежащим, выраженным количественно-именным сочетанием; с подлежащим, имеющим в своём составе числительные два, три, четыре или числительное, оканчивающееся на два, три, четыре? В разных источниках, включая учебную литературу и пособия, даются совершенно разные правила, которые порой противоречат друг другу. Какие нормы считать за истину?' # сам вопрос\n",
        "model = '' # при желании можно переключить модель\n",
        "\n",
        "key = 'Bearer atha-xz7md6n6Z7Uy-4eFoONI7_kowcZaj8bZwh_dEpOeOf02qUJZJOH0YKHVSW15KW1m' #нужно добавить ключ\n",
        "\n",
        "\n",
        "answer = generate_answer_gpt(question = question, key = key, model = model, SYSTEM_PROMPT = SYSTEM_PROMPT)\n",
        "print(answer)"
      ],
      "metadata": {
        "id": "IuCsvJ_E4aKG",
        "outputId": "6506dcbd-b405-4507-ef95-9ceade675178",
        "colab": {
          "base_uri": "https://localhost:8080/"
        }
      },
      "execution_count": 10,
      "outputs": [
        {
          "output_type": "stream",
          "name": "stdout",
          "text": [
            "множество, ряд, большинство, меньшинство, количественно-именное сочетание, числительные два, три, четыре\n"
          ]
        }
      ]
    },
    {
      "cell_type": "code",
      "source": [
        "SYSTEM_PROMPT = '' # системный промпт. Если оставить пустым, будет использован системный промпт по умолчанию (можно посмотреть выше, внутри функции)\n",
        "question = 'Солнце выглянуло сзади из-за города и тихо, без хлопот принялось за свою работу. 2. Сначала, далеко впереди, где небо сходится с землёю около курганчиков и ветряной мельницы, которая издали похожа на маленького человечка, поползла по земле широкая ярко-желтая полоса. 3. Полоса света, подкравшись сзади, шмыгнула через бричку и лошадей, понеслась навстречу другим полосам, и вдруг вся широкая степь сбросила с себя утреннюю полутень, улыбнулась и засверкала росой. 4. От стройной фигуры и зелёной одежды тополя трудно оторвать глаза. 5. Где-то далеко влево плакали чибисы. 6. Мягко картавя, журчал ручеёк. 7. Летит коршун над самой землёй, плавно взмахивая крыльями, и вдруг останавливается в воздухе. Нужно найти словосочетания с наречиями и задать вопросы к ним' # сам вопрос\n",
        "model = '' # при желании можно переключить модель\n",
        "\n",
        "key = 'Bearer atha-xz7md6n6Z7Uy-4eFoONI7_kowcZaj8bZwh_dEpOeOf02qUJZJOH0YKHVSW15KW1m' #нужно добавить ключ\n",
        "\n",
        "\n",
        "answer = generate_answer_gpt(question = question, key = key, model = model, SYSTEM_PROMPT = SYSTEM_PROMPT)\n",
        "print(answer)"
      ],
      "metadata": {
        "id": "bTXVBssC5Pgp",
        "outputId": "6fbf79b3-6ab0-40cd-f6e6-998179d1c805",
        "colab": {
          "base_uri": "https://localhost:8080/"
        }
      },
      "execution_count": 11,
      "outputs": [
        {
          "output_type": "stream",
          "name": "stdout",
          "text": [
            "тихо, без хлопот; издали; далеко; мягко картавя; плавно взмахивая.\n"
          ]
        }
      ]
    },
    {
      "cell_type": "code",
      "source": [
        "SYSTEM_PROMPT = '' # системный промпт. Если оставить пустым, будет использован системный промпт по умолчанию (можно посмотреть выше, внутри функции)\n",
        "question = 'Здравствуйте! Можно ли срочный вопрос? Как склоняются иноязычные названия населённых пунктов, оканчивающихся на -ец? Например: Биловец - Биловеца или Биловца? Живец - Живеца или Живца? Спасибо за ответ.' # сам вопрос\n",
        "model = '' # при желании можно переключить модель\n",
        "\n",
        "key = 'Bearer atha-xz7md6n6Z7Uy-4eFoONI7_kowcZaj8bZwh_dEpOeOf02qUJZJOH0YKHVSW15KW1m' #нужно добавить ключ\n",
        "\n",
        "\n",
        "answer = generate_answer_gpt(question = question, key = key, model = model, SYSTEM_PROMPT = SYSTEM_PROMPT)\n",
        "print(answer)"
      ],
      "metadata": {
        "id": "OsvGPjBC7Pkw",
        "outputId": "5d40b2d1-9caa-4ed4-cfed-4b84e4aa020d",
        "colab": {
          "base_uri": "https://localhost:8080/"
        }
      },
      "execution_count": 13,
      "outputs": [
        {
          "output_type": "stream",
          "name": "stdout",
          "text": [
            "Биловец, Живец\n"
          ]
        }
      ]
    },
    {
      "cell_type": "code",
      "source": [
        "SYSTEM_PROMPT = '' # системный промпт. Если оставить пустым, будет использован системный промпт по умолчанию (можно посмотреть выше, внутри функции)\n",
        "question = 'Здравствуйте! Подскажите, пожалуйста, следует ли склонять иностранные фамилии Фукунага и Васиковска?' # сам вопрос\n",
        "model = '' # при желании можно переключить модель\n",
        "\n",
        "key = 'Bearer atha-xz7md6n6Z7Uy-4eFoONI7_kowcZaj8bZwh_dEpOeOf02qUJZJOH0YKHVSW15KW1m' #нужно добавить ключ\n",
        "\n",
        "\n",
        "answer = generate_answer_gpt(question = question, key = key, model = model, SYSTEM_PROMPT = SYSTEM_PROMPT)\n",
        "print(answer)"
      ],
      "metadata": {
        "id": "xHZdpb8k7cXW",
        "outputId": "258763a8-66ad-4f77-d41b-32ec5be272a9",
        "colab": {
          "base_uri": "https://localhost:8080/"
        }
      },
      "execution_count": 14,
      "outputs": [
        {
          "output_type": "stream",
          "name": "stdout",
          "text": [
            "Фукунага и Васиковска.\n"
          ]
        }
      ]
    },
    {
      "cell_type": "code",
      "source": [
        "SYSTEM_PROMPT = '' # системный промпт. Если оставить пустым, будет использован системный промпт по умолчанию (можно посмотреть выше, внутри функции)\n",
        "question = 'Здравствуйте! Подскажите, пожалуйста, как правильно писать: клиентоцентрированный/пациентоцентрированный или клиент-центрированный/пациент-центрированный?' # сам вопрос\n",
        "model = '' # при желании можно переключить модель\n",
        "\n",
        "key = 'Bearer atha-xz7md6n6Z7Uy-4eFoONI7_kowcZaj8bZwh_dEpOeOf02qUJZJOH0YKHVSW15KW1m' #нужно добавить ключ\n",
        "\n",
        "\n",
        "answer = generate_answer_gpt(question = question, key = key, model = model, SYSTEM_PROMPT = SYSTEM_PROMPT)\n",
        "print(answer)"
      ],
      "metadata": {
        "id": "YjZ9-eG07xa9",
        "outputId": "17d3aa96-c9b7-4659-8d07-2bc423921083",
        "colab": {
          "base_uri": "https://localhost:8080/"
        }
      },
      "execution_count": 15,
      "outputs": [
        {
          "output_type": "stream",
          "name": "stdout",
          "text": [
            "клиентоцентрированный/пациентоцентрированный\n"
          ]
        }
      ]
    },
    {
      "cell_type": "code",
      "source": [
        "SYSTEM_PROMPT = '' # системный промпт. Если оставить пустым, будет использован системный промпт по умолчанию (можно посмотреть выше, внутри функции)\n",
        "question = 'Здравствуйте. Не могли вы рассказать, почему произошло чередование гласных О и А в корне у глаголов «сплотить» и «сплачивать»? Почему согласная Т чередуется с Ч? Спасибо.' # сам вопрос\n",
        "model = '' # при желании можно переключить модель\n",
        "\n",
        "key = 'Bearer atha-xz7md6n6Z7Uy-4eFoONI7_kowcZaj8bZwh_dEpOeOf02qUJZJOH0YKHVSW15KW1m' #нужно добавить ключ\n",
        "\n",
        "\n",
        "answer = generate_answer_gpt(question = question, key = key, model = model, SYSTEM_PROMPT = SYSTEM_PROMPT)\n",
        "print(answer)"
      ],
      "metadata": {
        "id": "lkH0AwPE8Haf",
        "outputId": "8f53b082-e224-4719-de60-61b6140da48b",
        "colab": {
          "base_uri": "https://localhost:8080/"
        }
      },
      "execution_count": 16,
      "outputs": [
        {
          "output_type": "stream",
          "name": "stdout",
          "text": [
            "сплотить, сплачивать\n"
          ]
        }
      ]
    },
    {
      "cell_type": "code",
      "source": [
        "SYSTEM_PROMPT = '' # системный промпт. Если оставить пустым, будет использован системный промпт по умолчанию (можно посмотреть выше, внутри функции)\n",
        "question = 'Добрый день! Ставится ли запятая в случаях (1) и (2) в предложениях ниже? 1. Как сходил в ччимчжильбан? – Я думал, будет жарко, но выпил прохладный сикхе(1) и было хорошо. 2. Как тебе жизнь в Корее? – Бывает одиноко, но корейцы добрые(2) и можно найти много всего интересного, так что я довольна. Спасибо!' # сам вопрос\n",
        "model = '' # при желании можно переключить модель\n",
        "\n",
        "key = 'Bearer atha-xz7md6n6Z7Uy-4eFoONI7_kowcZaj8bZwh_dEpOeOf02qUJZJOH0YKHVSW15KW1m' #нужно добавить ключ\n",
        "\n",
        "\n",
        "answer = generate_answer_gpt(question = question, key = key, model = model, SYSTEM_PROMPT = SYSTEM_PROMPT)\n",
        "print(answer)"
      ],
      "metadata": {
        "id": "GMiJXnXb_bhe",
        "outputId": "73bdb736-77d3-4abc-b095-aa9fb89ec79e",
        "colab": {
          "base_uri": "https://localhost:8080/"
        }
      },
      "execution_count": 17,
      "outputs": [
        {
          "output_type": "stream",
          "name": "stdout",
          "text": [
            "сикхе(1) и было хорошо.\n",
            "корейцы добрые(2) и можно найти много всего интересного, так что я довольна.\n"
          ]
        }
      ]
    },
    {
      "cell_type": "code",
      "source": [
        "SYSTEM_PROMPT = '' # системный промпт. Если оставить пустым, будет использован системный промпт по умолчанию (можно посмотреть выше, внутри функции)\n",
        "question = 'Корректны ли фразы \"владение навыком\", \"уровень владения навыком\"? Спасибо!' # сам вопрос\n",
        "model = '' # при желании можно переключить модель\n",
        "\n",
        "key = 'Bearer atha-xz7md6n6Z7Uy-4eFoONI7_kowcZaj8bZwh_dEpOeOf02qUJZJOH0YKHVSW15KW1m' #нужно добавить ключ\n",
        "\n",
        "\n",
        "answer = generate_answer_gpt(question = question, key = key, model = model, SYSTEM_PROMPT = SYSTEM_PROMPT)\n",
        "print(answer)"
      ],
      "metadata": {
        "id": "up_8N3FTAL-N",
        "outputId": "f20848b8-cf53-424d-e555-6cdaedc891ef",
        "colab": {
          "base_uri": "https://localhost:8080/"
        }
      },
      "execution_count": 18,
      "outputs": [
        {
          "output_type": "stream",
          "name": "stdout",
          "text": [
            "\"владение навыком\", \"уровень владения навыком\"\n"
          ]
        }
      ]
    },
    {
      "cell_type": "code",
      "source": [
        "SYSTEM_PROMPT = '' # системный промпт. Если оставить пустым, будет использован системный промпт по умолчанию (можно посмотреть выше, внутри функции)\n",
        "question = 'Когда нужно употреблять РАЗДА́Л, а когда РÓЗДАЛ?' # сам вопрос\n",
        "model = '' # при желании можно переключить модель\n",
        "\n",
        "key = 'Bearer atha-xz7md6n6Z7Uy-4eFoONI7_kowcZaj8bZwh_dEpOeOf02qUJZJOH0YKHVSW15KW1m' #нужно добавить ключ\n",
        "\n",
        "\n",
        "answer = generate_answer_gpt(question = question, key = key, model = model, SYSTEM_PROMPT = SYSTEM_PROMPT)\n",
        "print(answer)"
      ],
      "metadata": {
        "id": "yrX-BcYXDCR8",
        "outputId": "28c3785c-f8e8-4ae2-d2c0-bcc162bdab03",
        "colab": {
          "base_uri": "https://localhost:8080/"
        }
      },
      "execution_count": 20,
      "outputs": [
        {
          "output_type": "stream",
          "name": "stdout",
          "text": [
            "РАЗДА́Л, РÓЗДАЛ\n"
          ]
        }
      ]
    },
    {
      "cell_type": "code",
      "source": [
        "SYSTEM_PROMPT = '' # системный промпт. Если оставить пустым, будет использован системный промпт по умолчанию (можно посмотреть выше, внутри функции)\n",
        "question = 'Как правильно: «очковать» или «очкавать», «очконуть» или «очкануть» (слова в сленге, означающие «бояться», «трусить», «испугаться»)?' # сам вопрос\n",
        "model = '' # при желании можно переключить модель\n",
        "\n",
        "key = 'Bearer atha-xz7md6n6Z7Uy-4eFoONI7_kowcZaj8bZwh_dEpOeOf02qUJZJOH0YKHVSW15KW1m' #нужно добавить ключ\n",
        "\n",
        "\n",
        "answer = generate_answer_gpt(question = question, key = key, model = model, SYSTEM_PROMPT = SYSTEM_PROMPT)\n",
        "print(answer)"
      ],
      "metadata": {
        "id": "tozc-Af1Dwqn",
        "outputId": "59966387-3eab-4b68-a8f6-a9279a20ca3f",
        "colab": {
          "base_uri": "https://localhost:8080/"
        }
      },
      "execution_count": 21,
      "outputs": [
        {
          "output_type": "stream",
          "name": "stdout",
          "text": [
            "«очковать», «очкануть»\n"
          ]
        }
      ]
    },
    {
      "cell_type": "code",
      "source": [
        "SYSTEM_PROMPT = '' # системный промпт. Если оставить пустым, будет использован системный промпт по умолчанию (можно посмотреть выше, внутри функции)\n",
        "question = 'ТУ-104, СУ-37 или Ту-104, Су-37 - как правильно?' # сам вопрос\n",
        "model = '' # при желании можно переключить модель\n",
        "\n",
        "key = 'Bearer atha-xz7md6n6Z7Uy-4eFoONI7_kowcZaj8bZwh_dEpOeOf02qUJZJOH0YKHVSW15KW1m' #нужно добавить ключ\n",
        "\n",
        "\n",
        "answer = generate_answer_gpt(question = question, key = key, model = model, SYSTEM_PROMPT = SYSTEM_PROMPT)\n",
        "print(answer)"
      ],
      "metadata": {
        "id": "iOhYeIL1EAEy",
        "outputId": "dfd98b8d-da5b-44ed-9ce3-2bf09b01cf8b",
        "colab": {
          "base_uri": "https://localhost:8080/"
        }
      },
      "execution_count": 22,
      "outputs": [
        {
          "output_type": "stream",
          "name": "stdout",
          "text": [
            "Ту-104, Су-37\n"
          ]
        }
      ]
    },
    {
      "cell_type": "code",
      "source": [
        "SYSTEM_PROMPT = '' # системный промпт. Если оставить пустым, будет использован системный промпт по умолчанию (можно посмотреть выше, внутри функции)\n",
        "question = 'Как правильно: занятия в скайпе/ватсапе/вайбере или по скайпу/ватсапу/вайберу?' # сам вопрос\n",
        "model = '' # при желании можно переключить модель\n",
        "\n",
        "key = 'Bearer atha-xz7md6n6Z7Uy-4eFoONI7_kowcZaj8bZwh_dEpOeOf02qUJZJOH0YKHVSW15KW1m' #нужно добавить ключ\n",
        "\n",
        "\n",
        "answer = generate_answer_gpt(question = question, key = key, model = model, SYSTEM_PROMPT = SYSTEM_PROMPT)\n",
        "print(answer)"
      ],
      "metadata": {
        "id": "hTclhqmsETKl",
        "outputId": "2554e1f2-682a-41ff-9de0-9d33fe3f0bc5",
        "colab": {
          "base_uri": "https://localhost:8080/"
        }
      },
      "execution_count": 23,
      "outputs": [
        {
          "output_type": "stream",
          "name": "stdout",
          "text": [
            "занятия в скайпе/ватсапе/вайбере, по скайпу/ватсапу/вайберу\n"
          ]
        }
      ]
    },
    {
      "cell_type": "code",
      "source": [
        "SYSTEM_PROMPT = '' # системный промпт. Если оставить пустым, будет использован системный промпт по умолчанию (можно посмотреть выше, внутри функции)\n",
        "question = 'Здравствуйте! Несколько раз встречал в книгах ситуации, когда множество слов (три и более) объединялись дефисом, точный пример не назову, но выдумал вот такой: человек-скачущий-по-полю, квест-путшествие-по-странам. Почему дефисы и какое правило может объяснить такое написание? Долго искал сам, не нашел. Спасибо за внимание, жду ответ.' # сам вопрос\n",
        "model = '' # при желании можно переключить модель\n",
        "\n",
        "key = 'Bearer atha-xz7md6n6Z7Uy-4eFoONI7_kowcZaj8bZwh_dEpOeOf02qUJZJOH0YKHVSW15KW1m' #нужно добавить ключ\n",
        "\n",
        "\n",
        "answer = generate_answer_gpt(question = question, key = key, model = model, SYSTEM_PROMPT = SYSTEM_PROMPT)\n",
        "print(answer)"
      ],
      "metadata": {
        "id": "KqBQZThPFJJg",
        "outputId": "85fb99e5-4263-4650-bec4-1999b39d244a",
        "colab": {
          "base_uri": "https://localhost:8080/"
        }
      },
      "execution_count": 24,
      "outputs": [
        {
          "output_type": "stream",
          "name": "stdout",
          "text": [
            "человек-скачущий-по-полю, квест-путшествие-по-странам\n"
          ]
        }
      ]
    },
    {
      "cell_type": "code",
      "source": [
        "SYSTEM_PROMPT = '' # системный промпт. Если оставить пустым, будет использован системный промпт по умолчанию (можно посмотреть выше, внутри функции)\n",
        "question = 'Уважаемая справочная служба, правильна ли редакция 1-го и 2-го предложений при опущенной части составного сказуемого :\"1. Кабельные шахты должны иметь входные двери и быть оборудованы лестницами. 2. Трубы должны изготавливаться из полимерных материалов методом экструзии, иметь гладкие внутреннюю и наружную поверхности\". В третьем предложении можно ли использовать форму \"должны определяться: \"3. Размеры и профили траншей при прокладке КЛ, а также применяемые технологии производства земляных работ при разработке траншей должны определяться проектом\".' # сам вопрос\n",
        "model = '' # при желании можно переключить модель\n",
        "\n",
        "key = 'Bearer atha-xz7md6n6Z7Uy-4eFoONI7_kowcZaj8bZwh_dEpOeOf02qUJZJOH0YKHVSW15KW1m' #нужно добавить ключ\n",
        "\n",
        "\n",
        "answer = generate_answer_gpt(question = question, key = key, model = model, SYSTEM_PROMPT = SYSTEM_PROMPT)\n",
        "print(answer)"
      ],
      "metadata": {
        "id": "o4l6PNwmFVPv",
        "outputId": "7d118c15-6c36-4813-f7e8-94c8869d6585",
        "colab": {
          "base_uri": "https://localhost:8080/"
        }
      },
      "execution_count": 27,
      "outputs": [
        {
          "output_type": "stream",
          "name": "stdout",
          "text": [
            "1. 2. 3.\n"
          ]
        }
      ]
    },
    {
      "cell_type": "code",
      "source": [
        "SYSTEM_PROMPT = '' # системный промпт. Если оставить пустым, будет использован системный промпт по умолчанию (можно посмотреть выше, внутри функции)\n",
        "question = 'Почему фамилию DiCaprio на русском языке передают как Ди Каприо? Если это связано со служебной частицей \"ди\", значит ли, что фамилию американской актрисы Ariana DeBose нужно передавать как Де Боуз?' # сам вопрос\n",
        "model = '' # при желании можно переключить модель\n",
        "\n",
        "key = 'Bearer atha-xz7md6n6Z7Uy-4eFoONI7_kowcZaj8bZwh_dEpOeOf02qUJZJOH0YKHVSW15KW1m' #нужно добавить ключ\n",
        "\n",
        "\n",
        "answer = generate_answer_gpt(question = question, key = key, model = model, SYSTEM_PROMPT = SYSTEM_PROMPT)\n",
        "print(answer)"
      ],
      "metadata": {
        "id": "5-TlP8m8Ju7I"
      },
      "execution_count": null,
      "outputs": []
    },
    {
      "cell_type": "code",
      "source": [],
      "metadata": {
        "id": "tWAd2RWhJtc7"
      },
      "execution_count": null,
      "outputs": []
    }
  ]
}