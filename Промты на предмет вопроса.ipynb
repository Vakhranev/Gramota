{
  "nbformat": 4,
  "nbformat_minor": 0,
  "metadata": {
    "colab": {
      "provenance": [],
      "include_colab_link": true
    },
    "kernelspec": {
      "name": "python3",
      "display_name": "Python 3"
    },
    "language_info": {
      "name": "python"
    }
  },
  "cells": [
    {
      "cell_type": "markdown",
      "metadata": {
        "id": "view-in-github",
        "colab_type": "text"
      },
      "source": [
        "<a href=\"https://colab.research.google.com/github/Vakhranev/Gramota/blob/main/%D0%9F%D1%80%D0%BE%D0%BC%D1%82%D1%8B%20%D0%BD%D0%B0%20%D0%BF%D1%80%D0%B5%D0%B4%D0%BC%D0%B5%D1%82%20%D0%B2%D0%BE%D0%BF%D1%80%D0%BE%D1%81%D0%B0.ipynb\" target=\"_parent\"><img src=\"https://colab.research.google.com/assets/colab-badge.svg\" alt=\"Open In Colab\"/></a>"
      ]
    },
    {
      "cell_type": "code",
      "source": [
        "import requests\n",
        "import json\n",
        "import re\n",
        "\n",
        "def generate_answer_gpt(question, model=None, key=None, SYSTEM_PROMPT=None):\n",
        "\n",
        "  if not SYSTEM_PROMPT:\n",
        "    SYSTEM_PROMPT = '''Про какое слово или слова спрашивает пользователь?\n",
        "    Отвечай только тем словом (словами) или словосочетаниями (предложениями),\n",
        "    про которые спрашивает пользователь.\n",
        "    Ничего дополнительно не пиши. Не видоизменяй его, пиши в той форме, в которой про него спрашивают.\n",
        "    Если спрашивают про конкретное предложение — пишиего целиком.\n",
        "    Не отвечай на его вопрос.\n",
        "    '''\n",
        "\n",
        "  if not model:\n",
        "    model = 'gpt-4o'\n",
        "\n",
        "  url = 'https://athanote.com/api/v1/ai'\n",
        "  headers = {\"Authorization\" : key,\n",
        "             \"Content-Type\": \"application/json\"}\n",
        "  payload = {\"model\": model, \"messages\": [\n",
        "      {\"role\": \"system\", \"content\": SYSTEM_PROMPT},\n",
        "      { \"role\": \"user\", \"content\": question }\n",
        "      ]}\n",
        "  payload_json = json.dumps(payload)\n",
        "\n",
        "  response = requests.post(url, data=payload_json, headers=headers)\n",
        "\n",
        "  data = response.json()\n",
        "\n",
        "  parsed_response = data['choices'][0]['message']['content']\n",
        "\n",
        "  parsed_response = re.sub(r'<links>[\\s\\S]*</links>', '', parsed_response)\n",
        "\n",
        "  return parsed_response"
      ],
      "metadata": {
        "id": "fKLjYgB6Fe6N"
      },
      "execution_count": 1,
      "outputs": []
    },
    {
      "cell_type": "code",
      "source": [
        "SYSTEM_PROMPT = '' # системный промпт. Если оставить пустым, будет использован системный промпт по умолчанию (можно посмотреть выше, внутри функции)\n",
        "question = 'Почему \"неукоснительный\" относится к правилу -кас-/-кос-? Если у данного корня лекс. значение \"дотрагиваться\", а значение данного слова \"обязательный к исполнению\"' # сам вопрос\n",
        "model = '' # при желании можно переключить модель\n",
        "\n",
        "key = 'Bearer' #нужно добавить ключ\n",
        "\n",
        "\n",
        "answer = generate_answer_gpt(question = question, key = key, model = model, SYSTEM_PROMPT = SYSTEM_PROMPT)\n",
        "print(answer)"
      ],
      "metadata": {
        "colab": {
          "base_uri": "https://localhost:8080/"
        },
        "id": "q_vOMpCmFhgO",
        "outputId": "cd66e26a-f31b-4c3a-ca5a-3e1af979a2bc"
      },
      "execution_count": null,
      "outputs": [
        {
          "output_type": "stream",
          "name": "stdout",
          "text": [
            "\"неукоснительный\"\n"
          ]
        }
      ]
    },
    {
      "cell_type": "code",
      "source": [
        "SYSTEM_PROMPT = '' # системный промпт. Если оставить пустым, будет использован системный промпт по умолчанию (можно посмотреть выше, внутри функции)\n",
        "question = 'помогите сделать словообразовательный разбор слов «плакса», «хныкса», «крикса».' # сам вопрос\n",
        "model = '' # при желании можно переключить модель\n",
        "\n",
        "key = 'Bearer' #нужно добавить ключ\n",
        "\n",
        "\n",
        "answer = generate_answer_gpt(question = question, key = key, model = model, SYSTEM_PROMPT = SYSTEM_PROMPT)\n",
        "print(answer)"
      ],
      "metadata": {
        "id": "zPzyvrPHG07Z",
        "colab": {
          "base_uri": "https://localhost:8080/"
        },
        "outputId": "8a1c1a28-742e-4863-c677-92461dff2f99"
      },
      "execution_count": null,
      "outputs": [
        {
          "output_type": "stream",
          "name": "stdout",
          "text": [
            "плакса, хныкса, крикса\n"
          ]
        }
      ]
    },
    {
      "cell_type": "code",
      "source": [
        "SYSTEM_PROMPT = '' # системный промпт. Если оставить пустым, будет использован системный промпт по умолчанию (можно посмотреть выше, внутри функции)\n",
        "question = 'Подскажите способ образования слова опилки' # сам вопрос\n",
        "model = '' # при желании можно переключить модель\n",
        "\n",
        "key = 'Bearer' #нужно добавить ключ\n",
        "\n",
        "\n",
        "answer = generate_answer_gpt(question = question, key = key, model = model, SYSTEM_PROMPT = SYSTEM_PROMPT)\n",
        "print(answer)"
      ],
      "metadata": {
        "colab": {
          "base_uri": "https://localhost:8080/"
        },
        "id": "HoqtuIWZA9Lr",
        "outputId": "58ecae6b-f233-4cf8-8372-1a59f0a47af7"
      },
      "execution_count": null,
      "outputs": [
        {
          "output_type": "stream",
          "name": "stdout",
          "text": [
            "опилки\n"
          ]
        }
      ]
    },
    {
      "cell_type": "code",
      "source": [
        "SYSTEM_PROMPT = '' # системный промпт. Если оставить пустым, будет использован системный промпт по умолчанию (можно посмотреть выше, внутри функции)\n",
        "question = 'Добрый вечер! Подскажите, пожалуйста, как правильно сделать морфемный разбор слова «последний»?' # сам вопрос\n",
        "model = '' # при желании можно переключить модель\n",
        "\n",
        "key = 'Bearer' #нужно добавить ключ\n",
        "\n",
        "\n",
        "answer = generate_answer_gpt(question = question, key = key, model = model, SYSTEM_PROMPT = SYSTEM_PROMPT)\n",
        "print(answer)"
      ],
      "metadata": {
        "colab": {
          "base_uri": "https://localhost:8080/"
        },
        "id": "OSK1deSMEfQm",
        "outputId": "238123e4-2c81-4243-cb3b-f7efbce36cf2"
      },
      "execution_count": null,
      "outputs": [
        {
          "output_type": "stream",
          "name": "stdout",
          "text": [
            "последний\n"
          ]
        }
      ]
    },
    {
      "cell_type": "code",
      "source": [
        "SYSTEM_PROMPT = '' # системный промпт. Если оставить пустым, будет использован системный промпт по умолчанию (можно посмотреть выше, внутри функции)\n",
        "question = 'Добрый день! Подскажите, пожалуйста, какой способ словообразования у слова «постройка». Вроде бы логично определить, как у слова «заглушка» (суффиксальный). Но есть несколько вариантов: приставочно-суффиксальный (строить + по- + -к(а)), приставочный (строить -> стройка + по-) или суффиксальный всё же (построить + -к(а)).' # сам вопрос\n",
        "model = '' # при желании можно переключить модель\n",
        "\n",
        "key = 'Bearer' #нужно добавить ключ\n",
        "\n",
        "\n",
        "answer = generate_answer_gpt(question = question, key = key, model = model, SYSTEM_PROMPT = SYSTEM_PROMPT)\n",
        "print(answer)"
      ],
      "metadata": {
        "colab": {
          "base_uri": "https://localhost:8080/"
        },
        "id": "19QVgFitFIoV",
        "outputId": "37032025-736f-49fc-d39e-9ae7c2d0318b"
      },
      "execution_count": null,
      "outputs": [
        {
          "output_type": "stream",
          "name": "stdout",
          "text": [
            "«постройка»\n"
          ]
        }
      ]
    },
    {
      "cell_type": "code",
      "source": [
        "SYSTEM_PROMPT = '' # системный промпт. Если оставить пустым, будет использован системный промпт по умолчанию (можно посмотреть выше, внутри функции)\n",
        "question = 'Какой частью речи и каким членом предложения является ПОЛ в предложениях: Пол Московской области. или Пол чайной ложки.? Как выделяется и какой частью слова является ПОЛ в словах пол-лимона, пол-Москвы, пол-августа и полметра?' # сам вопрос\n",
        "model = '' # при желании можно переключить модель\n",
        "\n",
        "key = 'Bearer' #нужно добавить ключ\n",
        "\n",
        "\n",
        "answer = generate_answer_gpt(question = question, key = key, model = model, SYSTEM_PROMPT = SYSTEM_PROMPT)\n",
        "print(answer)"
      ],
      "metadata": {
        "colab": {
          "base_uri": "https://localhost:8080/"
        },
        "id": "N_lxWOLJFgge",
        "outputId": "7c28efe0-9399-4525-891a-fbf06809ef64"
      },
      "execution_count": null,
      "outputs": [
        {
          "output_type": "stream",
          "name": "stdout",
          "text": [
            "Пол Московской области.  \n",
            "Пол чайной ложки.  \n",
            "пол-лимона, пол-Москвы, пол-августа, полметра\n"
          ]
        }
      ]
    },
    {
      "cell_type": "code",
      "source": [
        "SYSTEM_PROMPT = '' # системный промпт. Если оставить пустым, будет использован системный промпт по умолчанию (можно посмотреть выше, внутри функции)\n",
        "question = 'Подскажите пожалуйста, правильно ли с точки зрения русского языка использовать в названии научной статьи словосочетание «циклов по перебору ребер поверхности», или только «циклов перебора ребер поверхности»? Хотелось бы избежать четырех слов подряд в родительном падеже.' # сам вопрос\n",
        "model = '' # при желании можно переключить модель\n",
        "\n",
        "key = 'Bearer' #нужно добавить ключ\n",
        "\n",
        "\n",
        "answer = generate_answer_gpt(question = question, key = key, model = model, SYSTEM_PROMPT = SYSTEM_PROMPT)\n",
        "print(answer)"
      ],
      "metadata": {
        "colab": {
          "base_uri": "https://localhost:8080/"
        },
        "id": "-Dp3Yr94H6Nx",
        "outputId": "07024912-64a0-4357-c6b9-900c26025ee8"
      },
      "execution_count": null,
      "outputs": [
        {
          "output_type": "stream",
          "name": "stdout",
          "text": [
            "«циклов по перебору ребер поверхности»\n"
          ]
        }
      ]
    },
    {
      "cell_type": "code",
      "source": [
        "SYSTEM_PROMPT = '' # системный промпт. Если оставить пустым, будет использован системный промпт по умолчанию (можно посмотреть выше, внутри функции)\n",
        "question = 'Здравствуйте, как верно просклонять наименование учреждения - Государственное бюджетное учреждение Дом социального обслуживания «Ромашка»? По документам именно в таком варианте! В дательном падеже - Государственного бюджетного учреждения Дома социального обслуживания «Ромашка» или Государственного бюджетного учреждения Дом социального обслуживания «Ромашка»?' # сам вопрос\n",
        "model = '' # при желании можно переключить модель\n",
        "\n",
        "key = 'Bearer' #нужно добавить ключ\n",
        "\n",
        "\n",
        "answer = generate_answer_gpt(question = question, key = key, model = model, SYSTEM_PROMPT = SYSTEM_PROMPT)\n",
        "print(answer)"
      ],
      "metadata": {
        "colab": {
          "base_uri": "https://localhost:8080/"
        },
        "id": "8Ih-O9PzISOF",
        "outputId": "b75f09a5-81d7-4d37-8d77-1a5ea7cd7c57"
      },
      "execution_count": null,
      "outputs": [
        {
          "output_type": "stream",
          "name": "stdout",
          "text": [
            "Государственного бюджетного учреждения Дома социального обслуживания «Ромашка»\n"
          ]
        }
      ]
    },
    {
      "cell_type": "code",
      "source": [
        "SYSTEM_PROMPT = '' # системный промпт. Если оставить пустым, будет использован системный промпт по умолчанию (можно посмотреть выше, внутри функции)\n",
        "question = 'Здравствуйте! В предложении \"Есть два вида предохранителей: перегоревшие и не перегоревшие\" стоит \"не перегоревшие\" писать раздельно или слитно? Заранее спасибо!' # сам вопрос\n",
        "model = '' # при желании можно переключить модель\n",
        "\n",
        "key = 'Bearer' #нужно добавить ключ\n",
        "\n",
        "\n",
        "answer = generate_answer_gpt(question = question, key = key, model = model, SYSTEM_PROMPT = SYSTEM_PROMPT)\n",
        "print(answer)"
      ],
      "metadata": {
        "colab": {
          "base_uri": "https://localhost:8080/"
        },
        "id": "3sGhWTCSIkjJ",
        "outputId": "04a88019-d8ea-44f0-dad8-af9133eeafbf"
      },
      "execution_count": null,
      "outputs": [
        {
          "output_type": "stream",
          "name": "stdout",
          "text": [
            "не перегоревшие\n"
          ]
        }
      ]
    },
    {
      "cell_type": "code",
      "source": [
        "SYSTEM_PROMPT = '' # системный промпт. Если оставить пустым, будет использован системный промпт по умолчанию (можно посмотреть выше, внутри функции)\n",
        "question = 'Здравствуйте! нужна ли запятая в следующем предложении? Он расспросил ребят о школе, её руководстве, изучаемых предметах(,) и даже о наличии в ней бассейна.' # сам вопрос\n",
        "model = '' # при желании можно переключить модель\n",
        "\n",
        "key = 'Bearer' #нужно добавить ключ\n",
        "\n",
        "\n",
        "answer = generate_answer_gpt(question = question, key = key, model = model, SYSTEM_PROMPT = SYSTEM_PROMPT)\n",
        "print(answer)"
      ],
      "metadata": {
        "colab": {
          "base_uri": "https://localhost:8080/"
        },
        "id": "4M46immyI9aF",
        "outputId": "edb3314e-891c-4c99-99f3-dafedaec27f1"
      },
      "execution_count": null,
      "outputs": [
        {
          "output_type": "stream",
          "name": "stdout",
          "text": [
            "Он расспросил ребят о школе, её руководстве, изучаемых предметах(,) и даже о наличии в ней бассейна.\n"
          ]
        }
      ]
    },
    {
      "cell_type": "code",
      "source": [
        "SYSTEM_PROMPT = '' # системный промпт. Если оставить пустым, будет использован системный промпт по умолчанию (можно посмотреть выше, внутри функции)\n",
        "question = 'Здравствуйте. Подскажите, пожалуйста, как пишется «давно()прошедший». В словаре на ресурсе «Академос зафиксировано сложное прилагательное «давнопроше́дший» (давнопроше́дшее вре́мя, лингв.). То есть если это лингвистический термин и давнопрошедший = плюсквамперфект, то написание слитное. А как быть в следующих случаях: это дела давно прошедшие; воспоминания о прошедшем… о давно прошедшем. Мне кажется, что здесь раздельное написание (давно – наречие). И ещё: как пишется «далеко()идущий», «много()обещающий»? Далеко идущий караван, но: далекоидущие планы, выводы; многообещающий врач, но: человек, много (чего) обещающий и мало (чего) делающий, – мне кажется так.' # сам вопрос\n",
        "model = '' # при желании можно переключить модель\n",
        "\n",
        "key = 'Bearer atha-xz7md6n6Z7Uy-4eFoONI7_kowcZaj8bZwh_dEpOeOf02qUJZJOH0YKHVSW15KW1m' #нужно добавить ключ\n",
        "\n",
        "\n",
        "answer = generate_answer_gpt(question = question, key = key, model = model, SYSTEM_PROMPT = SYSTEM_PROMPT)\n",
        "print(answer)"
      ],
      "metadata": {
        "id": "3Pfw02qM2EFM",
        "outputId": "c91ebf07-311e-42fa-d848-31eea7aff27f",
        "colab": {
          "base_uri": "https://localhost:8080/"
        }
      },
      "execution_count": null,
      "outputs": [
        {
          "output_type": "stream",
          "name": "stdout",
          "text": [
            "«давно прошедший», «далеко идущий», «многообещающий»\n"
          ]
        }
      ]
    },
    {
      "cell_type": "code",
      "source": [
        "SYSTEM_PROMPT = '' # системный промпт. Если оставить пустым, будет использован системный промпт по умолчанию (можно посмотреть выше, внутри функции)\n",
        "question = 'Я хочу опубликовать данные. А потом переопубликовать или перепубликовать — как правильно? И можно ли получить из данного глагола существительное: переопубликация/перепубликация (повторная публикация).' # сам вопрос\n",
        "model = '' # при желании можно переключить модель\n",
        "\n",
        "key = 'Bearer atha-xz7md6n6Z7Uy-4eFoONI7_kowcZaj8bZwh_dEpOeOf02qUJZJOH0YKHVSW15KW1m' #нужно добавить ключ\n",
        "\n",
        "\n",
        "answer = generate_answer_gpt(question = question, key = key, model = model, SYSTEM_PROMPT = SYSTEM_PROMPT)\n",
        "print(answer)"
      ],
      "metadata": {
        "id": "MQ_GDukJ38mv",
        "outputId": "325e8874-73db-4a35-c1b0-20e8eb8950f0",
        "colab": {
          "base_uri": "https://localhost:8080/"
        }
      },
      "execution_count": null,
      "outputs": [
        {
          "output_type": "stream",
          "name": "stdout",
          "text": [
            "переопубликовать, переопубликация\n"
          ]
        }
      ]
    },
    {
      "cell_type": "code",
      "source": [
        "SYSTEM_PROMPT = '' # системный промпт. Если оставить пустым, будет использован системный промпт по умолчанию (можно посмотреть выше, внутри функции)\n",
        "question = 'Здравствуйте! Есть ли какие-то унифицированные правила, по которым можно наиболее верно определить, как согласуется сказуемое с подлежащим, в состав которого входят слова множество, ряд, большинство, меньшинство; с подлежащим, выраженным количественно-именным сочетанием; с подлежащим, имеющим в своём составе числительные два, три, четыре или числительное, оканчивающееся на два, три, четыре? В разных источниках, включая учебную литературу и пособия, даются совершенно разные правила, которые порой противоречат друг другу. Какие нормы считать за истину?' # сам вопрос\n",
        "model = '' # при желании можно переключить модель\n",
        "\n",
        "key = 'Bearer atha-xz7md6n6Z7Uy-4eFoONI7_kowcZaj8bZwh_dEpOeOf02qUJZJOH0YKHVSW15KW1m' #нужно добавить ключ\n",
        "\n",
        "\n",
        "answer = generate_answer_gpt(question = question, key = key, model = model, SYSTEM_PROMPT = SYSTEM_PROMPT)\n",
        "print(answer)"
      ],
      "metadata": {
        "id": "IuCsvJ_E4aKG",
        "outputId": "6506dcbd-b405-4507-ef95-9ceade675178",
        "colab": {
          "base_uri": "https://localhost:8080/"
        }
      },
      "execution_count": null,
      "outputs": [
        {
          "output_type": "stream",
          "name": "stdout",
          "text": [
            "множество, ряд, большинство, меньшинство, количественно-именное сочетание, числительные два, три, четыре\n"
          ]
        }
      ]
    },
    {
      "cell_type": "code",
      "source": [
        "SYSTEM_PROMPT = '' # системный промпт. Если оставить пустым, будет использован системный промпт по умолчанию (можно посмотреть выше, внутри функции)\n",
        "question = 'Солнце выглянуло сзади из-за города и тихо, без хлопот принялось за свою работу. 2. Сначала, далеко впереди, где небо сходится с землёю около курганчиков и ветряной мельницы, которая издали похожа на маленького человечка, поползла по земле широкая ярко-желтая полоса. 3. Полоса света, подкравшись сзади, шмыгнула через бричку и лошадей, понеслась навстречу другим полосам, и вдруг вся широкая степь сбросила с себя утреннюю полутень, улыбнулась и засверкала росой. 4. От стройной фигуры и зелёной одежды тополя трудно оторвать глаза. 5. Где-то далеко влево плакали чибисы. 6. Мягко картавя, журчал ручеёк. 7. Летит коршун над самой землёй, плавно взмахивая крыльями, и вдруг останавливается в воздухе. Нужно найти словосочетания с наречиями и задать вопросы к ним' # сам вопрос\n",
        "model = '' # при желании можно переключить модель\n",
        "\n",
        "key = 'Bearer atha-xz7md6n6Z7Uy-4eFoONI7_kowcZaj8bZwh_dEpOeOf02qUJZJOH0YKHVSW15KW1m' #нужно добавить ключ\n",
        "\n",
        "\n",
        "answer = generate_answer_gpt(question = question, key = key, model = model, SYSTEM_PROMPT = SYSTEM_PROMPT)\n",
        "print(answer)"
      ],
      "metadata": {
        "id": "bTXVBssC5Pgp",
        "outputId": "6fbf79b3-6ab0-40cd-f6e6-998179d1c805",
        "colab": {
          "base_uri": "https://localhost:8080/"
        }
      },
      "execution_count": null,
      "outputs": [
        {
          "output_type": "stream",
          "name": "stdout",
          "text": [
            "тихо, без хлопот; издали; далеко; мягко картавя; плавно взмахивая.\n"
          ]
        }
      ]
    },
    {
      "cell_type": "code",
      "source": [
        "SYSTEM_PROMPT = '' # системный промпт. Если оставить пустым, будет использован системный промпт по умолчанию (можно посмотреть выше, внутри функции)\n",
        "question = 'Здравствуйте! Можно ли срочный вопрос? Как склоняются иноязычные названия населённых пунктов, оканчивающихся на -ец? Например: Биловец - Биловеца или Биловца? Живец - Живеца или Живца? Спасибо за ответ.' # сам вопрос\n",
        "model = '' # при желании можно переключить модель\n",
        "\n",
        "key = 'Bearer atha-xz7md6n6Z7Uy-4eFoONI7_kowcZaj8bZwh_dEpOeOf02qUJZJOH0YKHVSW15KW1m' #нужно добавить ключ\n",
        "\n",
        "\n",
        "answer = generate_answer_gpt(question = question, key = key, model = model, SYSTEM_PROMPT = SYSTEM_PROMPT)\n",
        "print(answer)"
      ],
      "metadata": {
        "id": "OsvGPjBC7Pkw",
        "outputId": "5d40b2d1-9caa-4ed4-cfed-4b84e4aa020d",
        "colab": {
          "base_uri": "https://localhost:8080/"
        }
      },
      "execution_count": null,
      "outputs": [
        {
          "output_type": "stream",
          "name": "stdout",
          "text": [
            "Биловец, Живец\n"
          ]
        }
      ]
    },
    {
      "cell_type": "code",
      "source": [
        "SYSTEM_PROMPT = '' # системный промпт. Если оставить пустым, будет использован системный промпт по умолчанию (можно посмотреть выше, внутри функции)\n",
        "question = 'Здравствуйте! Подскажите, пожалуйста, следует ли склонять иностранные фамилии Фукунага и Васиковска?' # сам вопрос\n",
        "model = '' # при желании можно переключить модель\n",
        "\n",
        "key = 'Bearer atha-xz7md6n6Z7Uy-4eFoONI7_kowcZaj8bZwh_dEpOeOf02qUJZJOH0YKHVSW15KW1m' #нужно добавить ключ\n",
        "\n",
        "\n",
        "answer = generate_answer_gpt(question = question, key = key, model = model, SYSTEM_PROMPT = SYSTEM_PROMPT)\n",
        "print(answer)"
      ],
      "metadata": {
        "id": "xHZdpb8k7cXW",
        "outputId": "258763a8-66ad-4f77-d41b-32ec5be272a9",
        "colab": {
          "base_uri": "https://localhost:8080/"
        }
      },
      "execution_count": null,
      "outputs": [
        {
          "output_type": "stream",
          "name": "stdout",
          "text": [
            "Фукунага и Васиковска.\n"
          ]
        }
      ]
    },
    {
      "cell_type": "code",
      "source": [
        "SYSTEM_PROMPT = '' # системный промпт. Если оставить пустым, будет использован системный промпт по умолчанию (можно посмотреть выше, внутри функции)\n",
        "question = 'Здравствуйте! Подскажите, пожалуйста, как правильно писать: клиентоцентрированный/пациентоцентрированный или клиент-центрированный/пациент-центрированный?' # сам вопрос\n",
        "model = '' # при желании можно переключить модель\n",
        "\n",
        "key = 'Bearer atha-xz7md6n6Z7Uy-4eFoONI7_kowcZaj8bZwh_dEpOeOf02qUJZJOH0YKHVSW15KW1m' #нужно добавить ключ\n",
        "\n",
        "\n",
        "answer = generate_answer_gpt(question = question, key = key, model = model, SYSTEM_PROMPT = SYSTEM_PROMPT)\n",
        "print(answer)"
      ],
      "metadata": {
        "id": "YjZ9-eG07xa9",
        "outputId": "17d3aa96-c9b7-4659-8d07-2bc423921083",
        "colab": {
          "base_uri": "https://localhost:8080/"
        }
      },
      "execution_count": null,
      "outputs": [
        {
          "output_type": "stream",
          "name": "stdout",
          "text": [
            "клиентоцентрированный/пациентоцентрированный\n"
          ]
        }
      ]
    },
    {
      "cell_type": "code",
      "source": [
        "SYSTEM_PROMPT = '' # системный промпт. Если оставить пустым, будет использован системный промпт по умолчанию (можно посмотреть выше, внутри функции)\n",
        "question = 'Здравствуйте. Не могли вы рассказать, почему произошло чередование гласных О и А в корне у глаголов «сплотить» и «сплачивать»? Почему согласная Т чередуется с Ч? Спасибо.' # сам вопрос\n",
        "model = '' # при желании можно переключить модель\n",
        "\n",
        "key = 'Bearer atha-xz7md6n6Z7Uy-4eFoONI7_kowcZaj8bZwh_dEpOeOf02qUJZJOH0YKHVSW15KW1m' #нужно добавить ключ\n",
        "\n",
        "\n",
        "answer = generate_answer_gpt(question = question, key = key, model = model, SYSTEM_PROMPT = SYSTEM_PROMPT)\n",
        "print(answer)"
      ],
      "metadata": {
        "id": "lkH0AwPE8Haf",
        "outputId": "8f53b082-e224-4719-de60-61b6140da48b",
        "colab": {
          "base_uri": "https://localhost:8080/"
        }
      },
      "execution_count": null,
      "outputs": [
        {
          "output_type": "stream",
          "name": "stdout",
          "text": [
            "сплотить, сплачивать\n"
          ]
        }
      ]
    },
    {
      "cell_type": "code",
      "source": [
        "SYSTEM_PROMPT = '' # системный промпт. Если оставить пустым, будет использован системный промпт по умолчанию (можно посмотреть выше, внутри функции)\n",
        "question = 'Добрый день! Ставится ли запятая в случаях (1) и (2) в предложениях ниже? 1. Как сходил в ччимчжильбан? – Я думал, будет жарко, но выпил прохладный сикхе(1) и было хорошо. 2. Как тебе жизнь в Корее? – Бывает одиноко, но корейцы добрые(2) и можно найти много всего интересного, так что я довольна. Спасибо!' # сам вопрос\n",
        "model = '' # при желании можно переключить модель\n",
        "\n",
        "key = 'Bearer atha-xz7md6n6Z7Uy-4eFoONI7_kowcZaj8bZwh_dEpOeOf02qUJZJOH0YKHVSW15KW1m' #нужно добавить ключ\n",
        "\n",
        "\n",
        "answer = generate_answer_gpt(question = question, key = key, model = model, SYSTEM_PROMPT = SYSTEM_PROMPT)\n",
        "print(answer)"
      ],
      "metadata": {
        "id": "GMiJXnXb_bhe",
        "outputId": "73bdb736-77d3-4abc-b095-aa9fb89ec79e",
        "colab": {
          "base_uri": "https://localhost:8080/"
        }
      },
      "execution_count": null,
      "outputs": [
        {
          "output_type": "stream",
          "name": "stdout",
          "text": [
            "сикхе(1) и было хорошо.\n",
            "корейцы добрые(2) и можно найти много всего интересного, так что я довольна.\n"
          ]
        }
      ]
    },
    {
      "cell_type": "code",
      "source": [
        "SYSTEM_PROMPT = '' # системный промпт. Если оставить пустым, будет использован системный промпт по умолчанию (можно посмотреть выше, внутри функции)\n",
        "question = 'Корректны ли фразы \"владение навыком\", \"уровень владения навыком\"? Спасибо!' # сам вопрос\n",
        "model = '' # при желании можно переключить модель\n",
        "\n",
        "key = 'Bearer atha-xz7md6n6Z7Uy-4eFoONI7_kowcZaj8bZwh_dEpOeOf02qUJZJOH0YKHVSW15KW1m' #нужно добавить ключ\n",
        "\n",
        "\n",
        "answer = generate_answer_gpt(question = question, key = key, model = model, SYSTEM_PROMPT = SYSTEM_PROMPT)\n",
        "print(answer)"
      ],
      "metadata": {
        "id": "up_8N3FTAL-N",
        "outputId": "f20848b8-cf53-424d-e555-6cdaedc891ef",
        "colab": {
          "base_uri": "https://localhost:8080/"
        }
      },
      "execution_count": null,
      "outputs": [
        {
          "output_type": "stream",
          "name": "stdout",
          "text": [
            "\"владение навыком\", \"уровень владения навыком\"\n"
          ]
        }
      ]
    },
    {
      "cell_type": "code",
      "source": [
        "SYSTEM_PROMPT = '' # системный промпт. Если оставить пустым, будет использован системный промпт по умолчанию (можно посмотреть выше, внутри функции)\n",
        "question = 'Когда нужно употреблять РАЗДА́Л, а когда РÓЗДАЛ?' # сам вопрос\n",
        "model = '' # при желании можно переключить модель\n",
        "\n",
        "key = 'Bearer atha-xz7md6n6Z7Uy-4eFoONI7_kowcZaj8bZwh_dEpOeOf02qUJZJOH0YKHVSW15KW1m' #нужно добавить ключ\n",
        "\n",
        "\n",
        "answer = generate_answer_gpt(question = question, key = key, model = model, SYSTEM_PROMPT = SYSTEM_PROMPT)\n",
        "print(answer)"
      ],
      "metadata": {
        "id": "yrX-BcYXDCR8",
        "outputId": "28c3785c-f8e8-4ae2-d2c0-bcc162bdab03",
        "colab": {
          "base_uri": "https://localhost:8080/"
        }
      },
      "execution_count": null,
      "outputs": [
        {
          "output_type": "stream",
          "name": "stdout",
          "text": [
            "РАЗДА́Л, РÓЗДАЛ\n"
          ]
        }
      ]
    },
    {
      "cell_type": "code",
      "source": [
        "SYSTEM_PROMPT = '' # системный промпт. Если оставить пустым, будет использован системный промпт по умолчанию (можно посмотреть выше, внутри функции)\n",
        "question = 'Как правильно: «очковать» или «очкавать», «очконуть» или «очкануть» (слова в сленге, означающие «бояться», «трусить», «испугаться»)?' # сам вопрос\n",
        "model = '' # при желании можно переключить модель\n",
        "\n",
        "key = 'Bearer atha-xz7md6n6Z7Uy-4eFoONI7_kowcZaj8bZwh_dEpOeOf02qUJZJOH0YKHVSW15KW1m' #нужно добавить ключ\n",
        "\n",
        "\n",
        "answer = generate_answer_gpt(question = question, key = key, model = model, SYSTEM_PROMPT = SYSTEM_PROMPT)\n",
        "print(answer)"
      ],
      "metadata": {
        "id": "tozc-Af1Dwqn",
        "outputId": "59966387-3eab-4b68-a8f6-a9279a20ca3f",
        "colab": {
          "base_uri": "https://localhost:8080/"
        }
      },
      "execution_count": null,
      "outputs": [
        {
          "output_type": "stream",
          "name": "stdout",
          "text": [
            "«очковать», «очкануть»\n"
          ]
        }
      ]
    },
    {
      "cell_type": "code",
      "source": [
        "SYSTEM_PROMPT = '' # системный промпт. Если оставить пустым, будет использован системный промпт по умолчанию (можно посмотреть выше, внутри функции)\n",
        "question = 'ТУ-104, СУ-37 или Ту-104, Су-37 - как правильно?' # сам вопрос\n",
        "model = '' # при желании можно переключить модель\n",
        "\n",
        "key = 'Bearer atha-xz7md6n6Z7Uy-4eFoONI7_kowcZaj8bZwh_dEpOeOf02qUJZJOH0YKHVSW15KW1m' #нужно добавить ключ\n",
        "\n",
        "\n",
        "answer = generate_answer_gpt(question = question, key = key, model = model, SYSTEM_PROMPT = SYSTEM_PROMPT)\n",
        "print(answer)"
      ],
      "metadata": {
        "id": "iOhYeIL1EAEy",
        "outputId": "dfd98b8d-da5b-44ed-9ce3-2bf09b01cf8b",
        "colab": {
          "base_uri": "https://localhost:8080/"
        }
      },
      "execution_count": null,
      "outputs": [
        {
          "output_type": "stream",
          "name": "stdout",
          "text": [
            "Ту-104, Су-37\n"
          ]
        }
      ]
    },
    {
      "cell_type": "code",
      "source": [
        "SYSTEM_PROMPT = '' # системный промпт. Если оставить пустым, будет использован системный промпт по умолчанию (можно посмотреть выше, внутри функции)\n",
        "question = 'Как правильно: занятия в скайпе/ватсапе/вайбере или по скайпу/ватсапу/вайберу?' # сам вопрос\n",
        "model = '' # при желании можно переключить модель\n",
        "\n",
        "key = 'Bearer atha-xz7md6n6Z7Uy-4eFoONI7_kowcZaj8bZwh_dEpOeOf02qUJZJOH0YKHVSW15KW1m' #нужно добавить ключ\n",
        "\n",
        "\n",
        "answer = generate_answer_gpt(question = question, key = key, model = model, SYSTEM_PROMPT = SYSTEM_PROMPT)\n",
        "print(answer)"
      ],
      "metadata": {
        "id": "hTclhqmsETKl",
        "outputId": "2554e1f2-682a-41ff-9de0-9d33fe3f0bc5",
        "colab": {
          "base_uri": "https://localhost:8080/"
        }
      },
      "execution_count": null,
      "outputs": [
        {
          "output_type": "stream",
          "name": "stdout",
          "text": [
            "занятия в скайпе/ватсапе/вайбере, по скайпу/ватсапу/вайберу\n"
          ]
        }
      ]
    },
    {
      "cell_type": "code",
      "source": [
        "SYSTEM_PROMPT = '' # системный промпт. Если оставить пустым, будет использован системный промпт по умолчанию (можно посмотреть выше, внутри функции)\n",
        "question = 'Здравствуйте! Несколько раз встречал в книгах ситуации, когда множество слов (три и более) объединялись дефисом, точный пример не назову, но выдумал вот такой: человек-скачущий-по-полю, квест-путшествие-по-странам. Почему дефисы и какое правило может объяснить такое написание? Долго искал сам, не нашел. Спасибо за внимание, жду ответ.' # сам вопрос\n",
        "model = '' # при желании можно переключить модель\n",
        "\n",
        "key = 'Bearer atha-xz7md6n6Z7Uy-4eFoONI7_kowcZaj8bZwh_dEpOeOf02qUJZJOH0YKHVSW15KW1m' #нужно добавить ключ\n",
        "\n",
        "\n",
        "answer = generate_answer_gpt(question = question, key = key, model = model, SYSTEM_PROMPT = SYSTEM_PROMPT)\n",
        "print(answer)"
      ],
      "metadata": {
        "id": "KqBQZThPFJJg",
        "outputId": "85fb99e5-4263-4650-bec4-1999b39d244a",
        "colab": {
          "base_uri": "https://localhost:8080/"
        }
      },
      "execution_count": null,
      "outputs": [
        {
          "output_type": "stream",
          "name": "stdout",
          "text": [
            "человек-скачущий-по-полю, квест-путшествие-по-странам\n"
          ]
        }
      ]
    },
    {
      "cell_type": "code",
      "source": [
        "SYSTEM_PROMPT = '' # системный промпт. Если оставить пустым, будет использован системный промпт по умолчанию (можно посмотреть выше, внутри функции)\n",
        "question = 'Уважаемая справочная служба, правильна ли редакция 1-го и 2-го предложений при опущенной части составного сказуемого :\"1. Кабельные шахты должны иметь входные двери и быть оборудованы лестницами. 2. Трубы должны изготавливаться из полимерных материалов методом экструзии, иметь гладкие внутреннюю и наружную поверхности\". В третьем предложении можно ли использовать форму \"должны определяться: \"3. Размеры и профили траншей при прокладке КЛ, а также применяемые технологии производства земляных работ при разработке траншей должны определяться проектом\".' # сам вопрос\n",
        "model = '' # при желании можно переключить модель\n",
        "\n",
        "key = 'Bearer atha-xz7md6n6Z7Uy-4eFoONI7_kowcZaj8bZwh_dEpOeOf02qUJZJOH0YKHVSW15KW1m' #нужно добавить ключ\n",
        "\n",
        "\n",
        "answer = generate_answer_gpt(question = question, key = key, model = model, SYSTEM_PROMPT = SYSTEM_PROMPT)\n",
        "print(answer)"
      ],
      "metadata": {
        "id": "o4l6PNwmFVPv",
        "outputId": "7d118c15-6c36-4813-f7e8-94c8869d6585",
        "colab": {
          "base_uri": "https://localhost:8080/"
        }
      },
      "execution_count": null,
      "outputs": [
        {
          "output_type": "stream",
          "name": "stdout",
          "text": [
            "1. 2. 3.\n"
          ]
        }
      ]
    },
    {
      "cell_type": "code",
      "source": [
        "SYSTEM_PROMPT = '' # системный промпт. Если оставить пустым, будет использован системный промпт по умолчанию (можно посмотреть выше, внутри функции)\n",
        "question = 'здравствуйте! хочу узнать, действительно ли звук [э] в предударной позиции почти всегда редуцируются и становится звуком [и] и звуком [ы] после шипящих и [ц] (если очень примитивно, по школьной программе. например, слово «более» по школьной программе транскрибируется так [бóл’ийи]? а слова «дальше», вашей» как [дáл’шы] и [вáшый]? правда ли, что звук [а] в предударной позиции после мягкого согласного всегда становится [и]: «хлопчатобумажный» [хлапчИтабумáжный]? правда ли, что звук [а] после шипящих и [ц] в предударной позиции звучит как [ы]: тридцатипятилетний [трицЫтипитилéтн’ий]? правда ли, что буква Я в предударной позиции обозначает всегда [и]: языкознание [йизыказнáн’ийи]? про призвуки [иэ] и [ыэ] знаю, хотелось бы услышать услышать про это с точки зрения школьной программы. заранее спасибо за ответ?' # сам вопрос\n",
        "model = '' # при желании можно переключить модель\n",
        "\n",
        "key = 'Bearer atha-xz7md6n6Z7Uy-4eFoONI7_kowcZaj8bZwh_dEpOeOf02qUJZJOH0YKHVSW15KW1m' #нужно добавить ключ\n",
        "\n",
        "\n",
        "answer = generate_answer_gpt(question = question, key = key, model = model, SYSTEM_PROMPT = SYSTEM_PROMPT)\n",
        "print(answer)"
      ],
      "metadata": {
        "id": "5-TlP8m8Ju7I",
        "outputId": "52726ecf-5450-4c10-da84-5c15d1d658e0",
        "colab": {
          "base_uri": "https://localhost:8080/"
        }
      },
      "execution_count": 3,
      "outputs": [
        {
          "output_type": "stream",
          "name": "stdout",
          "text": [
            "[бóл’ийи], [дáл’шы], [вáшый], [хлапчИтабумáжный], [трицЫтипитилéтн’ий], [йизыказнáн’ийи]\n"
          ]
        }
      ]
    },
    {
      "cell_type": "code",
      "source": [
        "SYSTEM_PROMPT = '' # системный промпт. Если оставить пустым, будет использован системный промпт по умолчанию (можно посмотреть выше, внутри функции)\n",
        "question = 'Здравствуйте. Подскажите, пожалуйста, как правильно выразиться, \"печатать текст\" или \"набирать текст\", когда речь идет о переписке в мессенджерах и создании текста в текстовых редакторах с помощью клавиатуры компьютера? И соответственно, как в этом контексте верно обозначить данный процесс, \"печатание текста\" или \"набор текста\"? Если есть разница в употреблении этих вариантов, прошу ее пояснить. Заранее спасибо за ответ.' # сам вопрос\n",
        "model = '' # при желании можно переключить модель\n",
        "\n",
        "key = 'Bearer atha-xz7md6n6Z7Uy-4eFoONI7_kowcZaj8bZwh_dEpOeOf02qUJZJOH0YKHVSW15KW1m' #нужно добавить ключ\n",
        "\n",
        "\n",
        "answer = generate_answer_gpt(question = question, key = key, model = model, SYSTEM_PROMPT = SYSTEM_PROMPT)\n",
        "print(answer)"
      ],
      "metadata": {
        "id": "tWAd2RWhJtc7",
        "outputId": "bcb7b3ea-ad56-4a3d-ece2-0bf220e0a42b",
        "colab": {
          "base_uri": "https://localhost:8080/"
        }
      },
      "execution_count": 5,
      "outputs": [
        {
          "output_type": "stream",
          "name": "stdout",
          "text": [
            "\"печатать текст\" или \"набирать текст\", \"печатание текста\" или \"набор текста\"\n"
          ]
        }
      ]
    },
    {
      "cell_type": "code",
      "source": [
        "SYSTEM_PROMPT = '' # системный промпт. Если оставить пустым, будет использован системный промпт по умолчанию (можно посмотреть выше, внутри функции)\n",
        "question = 'Здравствуйте! Разрешите спор между коллегами, пожалуйста: в официальном письме правильнее писать \"судебный приказ вынесен\" или \"был вынесен\"? И аналогичные случаи: \"был открыт лицевой счёт\", \"было принято решение\". Допустимо ли употребление глагола \"был\" или оно является избыточным?' # сам вопрос\n",
        "model = '' # при желании можно переключить модель\n",
        "\n",
        "key = 'Bearer atha-xz7md6n6Z7Uy-4eFoONI7_kowcZaj8bZwh_dEpOeOf02qUJZJOH0YKHVSW15KW1m' #нужно добавить ключ\n",
        "\n",
        "\n",
        "answer = generate_answer_gpt(question = question, key = key, model = model, SYSTEM_PROMPT = SYSTEM_PROMPT)\n",
        "print(answer)"
      ],
      "metadata": {
        "id": "EOMGVCXZNa_6",
        "outputId": "99f23acb-639b-429d-c611-1b21bc2c0cfd",
        "colab": {
          "base_uri": "https://localhost:8080/"
        }
      },
      "execution_count": 6,
      "outputs": [
        {
          "output_type": "stream",
          "name": "stdout",
          "text": [
            "\"судебный приказ вынесен\", \"был вынесен\", \"был открыт лицевой счёт\", \"было принято решение\"\n"
          ]
        }
      ]
    },
    {
      "cell_type": "code",
      "source": [
        "SYSTEM_PROMPT = '' # системный промпт. Если оставить пустым, будет использован системный промпт по умолчанию (можно посмотреть выше, внутри функции)\n",
        "question = 'Есть ли ошибка в таких фразах: \"В предложении 5 девочка говорит...\", \"В предложении 20 мама помогает сыну.. \"?' # сам вопрос\n",
        "model = '' # при желании можно переключить модель\n",
        "\n",
        "key = 'Bearer atha-xz7md6n6Z7Uy-4eFoONI7_kowcZaj8bZwh_dEpOeOf02qUJZJOH0YKHVSW15KW1m' #нужно добавить ключ\n",
        "\n",
        "\n",
        "answer = generate_answer_gpt(question = question, key = key, model = model, SYSTEM_PROMPT = SYSTEM_PROMPT)\n",
        "print(answer)"
      ],
      "metadata": {
        "id": "cOo1-MAwOLli",
        "outputId": "f02976c3-8882-48ce-821b-913bf579e338",
        "colab": {
          "base_uri": "https://localhost:8080/"
        }
      },
      "execution_count": 7,
      "outputs": [
        {
          "output_type": "stream",
          "name": "stdout",
          "text": [
            "\"В предложении 5 девочка говорит...\", \"В предложении 20 мама помогает сыну...\"\n"
          ]
        }
      ]
    },
    {
      "cell_type": "code",
      "source": [
        "SYSTEM_PROMPT = '' # системный промпт. Если оставить пустым, будет использован системный промпт по умолчанию (можно посмотреть выше, внутри функции)\n",
        "question = 'Являются ли с точки зрения русского языка слова \"стандартизированность\" и \"шаблонность\" синонимами?' # сам вопрос\n",
        "model = '' # при желании можно переключить модель\n",
        "\n",
        "key = 'Bearer atha-xz7md6n6Z7Uy-4eFoONI7_kowcZaj8bZwh_dEpOeOf02qUJZJOH0YKHVSW15KW1m' #нужно добавить ключ\n",
        "\n",
        "\n",
        "answer = generate_answer_gpt(question = question, key = key, model = model, SYSTEM_PROMPT = SYSTEM_PROMPT)\n",
        "print(answer)"
      ],
      "metadata": {
        "id": "Mpug3UEReTWs",
        "outputId": "fb26c404-f7e0-40db-bf83-0bc26d3bb85f",
        "colab": {
          "base_uri": "https://localhost:8080/"
        }
      },
      "execution_count": 9,
      "outputs": [
        {
          "output_type": "stream",
          "name": "stdout",
          "text": [
            "стандартизированность, шаблонность\n"
          ]
        }
      ]
    },
    {
      "cell_type": "code",
      "source": [
        "SYSTEM_PROMPT = '' # системный промпт. Если оставить пустым, будет использован системный промпт по умолчанию (можно посмотреть выше, внутри функции)\n",
        "question = 'Пожалуйста, где я могу найти значения различных сокращений, которые появляются в словарях? Например: Дер., Глаг, См., сов., разг., Этим., ..... (Большой универсальный словарь русского языка)' # сам вопрос\n",
        "model = '' # при желании можно переключить модель\n",
        "\n",
        "key = 'Bearer atha-xz7md6n6Z7Uy-4eFoONI7_kowcZaj8bZwh_dEpOeOf02qUJZJOH0YKHVSW15KW1m' #нужно добавить ключ\n",
        "\n",
        "\n",
        "answer = generate_answer_gpt(question = question, key = key, model = model, SYSTEM_PROMPT = SYSTEM_PROMPT)\n",
        "print(answer)"
      ],
      "metadata": {
        "id": "6-uT5u1xeicG",
        "outputId": "fb6cbe7d-c979-46b7-f71f-77643afb47ed",
        "colab": {
          "base_uri": "https://localhost:8080/"
        }
      },
      "execution_count": 10,
      "outputs": [
        {
          "output_type": "stream",
          "name": "stdout",
          "text": [
            "Дер., Глаг, См., сов., разг., Этим.\n"
          ]
        }
      ]
    },
    {
      "cell_type": "code",
      "source": [
        "SYSTEM_PROMPT = '' # системный промпт. Если оставить пустым, будет использован системный промпт по умолчанию (можно посмотреть выше, внутри функции)\n",
        "question = 'Добрый день, уважаемая Грамота! Если в составе обстоятельства, выраженного существительным в косвенном падеже, есть прилагательное, то будет ли оно так же обстоятельством или его нужно подчеркнуть как определение? Например, конструкция в бесконечном космосе в предложении Есть ли в бесконечном космосе кто-то, кроме нас? Также интересует, как работать с существительным с предлогом с. Например, пирог с капустой. С капустой - это всё-таки дополнение или определение? Или, например, танцевать с лентой - это дополнение или обстоятельство? Заранее большое спасибо за Ваш ответ!' # сам вопрос\n",
        "model = '' # при желании можно переключить модель\n",
        "\n",
        "key = 'Bearer atha-xz7md6n6Z7Uy-4eFoONI7_kowcZaj8bZwh_dEpOeOf02qUJZJOH0YKHVSW15KW1m' #нужно добавить ключ\n",
        "\n",
        "\n",
        "answer = generate_answer_gpt(question = question, key = key, model = model, SYSTEM_PROMPT = SYSTEM_PROMPT)\n",
        "print(answer)"
      ],
      "metadata": {
        "id": "hebF51uVeqb0",
        "outputId": "afe528ad-123f-42d8-bf4d-0044ffd4fece",
        "colab": {
          "base_uri": "https://localhost:8080/"
        }
      },
      "execution_count": 12,
      "outputs": [
        {
          "output_type": "stream",
          "name": "stdout",
          "text": [
            "бесконечном космосе, с капустой, с лентой\n"
          ]
        }
      ]
    },
    {
      "cell_type": "code",
      "source": [
        "SYSTEM_PROMPT = '' # системный промпт. Если оставить пустым, будет использован системный промпт по умолчанию (можно посмотреть выше, внутри функции)\n",
        "question = 'Можно ли образовать притяжательное прилагательное от несклоняемого имени собственного (Элизабет, Сыльги, Ромео)? Элизабетов плащ, Сыльгиев дневник? Будут они писаться с большой или с маленькой буквы?' # сам вопрос\n",
        "model = '' # при желании можно переключить модель\n",
        "\n",
        "key = 'Bearer atha-xz7md6n6Z7Uy-4eFoONI7_kowcZaj8bZwh_dEpOeOf02qUJZJOH0YKHVSW15KW1m' #нужно добавить ключ\n",
        "\n",
        "\n",
        "answer = generate_answer_gpt(question = question, key = key, model = model, SYSTEM_PROMPT = SYSTEM_PROMPT)\n",
        "print(answer)"
      ],
      "metadata": {
        "id": "YLKxFmXhsIV6",
        "outputId": "a707ee61-75fb-4852-e240-f8a10660ce8e",
        "colab": {
          "base_uri": "https://localhost:8080/"
        }
      },
      "execution_count": 13,
      "outputs": [
        {
          "output_type": "stream",
          "name": "stdout",
          "text": [
            "Элизабетов плащ, Сыльгиев дневник\n"
          ]
        }
      ]
    },
    {
      "cell_type": "code",
      "source": [
        "SYSTEM_PROMPT = '' # системный промпт. Если оставить пустым, будет использован системный промпт по умолчанию (можно посмотреть выше, внутри функции)\n",
        "question = 'В онлайн-словаре переводов с иностранных языков на русский нашла такие русские слова: «лебездунья» и «мачуфронья» в значениях «сладкоежка, лакомка». Действительно ли эти слова существуют/существовали ранее в русском языке, и каково их значение?' # сам вопрос\n",
        "model = '' # при желании можно переключить модель\n",
        "\n",
        "key = 'Bearer atha-xz7md6n6Z7Uy-4eFoONI7_kowcZaj8bZwh_dEpOeOf02qUJZJOH0YKHVSW15KW1m' #нужно добавить ключ\n",
        "\n",
        "\n",
        "answer = generate_answer_gpt(question = question, key = key, model = model, SYSTEM_PROMPT = SYSTEM_PROMPT)\n",
        "print(answer)"
      ],
      "metadata": {
        "id": "n2dLK6-msaUE",
        "outputId": "92fa7730-ce84-4ac2-e03d-e34b65369a17",
        "colab": {
          "base_uri": "https://localhost:8080/"
        }
      },
      "execution_count": 14,
      "outputs": [
        {
          "output_type": "stream",
          "name": "stdout",
          "text": [
            "«лебездунья», «мачуфронья»\n"
          ]
        }
      ]
    },
    {
      "cell_type": "code",
      "source": [
        "SYSTEM_PROMPT = '' # системный промпт. Если оставить пустым, будет использован системный промпт по умолчанию (можно посмотреть выше, внутри функции)\n",
        "question = 'Добрый день! Подскажите, пожалуйста, как правильно транслитерировать с финского языка следующие имена: Louhi Joukahainen, Jouko Kaukamoinen, Kaukomieli Kauppi Tuoni И каким образом они будут делиться на слоги в русской транслитерации? Спасибо!' # сам вопрос\n",
        "model = '' # при желании можно переключить модель\n",
        "\n",
        "key = 'Bearer atha-xz7md6n6Z7Uy-4eFoONI7_kowcZaj8bZwh_dEpOeOf02qUJZJOH0YKHVSW15KW1m' #нужно добавить ключ\n",
        "\n",
        "\n",
        "answer = generate_answer_gpt(question = question, key = key, model = model, SYSTEM_PROMPT = SYSTEM_PROMPT)\n",
        "print(answer)"
      ],
      "metadata": {
        "id": "v_8VbYiht_cW",
        "outputId": "271994a1-b82d-4180-b46d-969c19f47d29",
        "colab": {
          "base_uri": "https://localhost:8080/"
        }
      },
      "execution_count": 15,
      "outputs": [
        {
          "output_type": "stream",
          "name": "stdout",
          "text": [
            "Louhi Joukahainen, Jouko Kaukamoinen, Kaukomieli Kauppi Tuoni\n"
          ]
        }
      ]
    },
    {
      "cell_type": "code",
      "source": [
        "SYSTEM_PROMPT = '' # системный промпт. Если оставить пустым, будет использован системный промпт по умолчанию (можно посмотреть выше, внутри функции)\n",
        "question = 'Добрый день. Вопрос о правописании слова \"ноль/нуль\". Есть два соседних предложения в тексте, в первом оно встречается в косвенном падеже, а во втором — в именительном: \"Беззнаковые типы используются для создания чисел без знака, то есть только положительных чисел и нуля. Знаковые типы, напротив, позволяют создавать числа со знаком: отрицательные, положительные и ноль\". Розенталь пишет, что формы равноправны и в косвенных падежах преобладает написание через \"у\". Но меня смущает разное написание буквально в соседних предложениях. Существуют ли какие-то стилистические или иные рекомендации по таким ситуациям?' # сам вопрос\n",
        "model = '' # при желании можно переключить модель\n",
        "\n",
        "key = 'Bearer atha-xz7md6n6Z7Uy-4eFoONI7_kowcZaj8bZwh_dEpOeOf02qUJZJOH0YKHVSW15KW1m' #нужно добавить ключ\n",
        "\n",
        "\n",
        "answer = generate_answer_gpt(question = question, key = key, model = model, SYSTEM_PROMPT = SYSTEM_PROMPT)\n",
        "print(answer)"
      ],
      "metadata": {
        "id": "R5qXPeGiuEx8",
        "outputId": "698c7750-d62d-47a3-b5b5-158c794a793f",
        "colab": {
          "base_uri": "https://localhost:8080/"
        }
      },
      "execution_count": 17,
      "outputs": [
        {
          "output_type": "stream",
          "name": "stdout",
          "text": [
            "нуля. ноль.\n"
          ]
        }
      ]
    },
    {
      "cell_type": "code",
      "source": [
        "SYSTEM_PROMPT = '' # системный промпт. Если оставить пустым, будет использован системный промпт по умолчанию (можно посмотреть выше, внутри функции)\n",
        "question = 'В последние несколько лет часто встречается слово \"машинопонимаемый\", \"машиночитаемый\", \"машиноинтерпретируемый\", \"машинораспознаваемый\" формат данных. Как правильно писать: одним словом, как написал я, или через дефис: \"машино-понимаемый\", \"машино-читаемый\", \"машино-интерпретируемый\", \"машино-распознаваемый\"?' # сам вопрос\n",
        "model = '' # при желании можно переключить модель\n",
        "\n",
        "key = 'Bearer atha-xz7md6n6Z7Uy-4eFoONI7_kowcZaj8bZwh_dEpOeOf02qUJZJOH0YKHVSW15KW1m' #нужно добавить ключ\n",
        "\n",
        "\n",
        "answer = generate_answer_gpt(question = question, key = key, model = model, SYSTEM_PROMPT = SYSTEM_PROMPT)\n",
        "print(answer)"
      ],
      "metadata": {
        "id": "6i1D5TcEuiou",
        "outputId": "45408cc3-8d79-4552-f564-11d2c607c630",
        "colab": {
          "base_uri": "https://localhost:8080/"
        }
      },
      "execution_count": 21,
      "outputs": [
        {
          "output_type": "stream",
          "name": "stdout",
          "text": [
            "\"машинопонимаемый\", \"машиночитаемый\", \"машиноинтерпретируемый\", \"машинораспознаваемый\"\n"
          ]
        }
      ]
    },
    {
      "cell_type": "code",
      "source": [
        "SYSTEM_PROMPT = '' # системный промпт. Если оставить пустым, будет использован системный промпт по умолчанию (можно посмотреть выше, внутри функции)\n",
        "question = 'Добрый вечер. Скажите, как правильно поставить знаки препинания в следующих предложениях. Уже 200 лет пред читателями встает вопрос: умен ли Чацкий? Сочинение на тему \"Умен ли Чацкий?\" было задано на дом. Интересует, как ставить знаки, нужна ли заглавная буква, кавычки, если поменять местами части предложений. Спасибо.' # сам вопрос\n",
        "model = '' # при желании можно переключить модель\n",
        "\n",
        "key = 'Bearer atha-xz7md6n6Z7Uy-4eFoONI7_kowcZaj8bZwh_dEpOeOf02qUJZJOH0YKHVSW15KW1m' #нужно добавить ключ\n",
        "\n",
        "\n",
        "answer = generate_answer_gpt(question = question, key = key, model = model, SYSTEM_PROMPT = SYSTEM_PROMPT)\n",
        "print(answer)"
      ],
      "metadata": {
        "id": "GXnAR68wwbRw",
        "outputId": "54af1756-acda-4275-f71b-a47e43e892bf",
        "colab": {
          "base_uri": "https://localhost:8080/"
        }
      },
      "execution_count": 22,
      "outputs": [
        {
          "output_type": "stream",
          "name": "stdout",
          "text": [
            "Уже 200 лет пред читателями встает вопрос: умен ли Чацкий? Сочинение на тему \"Умен ли Чацкий?\" было задано на дом.\n"
          ]
        }
      ]
    },
    {
      "cell_type": "code",
      "source": [
        "SYSTEM_PROMPT = '' # системный промпт. Если оставить пустым, будет использован системный промпт по умолчанию (можно посмотреть выше, внутри функции)\n",
        "question = 'Здравствуйте! Подскажите, пожалуйста, нужна ли запятая в причастных оборотах такого рода: Он посмотрел на неё строгим, будто испепеляющим(,) взглядом. Мы шли по тёмному, заросшему мхом(,) лесу. Определяемое слово стоит после, поэтому запятая вроде как не нужна. Но в то же время, у меня возникли сомнения... Объясните, пожалуйста! Заранее, спасибо!' # сам вопрос\n",
        "model = '' # при желании можно переключить модель\n",
        "\n",
        "key = 'Bearer atha-xz7md6n6Z7Uy-4eFoONI7_kowcZaj8bZwh_dEpOeOf02qUJZJOH0YKHVSW15KW1m' #нужно добавить ключ\n",
        "\n",
        "\n",
        "answer = generate_answer_gpt(question = question, key = key, model = model, SYSTEM_PROMPT = SYSTEM_PROMPT)\n",
        "print(answer)"
      ],
      "metadata": {
        "id": "nonMnlg4x4kc",
        "outputId": "4f199393-091f-4f3b-d7a6-61dedb217245",
        "colab": {
          "base_uri": "https://localhost:8080/"
        }
      },
      "execution_count": 24,
      "outputs": [
        {
          "output_type": "stream",
          "name": "stdout",
          "text": [
            "Он посмотрел на неё строгим, будто испепеляющим(,) взглядом. Мы шли по тёмному, заросшему мхом(,) лесу.\n"
          ]
        }
      ]
    },
    {
      "cell_type": "code",
      "source": [
        "SYSTEM_PROMPT = '' # системный промпт. Если оставить пустым, будет использован системный промпт по умолчанию (можно посмотреть выше, внутри функции)\n",
        "question = 'Здравствуйте! Подскажите, как правильно писать сочетания с относительно новым понятием фиджитал: фиджитал танцы, фиджитал спорт и аналогичные (с тире, на пробеле).' # сам вопрос\n",
        "model = '' # при желании можно переключить модель\n",
        "\n",
        "key = 'Bearer atha-xz7md6n6Z7Uy-4eFoONI7_kowcZaj8bZwh_dEpOeOf02qUJZJOH0YKHVSW15KW1m' #нужно добавить ключ\n",
        "\n",
        "\n",
        "answer = generate_answer_gpt(question = question, key = key, model = model, SYSTEM_PROMPT = SYSTEM_PROMPT)\n",
        "print(answer)"
      ],
      "metadata": {
        "id": "4kbCXrRn59gn",
        "outputId": "2222614f-caf6-44bf-b585-d9cb69f359fc",
        "colab": {
          "base_uri": "https://localhost:8080/"
        }
      },
      "execution_count": 25,
      "outputs": [
        {
          "output_type": "stream",
          "name": "stdout",
          "text": [
            "фиджитал танцы, фиджитал спорт\n"
          ]
        }
      ]
    },
    {
      "cell_type": "code",
      "source": [
        "SYSTEM_PROMPT = '' # системный промпт. Если оставить пустым, будет использован системный промпт по умолчанию (можно посмотреть выше, внутри функции)\n",
        "question = 'Добрый день! Как правильно писать слово для обозначения туризма по цветущим местам? Встречаются варианты флоратуризм, флоротуризм, флоритуризм. Спасибо!' # сам вопрос\n",
        "model = '' # при желании можно переключить модель\n",
        "\n",
        "key = 'Bearer atha-xz7md6n6Z7Uy-4eFoONI7_kowcZaj8bZwh_dEpOeOf02qUJZJOH0YKHVSW15KW1m' #нужно добавить ключ\n",
        "\n",
        "\n",
        "answer = generate_answer_gpt(question = question, key = key, model = model, SYSTEM_PROMPT = SYSTEM_PROMPT)\n",
        "print(answer)"
      ],
      "metadata": {
        "id": "QIr2i0FN6fTm",
        "outputId": "26c1c963-163c-4b73-cbda-c1f04da75b80",
        "colab": {
          "base_uri": "https://localhost:8080/"
        }
      },
      "execution_count": 26,
      "outputs": [
        {
          "output_type": "stream",
          "name": "stdout",
          "text": [
            "флоратуризм, флоротуризм, флоритуризм\n"
          ]
        }
      ]
    },
    {
      "cell_type": "code",
      "source": [
        "SYSTEM_PROMPT = '' # системный промпт. Если оставить пустым, будет использован системный промпт по умолчанию (можно посмотреть выше, внутри функции)\n",
        "question = '« наша речь» - согласованное определение, а « его речь» несогласованное определение. В чем разница?' # сам вопрос\n",
        "model = '' # при желании можно переключить модель\n",
        "\n",
        "key = 'Bearer atha-xz7md6n6Z7Uy-4eFoONI7_kowcZaj8bZwh_dEpOeOf02qUJZJOH0YKHVSW15KW1m' #нужно добавить ключ\n",
        "\n",
        "\n",
        "answer = generate_answer_gpt(question = question, key = key, model = model, SYSTEM_PROMPT = SYSTEM_PROMPT)\n",
        "print(answer)"
      ],
      "metadata": {
        "id": "3yMa34MA7ALO",
        "outputId": "1ace57d1-aece-41d5-9167-c46319883980",
        "colab": {
          "base_uri": "https://localhost:8080/"
        }
      },
      "execution_count": 27,
      "outputs": [
        {
          "output_type": "stream",
          "name": "stdout",
          "text": [
            "«наша речь», «его речь»\n"
          ]
        }
      ]
    },
    {
      "cell_type": "code",
      "source": [
        "SYSTEM_PROMPT = '' # системный промпт. Если оставить пустым, будет использован системный промпт по умолчанию (можно посмотреть выше, внутри функции)\n",
        "question = 'Здравствуйте! Честно постаралась найти ответ на свой вопрос, но хрестоматийных примеров мне не хватило. Нужна ли запятая в формулировках такого рода: «Город, чтобы уехать на зиму», «Чай, чтобы пить в жару», «День, чтобы отдохнуть» — если это полное предложение, а не его часть? В моем случае это заголовок баннера (что позволяет вольности в целях типографики), но хотелось бы понять само правило, если оно как-то отличается от стандартной зпт перед придаточным. Спасибо!' # сам вопрос\n",
        "model = '' # при желании можно переключить модель\n",
        "\n",
        "key = 'Bearer atha-xz7md6n6Z7Uy-4eFoONI7_kowcZaj8bZwh_dEpOeOf02qUJZJOH0YKHVSW15KW1m' #нужно добавить ключ\n",
        "\n",
        "\n",
        "answer = generate_answer_gpt(question = question, key = key, model = model, SYSTEM_PROMPT = SYSTEM_PROMPT)\n",
        "print(answer)"
      ],
      "metadata": {
        "id": "T6OBHIuw7LRH",
        "outputId": "8a19ef64-3171-43a6-e2dd-bd73117b33e5",
        "colab": {
          "base_uri": "https://localhost:8080/"
        }
      },
      "execution_count": 28,
      "outputs": [
        {
          "output_type": "stream",
          "name": "stdout",
          "text": [
            "«Город, чтобы уехать на зиму», «Чай, чтобы пить в жару», «День, чтобы отдохнуть»\n"
          ]
        }
      ]
    },
    {
      "cell_type": "code",
      "source": [
        "SYSTEM_PROMPT = '' # системный промпт. Если оставить пустым, будет использован системный промпт по умолчанию (можно посмотреть выше, внутри функции)\n",
        "question = 'Добрый день! Помогите, пожалуйста, понять, как корректно склонять следующие азербайджанские имена: Ага Беюк Ага оглы Мирза Али-Кулибек Мешади Исмаил оглы Беюк Ага Али-Кули оглы Читала в ответе справки на аналогичный вопрос https://gramota.ru/spravka/vopros/266641, что требуется склонять все части имени, включая имя отца. Однако в приложении к словарю личных имён В. А. Суперанской сказано: \"В эквивалентных русскому отчеству сочетаниях типа Ахмед-оглы, Ахмед-кызы, т.е. сын Ахмеда, дочь Ахмеда, имена отцов не склоняются\". То есть не \"Ахмеду оглы\", а исключительно \"Ахмед оглы\". Однако в данном случае сами персональные имена состоят из нескольких компонентов. Считаются ли они при этом цельным именем (Беюк Ага) или могут считаться отдельными компонентами Беюк и Ага - и тогда каждый из них будет склоняться по своим правилам? Буду очень благодарна специалистам за разъяснения, я совсем запуталась, боюсь, без вашей помощи никак не справлюсь.' # сам вопрос\n",
        "model = '' # при желании можно переключить модель\n",
        "\n",
        "key = 'Bearer atha-xz7md6n6Z7Uy-4eFoONI7_kowcZaj8bZwh_dEpOeOf02qUJZJOH0YKHVSW15KW1m' #нужно добавить ключ\n",
        "\n",
        "\n",
        "answer = generate_answer_gpt(question = question, key = key, model = model, SYSTEM_PROMPT = SYSTEM_PROMPT)\n",
        "print(answer)"
      ],
      "metadata": {
        "id": "CIb8CwJl7jzc",
        "outputId": "4519c3e0-790d-41b4-b421-6d3c90a6d553",
        "colab": {
          "base_uri": "https://localhost:8080/"
        }
      },
      "execution_count": 29,
      "outputs": [
        {
          "output_type": "stream",
          "name": "stdout",
          "text": [
            "Ага Беюк Ага оглы Мирза Али-Кулибек Мешади Исмаил оглы Беюк Ага Али-Кули оглы\n"
          ]
        }
      ]
    },
    {
      "cell_type": "code",
      "source": [
        "SYSTEM_PROMPT = '' # системный промпт. Если оставить пустым, будет использован системный промпт по умолчанию (можно посмотреть выше, внутри функции)\n",
        "question = 'Здравствуйте. Скажите, пожалуйста, как будет правильно: путёвка в Умру или на Умру/поехать в Умру или на Умру?' # сам вопрос\n",
        "model = '' # при желании можно переключить модель\n",
        "\n",
        "key = 'Bearer atha-xz7md6n6Z7Uy-4eFoONI7_kowcZaj8bZwh_dEpOeOf02qUJZJOH0YKHVSW15KW1m' #нужно добавить ключ\n",
        "\n",
        "\n",
        "answer = generate_answer_gpt(question = question, key = key, model = model, SYSTEM_PROMPT = SYSTEM_PROMPT)\n",
        "print(answer)"
      ],
      "metadata": {
        "id": "9iOG9jcn8CHU",
        "outputId": "2fdc4937-dc72-4fc6-84a2-dda4637599c4",
        "colab": {
          "base_uri": "https://localhost:8080/"
        }
      },
      "execution_count": 30,
      "outputs": [
        {
          "output_type": "stream",
          "name": "stdout",
          "text": [
            "в Умру, поехать в Умру\n"
          ]
        }
      ]
    },
    {
      "cell_type": "code",
      "source": [
        "SYSTEM_PROMPT = '' # системный промпт. Если оставить пустым, будет использован системный промпт по умолчанию (можно посмотреть выше, внутри функции)\n",
        "question = 'Здравствуйте! Цыган, цыпочки, цыплёнок, цыкнуть — написание ы после ц в этих словах относится к исключениям. К какому из принципов орфографии можно отнести написание ы после ц в данных словах? Является ли он фонетическим или традиционно-этимологическим?' # сам вопрос\n",
        "model = '' # при желании можно переключить модель\n",
        "\n",
        "key = 'Bearer atha-xz7md6n6Z7Uy-4eFoONI7_kowcZaj8bZwh_dEpOeOf02qUJZJOH0YKHVSW15KW1m' #нужно добавить ключ\n",
        "\n",
        "\n",
        "answer = generate_answer_gpt(question = question, key = key, model = model, SYSTEM_PROMPT = SYSTEM_PROMPT)\n",
        "print(answer)"
      ],
      "metadata": {
        "id": "CMIjii4x9a2u",
        "outputId": "eeb8bd14-b92c-4ce3-ba08-0e94b88e63a6",
        "colab": {
          "base_uri": "https://localhost:8080/"
        }
      },
      "execution_count": 31,
      "outputs": [
        {
          "output_type": "stream",
          "name": "stdout",
          "text": [
            "ц(words):  цыган, цыпочки, цыплёнок, цыкнуть\n"
          ]
        }
      ]
    },
    {
      "cell_type": "code",
      "source": [
        "SYSTEM_PROMPT = '' # системный промпт. Если оставить пустым, будет использован системный промпт по умолчанию (можно посмотреть выше, внутри функции)\n",
        "question = 'Здравствуйте. \"Ей нравил... как Саша, так и Паша\". 1.Нравился или нравились? 2.Может ли в этой конструкции <как... так и...> быть несколько \"как\" и/или несколько \"так\"? Например: Она игнорировала как Сашу, как Пашу, так и Васю. Или впихнуть больше двух объектов здесь можно лишь таким образом: Она игнорировала как Сашу с Пашей, так и Васю с Колей.' # сам вопрос\n",
        "model = '' # при желании можно переключить модель\n",
        "\n",
        "key = 'Bearer atha-xz7md6n6Z7Uy-4eFoONI7_kowcZaj8bZwh_dEpOeOf02qUJZJOH0YKHVSW15KW1m' #нужно добавить ключ\n",
        "\n",
        "\n",
        "answer = generate_answer_gpt(question = question, key = key, model = model, SYSTEM_PROMPT = SYSTEM_PROMPT)\n",
        "print(answer)"
      ],
      "metadata": {
        "id": "fHi5pV8w9iyw",
        "outputId": "f712b98a-5263-4968-d09e-2ad51a980956",
        "colab": {
          "base_uri": "https://localhost:8080/"
        }
      },
      "execution_count": 32,
      "outputs": [
        {
          "output_type": "stream",
          "name": "stdout",
          "text": [
            "1. Нравились\n",
            "2. Она игнорировала как Сашу с Пашей, так и Васю с Колей.\n"
          ]
        }
      ]
    },
    {
      "cell_type": "code",
      "source": [
        "SYSTEM_PROMPT = '' # системный промпт. Если оставить пустым, будет использован системный промпт по умолчанию (можно посмотреть выше, внутри функции)\n",
        "question = 'Как одним словом обозначить способность распознавать что-то? Можно ли сказать распознавательность? Можно ли одним словом обозначить способность предсказывать что-то - предсказательность?' # сам вопрос\n",
        "model = '' # при желании можно переключить модель\n",
        "\n",
        "key = 'Bearer atha-xz7md6n6Z7Uy-4eFoONI7_kowcZaj8bZwh_dEpOeOf02qUJZJOH0YKHVSW15KW1m' #нужно добавить ключ\n",
        "\n",
        "\n",
        "answer = generate_answer_gpt(question = question, key = key, model = model, SYSTEM_PROMPT = SYSTEM_PROMPT)\n",
        "print(answer)"
      ],
      "metadata": {
        "id": "1PuN7zft-q2c",
        "outputId": "8e538929-348b-45af-9277-741f0715d588",
        "colab": {
          "base_uri": "https://localhost:8080/"
        }
      },
      "execution_count": 35,
      "outputs": [
        {
          "output_type": "stream",
          "name": "stdout",
          "text": [
            "распознавательность, предсказательность\n"
          ]
        }
      ]
    },
    {
      "cell_type": "code",
      "source": [
        "SYSTEM_PROMPT = '' # системный промпт. Если оставить пустым, будет использован системный промпт по умолчанию (можно посмотреть выше, внутри функции)\n",
        "question = 'Скажите, пожалуйста: я верно обошлась с дефисами и с пробелами вокруг скобок, когда захотела подчеркнуть наличие вариантов написания: \"(не)любовь\", \"суффикс (-ы)\", \"уборщик (-ца)\", \"страшно (?) интересно\"? В их использовании есть какая-то логика?' # сам вопрос\n",
        "model = '' # при желании можно переключить модель\n",
        "\n",
        "key = 'Bearer atha-xz7md6n6Z7Uy-4eFoONI7_kowcZaj8bZwh_dEpOeOf02qUJZJOH0YKHVSW15KW1m' #нужно добавить ключ\n",
        "\n",
        "\n",
        "answer = generate_answer_gpt(question = question, key = key, model = model, SYSTEM_PROMPT = SYSTEM_PROMPT)\n",
        "print(answer)"
      ],
      "metadata": {
        "id": "7-xsNjfD_0G8",
        "outputId": "db43a0c1-3d64-4ccc-83a7-817d747d02bc",
        "colab": {
          "base_uri": "https://localhost:8080/"
        }
      },
      "execution_count": 36,
      "outputs": [
        {
          "output_type": "stream",
          "name": "stdout",
          "text": [
            "\"(не)любовь\", \"суффикс (-ы)\", \"уборщик (-ца)\", \"страшно (?) интересно\"\n"
          ]
        }
      ]
    },
    {
      "cell_type": "code",
      "source": [
        "SYSTEM_PROMPT = '' # системный промпт. Если оставить пустым, будет использован системный промпт по умолчанию (можно посмотреть выше, внутри функции)\n",
        "question = 'Здравствуйте! Подскажите, пожалуйста, способы словообразования данных слов Болезненный, задвижка, игольчатый, столкновение, неудержимость, обезлесить, раскрашивание, завязь, тихо.' # сам вопрос\n",
        "model = '' # при желании можно переключить модель\n",
        "\n",
        "key = 'Bearer atha-xz7md6n6Z7Uy-4eFoONI7_kowcZaj8bZwh_dEpOeOf02qUJZJOH0YKHVSW15KW1m' #нужно добавить ключ\n",
        "\n",
        "\n",
        "answer = generate_answer_gpt(question = question, key = key, model = model, SYSTEM_PROMPT = SYSTEM_PROMPT)\n",
        "print(answer)"
      ],
      "metadata": {
        "id": "oRftTR4eC8N6",
        "outputId": "51ff1497-1c5b-4b8f-cd94-56c58accb2b9",
        "colab": {
          "base_uri": "https://localhost:8080/"
        }
      },
      "execution_count": 37,
      "outputs": [
        {
          "output_type": "stream",
          "name": "stdout",
          "text": [
            "Болезненный, задвижка, игольчатый, столкновение, неудержимость, обезлесить, раскрашивание, завязь, тихо.\n"
          ]
        }
      ]
    },
    {
      "cell_type": "code",
      "source": [
        "SYSTEM_PROMPT = '' # системный промпт. Если оставить пустым, будет использован системный промпт по умолчанию (можно посмотреть выше, внутри функции)\n",
        "question = 'Добрый вечер! Подскажите, пожалуйста, нужны ли запятые перед КУДА в примерах: Мы знаем(,) куда инвестировать Ищешь(,)куда инвестировать? Ищешь(,) куда вложить деньги? Наткнулась на такую статью со ссылкой на Розенталя....теперь не знаю, что делать https://newslab.ru/article/320188' # сам вопрос\n",
        "model = '' # при желании можно переключить модель\n",
        "\n",
        "key = 'Bearer atha-xz7md6n6Z7Uy-4eFoONI7_kowcZaj8bZwh_dEpOeOf02qUJZJOH0YKHVSW15KW1m' #нужно добавить ключ\n",
        "\n",
        "\n",
        "answer = generate_answer_gpt(question = question, key = key, model = model, SYSTEM_PROMPT = SYSTEM_PROMPT)\n",
        "print(answer)"
      ],
      "metadata": {
        "id": "0nhRR1KsEoNg",
        "outputId": "9256f134-fc3a-4ca3-9c9a-f5a6b8db470a",
        "colab": {
          "base_uri": "https://localhost:8080/"
        }
      },
      "execution_count": 38,
      "outputs": [
        {
          "output_type": "stream",
          "name": "stdout",
          "text": [
            "Мы знаем(,) куда инвестировать  \n",
            "Ищешь(,)куда инвестировать?  \n",
            "Ищешь(,) куда вложить деньги?\n"
          ]
        }
      ]
    },
    {
      "cell_type": "code",
      "source": [
        "SYSTEM_PROMPT = '' # системный промпт. Если оставить пустым, будет использован системный промпт по умолчанию (можно посмотреть выше, внутри функции)\n",
        "question = 'Здравствуйте, уважаемые сотрудники портала! Пожалуйста, помогите разобраться с правилами нахождения правильного инфинитива глагола что бы потом правильно определять его спряжение и написание букв е\\и или у,ю\\а,я в зависимости от спряжения. Я хочу помочь освоить эту тему сыну, ученику 4 класса. Тут указание на возраст важно. Примеры: - (что Сделаем?) куп...м => инф. будет (что Сделать?) купить => 2 спр., не исключение, ты купИшь, они купЯт. Тут все ясно. - (что Делаем?) сажа...м => инф. будет (что Делать?) сажать => 1 спр., не исключение, ты сажаЕшь, они сажаЮт. Тут все ясно. - (что Сделаем?) посад...м => инф. будет (что Сделать?) посадить => 2 спр., не исключение, ты посадИшь, они посадЯт. Но учитель сказала, что инфинитив любит прятаться за приставками и ребенок образует инфинитив как \"что Сделать? - садить\", понимает, что такого слова нет и переворачивает его в \"сажать\", но сажать отвечает на вопрос \"что Делать?\" + это 1 спр. и ребенок начинает писать \"посадЕм, посадЕшь, посадЮт\"' # сам вопрос\n",
        "model = '' # при желании можно переключить модель\n",
        "\n",
        "key = 'Bearer atha-xz7md6n6Z7Uy-4eFoONI7_kowcZaj8bZwh_dEpOeOf02qUJZJOH0YKHVSW15KW1m' #нужно добавить ключ\n",
        "\n",
        "\n",
        "answer = generate_answer_gpt(question = question, key = key, model = model, SYSTEM_PROMPT = SYSTEM_PROMPT)\n",
        "print(answer)"
      ],
      "metadata": {
        "id": "QEfvBZDaFQAz",
        "outputId": "c67de0cc-3887-4f4f-98c9-011da9301687",
        "colab": {
          "base_uri": "https://localhost:8080/"
        }
      },
      "execution_count": 40,
      "outputs": [
        {
          "output_type": "stream",
          "name": "stdout",
          "text": [
            "\"что Сделаем?\" куп...м => инф. будет (что Сделать?) купить => 2 спр., не исключение, ты купИшь, они купЯт.\n",
            "\n",
            "\"что Делаем?\" сажа...м => инф. будет (что Делать?) сажать => 1 спр., не исключение, ты сажаЕшь, они сажаЮт.\n",
            "\n",
            "\"что Сделаем?\" посад...м => инф. будет (что Сделать?) посадить => 2 спр., не исключение, ты посадИшь, они посадЯт.\n",
            "\n",
            "\"что Сделать? - садить\"\n",
            "\n",
            "\"сажать\"\n"
          ]
        }
      ]
    },
    {
      "cell_type": "code",
      "source": [
        "SYSTEM_PROMPT = '' # системный промпт. Если оставить пустым, будет использован системный промпт по умолчанию (можно посмотреть выше, внутри функции)\n",
        "question = 'Здравствуйте, уважаемые сотрудники портала! Пожалуйста, помогите разобраться с правилами нахождения правильного инфинитива глагола что бы потом правильно определять его спряжение и написание букв е\\и или у,ю\\а,я в зависимости от спряжения. Я хочу помочь освоить эту тему сыну, ученику 4 класса. Тут указание на возраст важно. Примеры: - (что Сделаем?) куп...м => инф. будет (что Сделать?) купить => 2 спр., не исключение, ты купИшь, они купЯт. Тут все ясно. - (что Делаем?) сажа...м => инф. будет (что Делать?) сажать => 1 спр., не исключение, ты сажаЕшь, они сажаЮт. Тут все ясно. - (что Сделаем?) посад...м => инф. будет (что Сделать?) посадить => 2 спр., не исключение, ты посадИшь, они посадЯт. Но учитель сказала, что инфинитив любит прятаться за приставками и ребенок образует инфинитив как \"что Сделать? - садить\", понимает, что такого слова нет и переворачивает его в \"сажать\", но сажать отвечает на вопрос \"что Делать?\" + это 1 спр. и ребенок начинает писать \"посадЕм, посадЕшь, посадЮт\"' # сам вопрос\n",
        "model = '' # при желании можно переключить модель\n",
        "\n",
        "key = 'Bearer atha-xz7md6n6Z7Uy-4eFoONI7_kowcZaj8bZwh_dEpOeOf02qUJZJOH0YKHVSW15KW1m' #нужно добавить ключ\n",
        "\n",
        "\n",
        "answer = generate_answer_gpt(question = question, key = key, model = model, SYSTEM_PROMPT = SYSTEM_PROMPT)\n",
        "print(answer)"
      ],
      "metadata": {
        "id": "UHTxFkRkIU30"
      },
      "execution_count": null,
      "outputs": []
    }
  ]
}