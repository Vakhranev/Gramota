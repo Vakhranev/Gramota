{
  "nbformat": 4,
  "nbformat_minor": 0,
  "metadata": {
    "colab": {
      "provenance": [],
      "include_colab_link": true
    },
    "kernelspec": {
      "name": "python3",
      "display_name": "Python 3"
    },
    "language_info": {
      "name": "python"
    }
  },
  "cells": [
    {
      "cell_type": "markdown",
      "metadata": {
        "id": "view-in-github",
        "colab_type": "text"
      },
      "source": [
        "<a href=\"https://colab.research.google.com/github/Vakhranev/Gramota/blob/main/%D0%9F%D1%80%D0%BE%D0%BC%D1%82%D1%8B%20%D0%BD%D0%B0%20%D0%BF%D1%80%D0%B5%D0%B4%D0%BC%D0%B5%D1%82%20%D0%B2%D0%BE%D0%BF%D1%80%D0%BE%D1%81%D0%B0.ipynb\" target=\"_parent\"><img src=\"https://colab.research.google.com/assets/colab-badge.svg\" alt=\"Open In Colab\"/></a>"
      ]
    },
    {
      "cell_type": "code",
      "source": [
        "import requests\n",
        "import json\n",
        "import re\n",
        "\n",
        "def generate_answer_gpt(question, model=None, key=None, SYSTEM_PROMPT=None):\n",
        "\n",
        "  if not SYSTEM_PROMPT:\n",
        "    SYSTEM_PROMPT = '''Про какое слово или слова спрашивает пользователь?\n",
        "    Отвечай только тем словом (словами) или словосочетаниями (предложениями),\n",
        "    про которые спрашивает пользователь.\n",
        "    Ничего дополнительно не пиши. Не видоизменяй его, пиши в той форме, в которой про него спрашивают.\n",
        "    Если спрашивают про конкретное предложение — пишиего целиком.\n",
        "    Не отвечай на его вопрос.\n",
        "    '''\n",
        "\n",
        "  if not model:\n",
        "    model = 'gpt-4o'\n",
        "\n",
        "  url = 'https://athanote.com/api/v1/ai'\n",
        "  headers = {\"Authorization\" : key,\n",
        "             \"Content-Type\": \"application/json\"}\n",
        "  payload = {\"model\": model, \"messages\": [\n",
        "      {\"role\": \"system\", \"content\": SYSTEM_PROMPT},\n",
        "      { \"role\": \"user\", \"content\": question }\n",
        "      ]}\n",
        "  payload_json = json.dumps(payload)\n",
        "\n",
        "  response = requests.post(url, data=payload_json, headers=headers)\n",
        "\n",
        "  data = response.json()\n",
        "\n",
        "  parsed_response = data['choices'][0]['message']['content']\n",
        "\n",
        "  parsed_response = re.sub(r'<links>[\\s\\S]*</links>', '', parsed_response)\n",
        "\n",
        "  return parsed_response"
      ],
      "metadata": {
        "id": "fKLjYgB6Fe6N"
      },
      "execution_count": 74,
      "outputs": []
    },
    {
      "cell_type": "code",
      "source": [
        "SYSTEM_PROMPT = '' # системный промпт. Если оставить пустым, будет использован системный промпт по умолчанию (можно посмотреть выше, внутри функции)\n",
        "question = 'Почему \"неукоснительный\" относится к правилу -кас-/-кос-? Если у данного корня лекс. значение \"дотрагиваться\", а значение данного слова \"обязательный к исполнению\"' # сам вопрос\n",
        "model = '' # при желании можно переключить модель\n",
        "\n",
        "key = 'Bearer' #нужно добавить ключ\n",
        "\n",
        "\n",
        "answer = generate_answer_gpt(question = question, key = key, model = model, SYSTEM_PROMPT = SYSTEM_PROMPT)\n",
        "print(answer)"
      ],
      "metadata": {
        "colab": {
          "base_uri": "https://localhost:8080/"
        },
        "id": "q_vOMpCmFhgO",
        "outputId": "cd66e26a-f31b-4c3a-ca5a-3e1af979a2bc"
      },
      "execution_count": 76,
      "outputs": [
        {
          "output_type": "stream",
          "name": "stdout",
          "text": [
            "\"неукоснительный\"\n"
          ]
        }
      ]
    },
    {
      "cell_type": "code",
      "source": [
        "SYSTEM_PROMPT = '' # системный промпт. Если оставить пустым, будет использован системный промпт по умолчанию (можно посмотреть выше, внутри функции)\n",
        "question = 'помогите сделать словообразовательный разбор слов «плакса», «хныкса», «крикса».' # сам вопрос\n",
        "model = '' # при желании можно переключить модель\n",
        "\n",
        "key = 'Bearer' #нужно добавить ключ\n",
        "\n",
        "\n",
        "answer = generate_answer_gpt(question = question, key = key, model = model, SYSTEM_PROMPT = SYSTEM_PROMPT)\n",
        "print(answer)"
      ],
      "metadata": {
        "id": "zPzyvrPHG07Z",
        "colab": {
          "base_uri": "https://localhost:8080/"
        },
        "outputId": "8a1c1a28-742e-4863-c677-92461dff2f99"
      },
      "execution_count": 77,
      "outputs": [
        {
          "output_type": "stream",
          "name": "stdout",
          "text": [
            "плакса, хныкса, крикса\n"
          ]
        }
      ]
    },
    {
      "cell_type": "code",
      "source": [
        "SYSTEM_PROMPT = '' # системный промпт. Если оставить пустым, будет использован системный промпт по умолчанию (можно посмотреть выше, внутри функции)\n",
        "question = 'Подскажите способ образования слова опилки' # сам вопрос\n",
        "model = '' # при желании можно переключить модель\n",
        "\n",
        "key = 'Bearer' #нужно добавить ключ\n",
        "\n",
        "\n",
        "answer = generate_answer_gpt(question = question, key = key, model = model, SYSTEM_PROMPT = SYSTEM_PROMPT)\n",
        "print(answer)"
      ],
      "metadata": {
        "colab": {
          "base_uri": "https://localhost:8080/"
        },
        "id": "HoqtuIWZA9Lr",
        "outputId": "58ecae6b-f233-4cf8-8372-1a59f0a47af7"
      },
      "execution_count": 78,
      "outputs": [
        {
          "output_type": "stream",
          "name": "stdout",
          "text": [
            "опилки\n"
          ]
        }
      ]
    },
    {
      "cell_type": "code",
      "source": [
        "SYSTEM_PROMPT = '' # системный промпт. Если оставить пустым, будет использован системный промпт по умолчанию (можно посмотреть выше, внутри функции)\n",
        "question = 'Добрый вечер! Подскажите, пожалуйста, как правильно сделать морфемный разбор слова «последний»?' # сам вопрос\n",
        "model = '' # при желании можно переключить модель\n",
        "\n",
        "key = 'Bearer' #нужно добавить ключ\n",
        "\n",
        "\n",
        "answer = generate_answer_gpt(question = question, key = key, model = model, SYSTEM_PROMPT = SYSTEM_PROMPT)\n",
        "print(answer)"
      ],
      "metadata": {
        "colab": {
          "base_uri": "https://localhost:8080/"
        },
        "id": "OSK1deSMEfQm",
        "outputId": "238123e4-2c81-4243-cb3b-f7efbce36cf2"
      },
      "execution_count": 79,
      "outputs": [
        {
          "output_type": "stream",
          "name": "stdout",
          "text": [
            "последний\n"
          ]
        }
      ]
    },
    {
      "cell_type": "code",
      "source": [
        "SYSTEM_PROMPT = '' # системный промпт. Если оставить пустым, будет использован системный промпт по умолчанию (можно посмотреть выше, внутри функции)\n",
        "question = 'Добрый день! Подскажите, пожалуйста, какой способ словообразования у слова «постройка». Вроде бы логично определить, как у слова «заглушка» (суффиксальный). Но есть несколько вариантов: приставочно-суффиксальный (строить + по- + -к(а)), приставочный (строить -> стройка + по-) или суффиксальный всё же (построить + -к(а)).' # сам вопрос\n",
        "model = '' # при желании можно переключить модель\n",
        "\n",
        "key = 'Bearer' #нужно добавить ключ\n",
        "\n",
        "\n",
        "answer = generate_answer_gpt(question = question, key = key, model = model, SYSTEM_PROMPT = SYSTEM_PROMPT)\n",
        "print(answer)"
      ],
      "metadata": {
        "colab": {
          "base_uri": "https://localhost:8080/"
        },
        "id": "19QVgFitFIoV",
        "outputId": "37032025-736f-49fc-d39e-9ae7c2d0318b"
      },
      "execution_count": 80,
      "outputs": [
        {
          "output_type": "stream",
          "name": "stdout",
          "text": [
            "«постройка»\n"
          ]
        }
      ]
    },
    {
      "cell_type": "code",
      "source": [
        "SYSTEM_PROMPT = '' # системный промпт. Если оставить пустым, будет использован системный промпт по умолчанию (можно посмотреть выше, внутри функции)\n",
        "question = 'Какой частью речи и каким членом предложения является ПОЛ в предложениях: Пол Московской области. или Пол чайной ложки.? Как выделяется и какой частью слова является ПОЛ в словах пол-лимона, пол-Москвы, пол-августа и полметра?' # сам вопрос\n",
        "model = '' # при желании можно переключить модель\n",
        "\n",
        "key = 'Bearer' #нужно добавить ключ\n",
        "\n",
        "\n",
        "answer = generate_answer_gpt(question = question, key = key, model = model, SYSTEM_PROMPT = SYSTEM_PROMPT)\n",
        "print(answer)"
      ],
      "metadata": {
        "colab": {
          "base_uri": "https://localhost:8080/"
        },
        "id": "N_lxWOLJFgge",
        "outputId": "7c28efe0-9399-4525-891a-fbf06809ef64"
      },
      "execution_count": 82,
      "outputs": [
        {
          "output_type": "stream",
          "name": "stdout",
          "text": [
            "Пол Московской области.  \n",
            "Пол чайной ложки.  \n",
            "пол-лимона, пол-Москвы, пол-августа, полметра\n"
          ]
        }
      ]
    },
    {
      "cell_type": "code",
      "source": [
        "SYSTEM_PROMPT = '' # системный промпт. Если оставить пустым, будет использован системный промпт по умолчанию (можно посмотреть выше, внутри функции)\n",
        "question = 'Подскажите пожалуйста, правильно ли с точки зрения русского языка использовать в названии научной статьи словосочетание «циклов по перебору ребер поверхности», или только «циклов перебора ребер поверхности»? Хотелось бы избежать четырех слов подряд в родительном падеже.' # сам вопрос\n",
        "model = '' # при желании можно переключить модель\n",
        "\n",
        "key = 'Bearer' #нужно добавить ключ\n",
        "\n",
        "\n",
        "answer = generate_answer_gpt(question = question, key = key, model = model, SYSTEM_PROMPT = SYSTEM_PROMPT)\n",
        "print(answer)"
      ],
      "metadata": {
        "colab": {
          "base_uri": "https://localhost:8080/"
        },
        "id": "-Dp3Yr94H6Nx",
        "outputId": "07024912-64a0-4357-c6b9-900c26025ee8"
      },
      "execution_count": 83,
      "outputs": [
        {
          "output_type": "stream",
          "name": "stdout",
          "text": [
            "«циклов по перебору ребер поверхности»\n"
          ]
        }
      ]
    },
    {
      "cell_type": "code",
      "source": [
        "SYSTEM_PROMPT = '' # системный промпт. Если оставить пустым, будет использован системный промпт по умолчанию (можно посмотреть выше, внутри функции)\n",
        "question = 'Здравствуйте, как верно просклонять наименование учреждения - Государственное бюджетное учреждение Дом социального обслуживания «Ромашка»? По документам именно в таком варианте! В дательном падеже - Государственного бюджетного учреждения Дома социального обслуживания «Ромашка» или Государственного бюджетного учреждения Дом социального обслуживания «Ромашка»?' # сам вопрос\n",
        "model = '' # при желании можно переключить модель\n",
        "\n",
        "key = 'Bearer' #нужно добавить ключ\n",
        "\n",
        "\n",
        "answer = generate_answer_gpt(question = question, key = key, model = model, SYSTEM_PROMPT = SYSTEM_PROMPT)\n",
        "print(answer)"
      ],
      "metadata": {
        "colab": {
          "base_uri": "https://localhost:8080/"
        },
        "id": "8Ih-O9PzISOF",
        "outputId": "b75f09a5-81d7-4d37-8d77-1a5ea7cd7c57"
      },
      "execution_count": 84,
      "outputs": [
        {
          "output_type": "stream",
          "name": "stdout",
          "text": [
            "Государственного бюджетного учреждения Дома социального обслуживания «Ромашка»\n"
          ]
        }
      ]
    },
    {
      "cell_type": "code",
      "source": [
        "SYSTEM_PROMPT = '' # системный промпт. Если оставить пустым, будет использован системный промпт по умолчанию (можно посмотреть выше, внутри функции)\n",
        "question = 'Здравствуйте! В предложении \"Есть два вида предохранителей: перегоревшие и не перегоревшие\" стоит \"не перегоревшие\" писать раздельно или слитно? Заранее спасибо!' # сам вопрос\n",
        "model = '' # при желании можно переключить модель\n",
        "\n",
        "key = 'Bearer' #нужно добавить ключ\n",
        "\n",
        "\n",
        "answer = generate_answer_gpt(question = question, key = key, model = model, SYSTEM_PROMPT = SYSTEM_PROMPT)\n",
        "print(answer)"
      ],
      "metadata": {
        "colab": {
          "base_uri": "https://localhost:8080/"
        },
        "id": "3sGhWTCSIkjJ",
        "outputId": "04a88019-d8ea-44f0-dad8-af9133eeafbf"
      },
      "execution_count": 85,
      "outputs": [
        {
          "output_type": "stream",
          "name": "stdout",
          "text": [
            "не перегоревшие\n"
          ]
        }
      ]
    },
    {
      "cell_type": "code",
      "source": [
        "SYSTEM_PROMPT = '' # системный промпт. Если оставить пустым, будет использован системный промпт по умолчанию (можно посмотреть выше, внутри функции)\n",
        "question = 'Здравствуйте! нужна ли запятая в следующем предложении? Он расспросил ребят о школе, её руководстве, изучаемых предметах(,) и даже о наличии в ней бассейна.' # сам вопрос\n",
        "model = '' # при желании можно переключить модель\n",
        "\n",
        "key = 'Bearer' #нужно добавить ключ\n",
        "\n",
        "\n",
        "answer = generate_answer_gpt(question = question, key = key, model = model, SYSTEM_PROMPT = SYSTEM_PROMPT)\n",
        "print(answer)"
      ],
      "metadata": {
        "colab": {
          "base_uri": "https://localhost:8080/"
        },
        "id": "4M46immyI9aF",
        "outputId": "edb3314e-891c-4c99-99f3-dafedaec27f1"
      },
      "execution_count": 75,
      "outputs": [
        {
          "output_type": "stream",
          "name": "stdout",
          "text": [
            "Он расспросил ребят о школе, её руководстве, изучаемых предметах(,) и даже о наличии в ней бассейна.\n"
          ]
        }
      ]
    }
  ]
}