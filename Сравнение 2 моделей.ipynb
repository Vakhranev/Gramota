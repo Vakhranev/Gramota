{
  "nbformat": 4,
  "nbformat_minor": 0,
  "metadata": {
    "colab": {
      "provenance": [],
      "authorship_tag": "ABX9TyMk2ARvicrtA+c/KIxgLK0P",
      "include_colab_link": true
    },
    "kernelspec": {
      "name": "python3",
      "display_name": "Python 3"
    },
    "language_info": {
      "name": "python"
    }
  },
  "cells": [
    {
      "cell_type": "markdown",
      "metadata": {
        "id": "view-in-github",
        "colab_type": "text"
      },
      "source": [
        "<a href=\"https://colab.research.google.com/github/Vakhranev/Gramota/blob/main/%D0%A1%D1%80%D0%B0%D0%B2%D0%BD%D0%B5%D0%BD%D0%B8%D0%B5%202%20%D0%BC%D0%BE%D0%B4%D0%B5%D0%BB%D0%B5%D0%B9.ipynb\" target=\"_parent\"><img src=\"https://colab.research.google.com/assets/colab-badge.svg\" alt=\"Open In Colab\"/></a>"
      ]
    },
    {
      "cell_type": "code",
      "execution_count": 1,
      "metadata": {
        "id": "-KxGJ8OY1TH9"
      },
      "outputs": [],
      "source": [
        "from pathlib import Path\n",
        "from openai import OpenAI\n",
        "\n",
        "# Установите ваш API-ключ\n",
        "client = OpenAI(api_key='')"
      ]
    },
    {
      "cell_type": "code",
      "source": [
        "completion = client.chat.completions.create(\n",
        "    model=\"ft:gpt-4o-2024-08-06:personal::B9q8mHpy\",\n",
        "    messages=[\n",
        "        {\"role\": \"system\", \"content\": \"Ты — эксперт-лингвист, отвечающий на вопросы с учетом знаний русского литературного языка.\"},\n",
        "        {\"role\": \"user\", \"content\": '''двух-трехнедельный сезон / двух- трехнедельный сезон. Как правильно, тире/дефис, с пробелами/без? Спасибо.'''}\n",
        "    ]\n",
        ")\n",
        "\n",
        "print(completion.choices[0].message)"
      ],
      "metadata": {
        "colab": {
          "base_uri": "https://localhost:8080/"
        },
        "id": "IhoQMMHz4kI7",
        "outputId": "8eec3dc1-727d-4366-9261-c611c1f0aa25"
      },
      "execution_count": 166,
      "outputs": [
        {
          "output_type": "stream",
          "name": "stdout",
          "text": [
            "ChatCompletionMessage(content='Правильно: двух- трехнедельный сезон.', refusal=None, role='assistant', annotations=[], audio=None, function_call=None, tool_calls=None)\n"
          ]
        }
      ]
    },
    {
      "cell_type": "code",
      "source": [
        "completion = client.chat.completions.create(\n",
        "    model=\"ft:gpt-4o-2024-08-06:personal::B9rkPQEx\",\n",
        "    messages=[\n",
        "        {\"role\": \"user\", \"content\": '''двух-трехнедельный сезон / двух- трехнедельный сезон. Как правильно, тире/дефис, с пробелами/без? Спасибо.'''}\n",
        "    ]\n",
        ")\n",
        "\n",
        "print(completion.choices[0].message)"
      ],
      "metadata": {
        "colab": {
          "base_uri": "https://localhost:8080/"
        },
        "id": "CJloYz8l7bpr",
        "outputId": "09857f61-2317-4a61-8404-231dfdd734ff"
      },
      "execution_count": 167,
      "outputs": [
        {
          "output_type": "stream",
          "name": "stdout",
          "text": [
            "ChatCompletionMessage(content='Корректно:\\xa0двух-трехнедельный сезон\\xa0(союз без пробелов, дефис).', refusal=None, role='assistant', annotations=[], audio=None, function_call=None, tool_calls=None)\n"
          ]
        }
      ]
    }
  ]
}