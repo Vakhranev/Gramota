{
  "nbformat": 4,
  "nbformat_minor": 0,
  "metadata": {
    "colab": {
      "provenance": [],
      "include_colab_link": true
    },
    "kernelspec": {
      "name": "python3",
      "display_name": "Python 3"
    },
    "language_info": {
      "name": "python"
    }
  },
  "cells": [
    {
      "cell_type": "markdown",
      "metadata": {
        "id": "view-in-github",
        "colab_type": "text"
      },
      "source": [
        "<a href=\"https://colab.research.google.com/github/Vakhranev/Gramota/blob/main/%D0%9F%D1%80%D0%BE%D0%BC%D1%82%D1%8B%20%D0%BD%D0%B0%20%D1%82%D0%B5%D0%BC%D1%83%20%D0%B2%D0%BE%D0%BF%D1%80%D0%BE%D1%81%D0%B0.ipynb\" target=\"_parent\"><img src=\"https://colab.research.google.com/assets/colab-badge.svg\" alt=\"Open In Colab\"/></a>"
      ]
    },
    {
      "cell_type": "code",
      "source": [
        "import requests\n",
        "import json\n",
        "import re\n",
        "\n",
        "def generate_answer_gpt(question, model=None, key=None, SYSTEM_PROMPT=None):\n",
        "\n",
        "  if not SYSTEM_PROMPT:\n",
        "    SYSTEM_PROMPT = '''Напиши к какой глобальной теме школьной программы русского языка относится вопрос пользователя.\n",
        "    Выводи только название темы.\n",
        "    '''\n",
        "\n",
        "  if not model:\n",
        "    model = 'gpt-4o'\n",
        "\n",
        "  url = 'https://athanote.com/api/v1/ai'\n",
        "  headers = {\"Authorization\" : key,\n",
        "             \"Content-Type\": \"application/json\"}\n",
        "  payload = {\"model\": model, \"messages\": [\n",
        "      {\"role\": \"system\", \"content\": SYSTEM_PROMPT},\n",
        "      { \"role\": \"user\", \"content\": question }\n",
        "      ]}\n",
        "  payload_json = json.dumps(payload)\n",
        "\n",
        "  response = requests.post(url, data=payload_json, headers=headers)\n",
        "\n",
        "  data = response.json()\n",
        "\n",
        "  parsed_response = data['choices'][0]['message']['content']\n",
        "\n",
        "  parsed_response = re.sub(r'<links>[\\s\\S]*</links>', '', parsed_response)\n",
        "\n",
        "  return parsed_response"
      ],
      "metadata": {
        "id": "fKLjYgB6Fe6N"
      },
      "execution_count": 90,
      "outputs": []
    },
    {
      "cell_type": "code",
      "source": [
        "SYSTEM_PROMPT = '' # системный промпт. Если оставить пустым, будет использован системный промпт по умолчанию (можно посмотреть выше, внутри функции)\n",
        "question = 'Почему \"неукоснительный\" относится к правилу -кас-/-кос-? Если у данного корня лекс. значение \"дотрагиваться\", а значение данного слова \"обязательный к исполнению\"' # сам вопрос\n",
        "model = '' # при желании можно переключить модель\n",
        "\n",
        "key = 'Bearer' #нужно добавить ключ\n",
        "\n",
        "\n",
        "answer = generate_answer_gpt(question = question, key = key, model = model, SYSTEM_PROMPT = SYSTEM_PROMPT)\n",
        "print(answer)"
      ],
      "metadata": {
        "colab": {
          "base_uri": "https://localhost:8080/"
        },
        "id": "q_vOMpCmFhgO",
        "outputId": "5de133fb-5965-4077-877c-fa7e21d4ace3"
      },
      "execution_count": 91,
      "outputs": [
        {
          "output_type": "stream",
          "name": "stdout",
          "text": [
            "Правописание корней с чередованием гласных\n"
          ]
        }
      ]
    },
    {
      "cell_type": "code",
      "source": [
        "SYSTEM_PROMPT = '' # системный промпт. Если оставить пустым, будет использован системный промпт по умолчанию (можно посмотреть выше, внутри функции)\n",
        "question = 'помогите сделать словообразовательный разбор слов «плакса», «хныкса», «крикса».' # сам вопрос\n",
        "model = '' # при желании можно переключить модель\n",
        "\n",
        "key = 'Bearer' #нужно добавить ключ\n",
        "\n",
        "\n",
        "answer = generate_answer_gpt(question = question, key = key, model = model, SYSTEM_PROMPT = SYSTEM_PROMPT)\n",
        "print(answer)"
      ],
      "metadata": {
        "id": "zPzyvrPHG07Z",
        "colab": {
          "base_uri": "https://localhost:8080/"
        },
        "outputId": "085c9069-c06f-437e-a205-0c5ecd6792de"
      },
      "execution_count": 92,
      "outputs": [
        {
          "output_type": "stream",
          "name": "stdout",
          "text": [
            "Словообразование\n"
          ]
        }
      ]
    },
    {
      "cell_type": "code",
      "source": [
        "SYSTEM_PROMPT = '' # системный промпт. Если оставить пустым, будет использован системный промпт по умолчанию (можно посмотреть выше, внутри функции)\n",
        "question = 'Подскажите способ образования слова опилки' # сам вопрос\n",
        "model = '' # при желании можно переключить модель\n",
        "\n",
        "key = 'Bearer' #нужно добавить ключ\n",
        "\n",
        "\n",
        "answer = generate_answer_gpt(question = question, key = key, model = model, SYSTEM_PROMPT = SYSTEM_PROMPT)\n",
        "print(answer)"
      ],
      "metadata": {
        "colab": {
          "base_uri": "https://localhost:8080/"
        },
        "id": "HoqtuIWZA9Lr",
        "outputId": "931c29b0-b189-4933-9511-04887d513e0b"
      },
      "execution_count": 94,
      "outputs": [
        {
          "output_type": "stream",
          "name": "stdout",
          "text": [
            "Словообразование\n"
          ]
        }
      ]
    },
    {
      "cell_type": "code",
      "source": [
        "SYSTEM_PROMPT = '' # системный промпт. Если оставить пустым, будет использован системный промпт по умолчанию (можно посмотреть выше, внутри функции)\n",
        "question = 'Добрый вечер! Подскажите, пожалуйста, как правильно сделать морфемный разбор слова «последний»?' # сам вопрос\n",
        "model = '' # при желании можно переключить модель\n",
        "\n",
        "key = 'Bearer' #нужно добавить ключ\n",
        "\n",
        "\n",
        "answer = generate_answer_gpt(question = question, key = key, model = model, SYSTEM_PROMPT = SYSTEM_PROMPT)\n",
        "print(answer)"
      ],
      "metadata": {
        "colab": {
          "base_uri": "https://localhost:8080/"
        },
        "id": "OSK1deSMEfQm",
        "outputId": "81c8be48-92d8-4884-915d-269af26714ac"
      },
      "execution_count": 95,
      "outputs": [
        {
          "output_type": "stream",
          "name": "stdout",
          "text": [
            "Морфемика\n"
          ]
        }
      ]
    },
    {
      "cell_type": "code",
      "source": [
        "SYSTEM_PROMPT = '' # системный промпт. Если оставить пустым, будет использован системный промпт по умолчанию (можно посмотреть выше, внутри функции)\n",
        "question = 'Добрый день! Подскажите, пожалуйста, какой способ словообразования у слова «постройка». Вроде бы логично определить, как у слова «заглушка» (суффиксальный). Но есть несколько вариантов: приставочно-суффиксальный (строить + по- + -к(а)), приставочный (строить -> стройка + по-) или суффиксальный всё же (построить + -к(а)).' # сам вопрос\n",
        "model = '' # при желании можно переключить модель\n",
        "\n",
        "key = 'Bearer' #нужно добавить ключ\n",
        "\n",
        "\n",
        "answer = generate_answer_gpt(question = question, key = key, model = model, SYSTEM_PROMPT = SYSTEM_PROMPT)\n",
        "print(answer)"
      ],
      "metadata": {
        "colab": {
          "base_uri": "https://localhost:8080/"
        },
        "id": "19QVgFitFIoV",
        "outputId": "c3dc81dc-b857-43be-8911-73ffd192c87b"
      },
      "execution_count": 96,
      "outputs": [
        {
          "output_type": "stream",
          "name": "stdout",
          "text": [
            "Словообразование\n"
          ]
        }
      ]
    },
    {
      "cell_type": "code",
      "source": [
        "SYSTEM_PROMPT = '' # системный промпт. Если оставить пустым, будет использован системный промпт по умолчанию (можно посмотреть выше, внутри функции)\n",
        "question = 'Какой частью речи и каким членом предложения является ПОЛ в предложениях: Пол Московской области. или Пол чайной ложки.? Как выделяется и какой частью слова является ПОЛ в словах пол-лимона, пол-Москвы, пол-августа и полметра?' # сам вопрос\n",
        "model = '' # при желании можно переключить модель\n",
        "\n",
        "key = 'Bearer' #нужно добавить ключ\n",
        "\n",
        "\n",
        "answer = generate_answer_gpt(question = question, key = key, model = model, SYSTEM_PROMPT = SYSTEM_PROMPT)\n",
        "print(answer)"
      ],
      "metadata": {
        "colab": {
          "base_uri": "https://localhost:8080/"
        },
        "id": "N_lxWOLJFgge",
        "outputId": "a23e2bda-6da2-40d9-813e-2d4fd6fec021"
      },
      "execution_count": 97,
      "outputs": [
        {
          "output_type": "stream",
          "name": "stdout",
          "text": [
            "Морфология и лексикология\n"
          ]
        }
      ]
    },
    {
      "cell_type": "code",
      "source": [
        "SYSTEM_PROMPT = '' # системный промпт. Если оставить пустым, будет использован системный промпт по умолчанию (можно посмотреть выше, внутри функции)\n",
        "question = 'Подскажите пожалуйста, правильно ли с точки зрения русского языка использовать в названии научной статьи словосочетание «циклов по перебору ребер поверхности», или только «циклов перебора ребер поверхности»? Хотелось бы избежать четырех слов подряд в родительном падеже.' # сам вопрос\n",
        "model = '' # при желании можно переключить модель\n",
        "\n",
        "key = 'Bearer' #нужно добавить ключ\n",
        "\n",
        "\n",
        "answer = generate_answer_gpt(question = question, key = key, model = model, SYSTEM_PROMPT = SYSTEM_PROMPT)\n",
        "print(answer)"
      ],
      "metadata": {
        "colab": {
          "base_uri": "https://localhost:8080/"
        },
        "id": "-Dp3Yr94H6Nx",
        "outputId": "8385fc83-f00a-4703-ad2b-ac756fb4f28b"
      },
      "execution_count": 98,
      "outputs": [
        {
          "output_type": "stream",
          "name": "stdout",
          "text": [
            "Морфология и синтаксис\n"
          ]
        }
      ]
    },
    {
      "cell_type": "code",
      "source": [
        "SYSTEM_PROMPT = '' # системный промпт. Если оставить пустым, будет использован системный промпт по умолчанию (можно посмотреть выше, внутри функции)\n",
        "question = 'Здравствуйте, как верно просклонять наименование учреждения - Государственное бюджетное учреждение Дом социального обслуживания «Ромашка»? По документам именно в таком варианте! В дательном падеже - Государственного бюджетного учреждения Дома социального обслуживания «Ромашка» или Государственного бюджетного учреждения Дом социального обслуживания «Ромашка»?' # сам вопрос\n",
        "model = '' # при желании можно переключить модель\n",
        "\n",
        "key = 'Bearer' #нужно добавить ключ\n",
        "\n",
        "\n",
        "answer = generate_answer_gpt(question = question, key = key, model = model, SYSTEM_PROMPT = SYSTEM_PROMPT)\n",
        "print(answer)"
      ],
      "metadata": {
        "colab": {
          "base_uri": "https://localhost:8080/"
        },
        "id": "8Ih-O9PzISOF",
        "outputId": "3f49cfbc-8760-4e8a-957c-676f58d47d60"
      },
      "execution_count": 99,
      "outputs": [
        {
          "output_type": "stream",
          "name": "stdout",
          "text": [
            "Синтаксис и морфология\n"
          ]
        }
      ]
    },
    {
      "cell_type": "code",
      "source": [
        "SYSTEM_PROMPT = '' # системный промпт. Если оставить пустым, будет использован системный промпт по умолчанию (можно посмотреть выше, внутри функции)\n",
        "question = 'Здравствуйте! В предложении \"Есть два вида предохранителей: перегоревшие и не перегоревшие\" стоит \"не перегоревшие\" писать раздельно или слитно? Заранее спасибо!' # сам вопрос\n",
        "model = '' # при желании можно переключить модель\n",
        "\n",
        "key = 'Bearer' #нужно добавить ключ\n",
        "\n",
        "\n",
        "answer = generate_answer_gpt(question = question, key = key, model = model, SYSTEM_PROMPT = SYSTEM_PROMPT)\n",
        "print(answer)"
      ],
      "metadata": {
        "colab": {
          "base_uri": "https://localhost:8080/"
        },
        "id": "3sGhWTCSIkjJ",
        "outputId": "77b6c52f-9c9c-4c0d-e63d-7c63522ddf06"
      },
      "execution_count": 100,
      "outputs": [
        {
          "output_type": "stream",
          "name": "stdout",
          "text": [
            "Орфография\n"
          ]
        }
      ]
    },
    {
      "cell_type": "code",
      "source": [
        "SYSTEM_PROMPT = '' # системный промпт. Если оставить пустым, будет использован системный промпт по умолчанию (можно посмотреть выше, внутри функции)\n",
        "question = 'Здравствуйте! нужна ли запятая в следующем предложении? Он расспросил ребят о школе, её руководстве, изучаемых предметах(,) и даже о наличии в ней бассейна.' # сам вопрос\n",
        "model = '' # при желании можно переключить модель\n",
        "\n",
        "key = 'Bearer' #нужно добавить ключ\n",
        "\n",
        "\n",
        "answer = generate_answer_gpt(question = question, key = key, model = model, SYSTEM_PROMPT = SYSTEM_PROMPT)\n",
        "print(answer)"
      ],
      "metadata": {
        "colab": {
          "base_uri": "https://localhost:8080/"
        },
        "id": "4M46immyI9aF",
        "outputId": "212d8c61-7e0b-4566-a708-a7161ede12d0"
      },
      "execution_count": 101,
      "outputs": [
        {
          "output_type": "stream",
          "name": "stdout",
          "text": [
            "Пунктуация в сложносочиненных и сложноподчиненных предложениях.\n"
          ]
        }
      ]
    }
  ]
}