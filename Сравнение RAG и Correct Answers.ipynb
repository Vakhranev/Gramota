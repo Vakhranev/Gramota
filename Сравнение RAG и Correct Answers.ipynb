{
  "nbformat": 4,
  "nbformat_minor": 0,
  "metadata": {
    "colab": {
      "provenance": [],
      "authorship_tag": "ABX9TyNyuc2O6WGFgiuGS0K4hvuI",
      "include_colab_link": true
    },
    "kernelspec": {
      "name": "python3",
      "display_name": "Python 3"
    },
    "language_info": {
      "name": "python"
    }
  },
  "cells": [
    {
      "cell_type": "markdown",
      "metadata": {
        "id": "view-in-github",
        "colab_type": "text"
      },
      "source": [
        "<a href=\"https://colab.research.google.com/github/Vakhranev/Gramota/blob/main/%D0%A1%D1%80%D0%B0%D0%B2%D0%BD%D0%B5%D0%BD%D0%B8%D0%B5%20RAG%20%D0%B8%20Correct%20Answers.ipynb\" target=\"_parent\"><img src=\"https://colab.research.google.com/assets/colab-badge.svg\" alt=\"Open In Colab\"/></a>"
      ]
    },
    {
      "cell_type": "code",
      "execution_count": 1,
      "metadata": {
        "colab": {
          "base_uri": "https://localhost:8080/"
        },
        "id": "ApoL5SUezGRI",
        "outputId": "45093972-e39b-4664-b3a8-68b5b5fb12bf"
      },
      "outputs": [
        {
          "output_type": "stream",
          "name": "stdout",
          "text": [
            "Requirement already satisfied: pandas in /usr/local/lib/python3.10/dist-packages (2.1.4)\n",
            "Collecting sentence-transformers\n",
            "  Downloading sentence_transformers-3.0.1-py3-none-any.whl.metadata (10 kB)\n",
            "Requirement already satisfied: torch in /usr/local/lib/python3.10/dist-packages (2.3.1+cu121)\n",
            "Requirement already satisfied: numpy<2,>=1.22.4 in /usr/local/lib/python3.10/dist-packages (from pandas) (1.26.4)\n",
            "Requirement already satisfied: python-dateutil>=2.8.2 in /usr/local/lib/python3.10/dist-packages (from pandas) (2.8.2)\n",
            "Requirement already satisfied: pytz>=2020.1 in /usr/local/lib/python3.10/dist-packages (from pandas) (2024.1)\n",
            "Requirement already satisfied: tzdata>=2022.1 in /usr/local/lib/python3.10/dist-packages (from pandas) (2024.1)\n",
            "Requirement already satisfied: transformers<5.0.0,>=4.34.0 in /usr/local/lib/python3.10/dist-packages (from sentence-transformers) (4.42.4)\n",
            "Requirement already satisfied: tqdm in /usr/local/lib/python3.10/dist-packages (from sentence-transformers) (4.66.5)\n",
            "Requirement already satisfied: scikit-learn in /usr/local/lib/python3.10/dist-packages (from sentence-transformers) (1.3.2)\n",
            "Requirement already satisfied: scipy in /usr/local/lib/python3.10/dist-packages (from sentence-transformers) (1.13.1)\n",
            "Requirement already satisfied: huggingface-hub>=0.15.1 in /usr/local/lib/python3.10/dist-packages (from sentence-transformers) (0.23.5)\n",
            "Requirement already satisfied: Pillow in /usr/local/lib/python3.10/dist-packages (from sentence-transformers) (9.4.0)\n",
            "Requirement already satisfied: filelock in /usr/local/lib/python3.10/dist-packages (from torch) (3.15.4)\n",
            "Requirement already satisfied: typing-extensions>=4.8.0 in /usr/local/lib/python3.10/dist-packages (from torch) (4.12.2)\n",
            "Requirement already satisfied: sympy in /usr/local/lib/python3.10/dist-packages (from torch) (1.13.1)\n",
            "Requirement already satisfied: networkx in /usr/local/lib/python3.10/dist-packages (from torch) (3.3)\n",
            "Requirement already satisfied: jinja2 in /usr/local/lib/python3.10/dist-packages (from torch) (3.1.4)\n",
            "Requirement already satisfied: fsspec in /usr/local/lib/python3.10/dist-packages (from torch) (2024.6.1)\n",
            "Collecting nvidia-cuda-nvrtc-cu12==12.1.105 (from torch)\n",
            "  Using cached nvidia_cuda_nvrtc_cu12-12.1.105-py3-none-manylinux1_x86_64.whl.metadata (1.5 kB)\n",
            "Collecting nvidia-cuda-runtime-cu12==12.1.105 (from torch)\n",
            "  Using cached nvidia_cuda_runtime_cu12-12.1.105-py3-none-manylinux1_x86_64.whl.metadata (1.5 kB)\n",
            "Collecting nvidia-cuda-cupti-cu12==12.1.105 (from torch)\n",
            "  Using cached nvidia_cuda_cupti_cu12-12.1.105-py3-none-manylinux1_x86_64.whl.metadata (1.6 kB)\n",
            "Collecting nvidia-cudnn-cu12==8.9.2.26 (from torch)\n",
            "  Using cached nvidia_cudnn_cu12-8.9.2.26-py3-none-manylinux1_x86_64.whl.metadata (1.6 kB)\n",
            "Collecting nvidia-cublas-cu12==12.1.3.1 (from torch)\n",
            "  Using cached nvidia_cublas_cu12-12.1.3.1-py3-none-manylinux1_x86_64.whl.metadata (1.5 kB)\n",
            "Collecting nvidia-cufft-cu12==11.0.2.54 (from torch)\n",
            "  Using cached nvidia_cufft_cu12-11.0.2.54-py3-none-manylinux1_x86_64.whl.metadata (1.5 kB)\n",
            "Collecting nvidia-curand-cu12==10.3.2.106 (from torch)\n",
            "  Using cached nvidia_curand_cu12-10.3.2.106-py3-none-manylinux1_x86_64.whl.metadata (1.5 kB)\n",
            "Collecting nvidia-cusolver-cu12==11.4.5.107 (from torch)\n",
            "  Using cached nvidia_cusolver_cu12-11.4.5.107-py3-none-manylinux1_x86_64.whl.metadata (1.6 kB)\n",
            "Collecting nvidia-cusparse-cu12==12.1.0.106 (from torch)\n",
            "  Using cached nvidia_cusparse_cu12-12.1.0.106-py3-none-manylinux1_x86_64.whl.metadata (1.6 kB)\n",
            "Collecting nvidia-nccl-cu12==2.20.5 (from torch)\n",
            "  Using cached nvidia_nccl_cu12-2.20.5-py3-none-manylinux2014_x86_64.whl.metadata (1.8 kB)\n",
            "Collecting nvidia-nvtx-cu12==12.1.105 (from torch)\n",
            "  Using cached nvidia_nvtx_cu12-12.1.105-py3-none-manylinux1_x86_64.whl.metadata (1.7 kB)\n",
            "Requirement already satisfied: triton==2.3.1 in /usr/local/lib/python3.10/dist-packages (from torch) (2.3.1)\n",
            "Collecting nvidia-nvjitlink-cu12 (from nvidia-cusolver-cu12==11.4.5.107->torch)\n",
            "  Using cached nvidia_nvjitlink_cu12-12.6.20-py3-none-manylinux2014_x86_64.whl.metadata (1.5 kB)\n",
            "Requirement already satisfied: packaging>=20.9 in /usr/local/lib/python3.10/dist-packages (from huggingface-hub>=0.15.1->sentence-transformers) (24.1)\n",
            "Requirement already satisfied: pyyaml>=5.1 in /usr/local/lib/python3.10/dist-packages (from huggingface-hub>=0.15.1->sentence-transformers) (6.0.2)\n",
            "Requirement already satisfied: requests in /usr/local/lib/python3.10/dist-packages (from huggingface-hub>=0.15.1->sentence-transformers) (2.32.3)\n",
            "Requirement already satisfied: six>=1.5 in /usr/local/lib/python3.10/dist-packages (from python-dateutil>=2.8.2->pandas) (1.16.0)\n",
            "Requirement already satisfied: regex!=2019.12.17 in /usr/local/lib/python3.10/dist-packages (from transformers<5.0.0,>=4.34.0->sentence-transformers) (2024.5.15)\n",
            "Requirement already satisfied: safetensors>=0.4.1 in /usr/local/lib/python3.10/dist-packages (from transformers<5.0.0,>=4.34.0->sentence-transformers) (0.4.4)\n",
            "Requirement already satisfied: tokenizers<0.20,>=0.19 in /usr/local/lib/python3.10/dist-packages (from transformers<5.0.0,>=4.34.0->sentence-transformers) (0.19.1)\n",
            "Requirement already satisfied: MarkupSafe>=2.0 in /usr/local/lib/python3.10/dist-packages (from jinja2->torch) (2.1.5)\n",
            "Requirement already satisfied: joblib>=1.1.1 in /usr/local/lib/python3.10/dist-packages (from scikit-learn->sentence-transformers) (1.4.2)\n",
            "Requirement already satisfied: threadpoolctl>=2.0.0 in /usr/local/lib/python3.10/dist-packages (from scikit-learn->sentence-transformers) (3.5.0)\n",
            "Requirement already satisfied: mpmath<1.4,>=1.1.0 in /usr/local/lib/python3.10/dist-packages (from sympy->torch) (1.3.0)\n",
            "Requirement already satisfied: charset-normalizer<4,>=2 in /usr/local/lib/python3.10/dist-packages (from requests->huggingface-hub>=0.15.1->sentence-transformers) (3.3.2)\n",
            "Requirement already satisfied: idna<4,>=2.5 in /usr/local/lib/python3.10/dist-packages (from requests->huggingface-hub>=0.15.1->sentence-transformers) (3.7)\n",
            "Requirement already satisfied: urllib3<3,>=1.21.1 in /usr/local/lib/python3.10/dist-packages (from requests->huggingface-hub>=0.15.1->sentence-transformers) (2.0.7)\n",
            "Requirement already satisfied: certifi>=2017.4.17 in /usr/local/lib/python3.10/dist-packages (from requests->huggingface-hub>=0.15.1->sentence-transformers) (2024.7.4)\n",
            "Downloading sentence_transformers-3.0.1-py3-none-any.whl (227 kB)\n",
            "\u001b[2K   \u001b[90m━━━━━━━━━━━━━━━━━━━━━━━━━━━━━━━━━━━━━━━━\u001b[0m \u001b[32m227.1/227.1 kB\u001b[0m \u001b[31m6.4 MB/s\u001b[0m eta \u001b[36m0:00:00\u001b[0m\n",
            "\u001b[?25hUsing cached nvidia_cublas_cu12-12.1.3.1-py3-none-manylinux1_x86_64.whl (410.6 MB)\n",
            "Using cached nvidia_cuda_cupti_cu12-12.1.105-py3-none-manylinux1_x86_64.whl (14.1 MB)\n",
            "Using cached nvidia_cuda_nvrtc_cu12-12.1.105-py3-none-manylinux1_x86_64.whl (23.7 MB)\n",
            "Using cached nvidia_cuda_runtime_cu12-12.1.105-py3-none-manylinux1_x86_64.whl (823 kB)\n",
            "Using cached nvidia_cudnn_cu12-8.9.2.26-py3-none-manylinux1_x86_64.whl (731.7 MB)\n",
            "Using cached nvidia_cufft_cu12-11.0.2.54-py3-none-manylinux1_x86_64.whl (121.6 MB)\n",
            "Using cached nvidia_curand_cu12-10.3.2.106-py3-none-manylinux1_x86_64.whl (56.5 MB)\n",
            "Using cached nvidia_cusolver_cu12-11.4.5.107-py3-none-manylinux1_x86_64.whl (124.2 MB)\n",
            "Using cached nvidia_cusparse_cu12-12.1.0.106-py3-none-manylinux1_x86_64.whl (196.0 MB)\n",
            "Using cached nvidia_nccl_cu12-2.20.5-py3-none-manylinux2014_x86_64.whl (176.2 MB)\n",
            "Using cached nvidia_nvtx_cu12-12.1.105-py3-none-manylinux1_x86_64.whl (99 kB)\n",
            "Using cached nvidia_nvjitlink_cu12-12.6.20-py3-none-manylinux2014_x86_64.whl (19.7 MB)\n",
            "Installing collected packages: nvidia-nvtx-cu12, nvidia-nvjitlink-cu12, nvidia-nccl-cu12, nvidia-curand-cu12, nvidia-cufft-cu12, nvidia-cuda-runtime-cu12, nvidia-cuda-nvrtc-cu12, nvidia-cuda-cupti-cu12, nvidia-cublas-cu12, nvidia-cusparse-cu12, nvidia-cudnn-cu12, nvidia-cusolver-cu12, sentence-transformers\n",
            "Successfully installed nvidia-cublas-cu12-12.1.3.1 nvidia-cuda-cupti-cu12-12.1.105 nvidia-cuda-nvrtc-cu12-12.1.105 nvidia-cuda-runtime-cu12-12.1.105 nvidia-cudnn-cu12-8.9.2.26 nvidia-cufft-cu12-11.0.2.54 nvidia-curand-cu12-10.3.2.106 nvidia-cusolver-cu12-11.4.5.107 nvidia-cusparse-cu12-12.1.0.106 nvidia-nccl-cu12-2.20.5 nvidia-nvjitlink-cu12-12.6.20 nvidia-nvtx-cu12-12.1.105 sentence-transformers-3.0.1\n"
          ]
        }
      ],
      "source": [
        "!pip install pandas sentence-transformers torch"
      ]
    },
    {
      "cell_type": "code",
      "source": [
        "import pandas as pd\n",
        "from sentence_transformers import SentenceTransformer, util\n",
        "\n",
        "# Загрузка данных из CSV\n",
        "file_path = 'Cleaned_RAG_ANSWERS.csv'  # Укажи путь к твоему файлу\n",
        "df = pd.read_csv(file_path)\n",
        "\n",
        "# Загрузка предобученной модели для семантического анализа\n",
        "model = SentenceTransformer('paraphrase-MiniLM-L6-v2')\n",
        "\n",
        "# Вычисление эмбеддингов для правильных ответов и ответов нейронки\n",
        "correct_embeddings = model.encode(df['Correct_Answer_Cleaned'].tolist(), convert_to_tensor=True)\n",
        "rag_embeddings = model.encode(df['RAG_ANSWERS'].tolist(), convert_to_tensor=True)\n",
        "\n",
        "# Вычисление косинусного сходства между правильными ответами и ответами нейронки\n",
        "similarity_scores = util.pytorch_cos_sim(correct_embeddings, rag_embeddings)\n",
        "\n",
        "# Извлечение диагональных значений, которые представляют сходство между соответствующими парами\n",
        "df['Semantic_Similarity'] = similarity_scores.diag().cpu().numpy()\n",
        "\n",
        "# Сохранение результатов в новый CSV файл\n",
        "df.to_csv('Semantic_Similarity_Results.csv', index=False)\n",
        "\n",
        "# Вывод первых нескольких строк с результатами\n",
        "print(df[['Question', 'Correct_Answer_Cleaned', 'RAG_ANSWERS', 'Semantic_Similarity']].head())"
      ],
      "metadata": {
        "colab": {
          "base_uri": "https://localhost:8080/"
        },
        "id": "BOyM03EozTJF",
        "outputId": "205ad98f-196e-4225-8fba-cd2abd4dfedf"
      },
      "execution_count": 6,
      "outputs": [
        {
          "output_type": "stream",
          "name": "stdout",
          "text": [
            "                                            Question  \\\n",
            "0  Здравствуйте! Как пишется слово НЕ_ВИДИМЫЙ в д...   \n",
            "1  Со строчной или заглавной? \"В городе проходит ...   \n",
            "2  <p>Здравствуйте. Нужно ли выделять сорт растен...   \n",
            "3  <p>Добрый день. В слове молоденький суффикс -е...   \n",
            "4  Скажите, пожалуйста, можно ли говорить «смерте...   \n",
            "\n",
            "                              Correct_Answer_Cleaned  \\\n",
            "0  Правильно слитное написание: Над головой хрипл...   \n",
            "1  В данном случае всероссийская пишется со строч...   \n",
            "2  Разница в типах текстов: такие названия не выд...   \n",
            "3  Вы путаете правило о написании суффиксов -еньк...   \n",
            "4  В терминологическом значении правильно только ...   \n",
            "\n",
            "                                         RAG_ANSWERS  Semantic_Similarity  \n",
            "0  В данном контексте слово \"НЕ_ВИДИМЫЙ\" пишется ...             0.975246  \n",
            "1  В данном контексте \"всероссийская\" пишется со ...             0.968170  \n",
            "2  В первом случае речь идет о названиях сельскох...             0.940848  \n",
            "3  В слове \"молоденький\" суффикс действительно пи...             0.921841  \n",
            "4  В терминологическом значении правильно только ...             1.000000  \n"
          ]
        }
      ]
    },
    {
      "cell_type": "code",
      "source": [
        "import pandas as pd\n",
        "import re\n",
        "from bs4 import BeautifulSoup\n",
        "\n",
        "# Загрузка данных из CSV\n",
        "file_path = 'RAG_ANSWERS.csv'  # Укажи путь к твоему файлу\n",
        "df = pd.read_csv(file_path)\n",
        "\n",
        "# Функция для очистки текста от HTML-тегов и ошибок кодировки\n",
        "def clean_text(text):\n",
        "    # Удаление HTML-тегов\n",
        "    text = BeautifulSoup(text, \"html.parser\").get_text()\n",
        "    # Удаление ошибок кодировки\n",
        "    text = re.sub(r'&[a-zA-Z0-9#]+;', ' ', text)\n",
        "    # Дополнительная очистка от лишних пробелов\n",
        "    text = re.sub(r'\\s+', ' ', text).strip()\n",
        "    return text\n",
        "\n",
        "# Применение очистки к полю Correct_Answer\n",
        "df['Correct_Answer_Cleaned'] = df['Correct_Answer'].apply(clean_text)\n",
        "print(df['Correct_Answer_Cleaned'])\n",
        "# Сохранение очищенного DataFrame в новый файл\n",
        "df.to_csv('Cleaned_RAG_ANSWERS.csv', index=False)\n",
        "\n",
        "# Вывод первых нескольких строк с очищенными данными\n",
        "print(df[['Correct_Answer', 'Correct_Answer_Cleaned']].head())"
      ],
      "metadata": {
        "colab": {
          "base_uri": "https://localhost:8080/"
        },
        "id": "YRFgESVE2STU",
        "outputId": "1d7acdc7-bb19-466b-cf90-cb950468e7df"
      },
      "execution_count": 5,
      "outputs": [
        {
          "output_type": "stream",
          "name": "stdout",
          "text": [
            "0     Правильно слитное написание: Над головой хрипл...\n",
            "1     В данном случае всероссийская пишется со строч...\n",
            "2     Разница в типах текстов: такие названия не выд...\n",
            "3     Вы путаете правило о написании суффиксов -еньк...\n",
            "4     В терминологическом значении правильно только ...\n",
            "5       Названия микрорайонов в кавычки не заключаются.\n",
            "6                   Тире в данном предложении ставится.\n",
            "7      Верно только инструкция по заполнению документа.\n",
            "8     Правильно: «Обессиленный, я мешком повалился н...\n",
            "9     Предпочтительно склонение, без выпадения гласн...\n",
            "10              Точка перед запятой в сокращении нужна.\n",
            "11                                       Запятая нужна.\n",
            "12    Возможность существования в литературном русск...\n",
            "13    Запятая нужна: здесь она ставится перед распро...\n",
            "14                         Предпочтительно: чесменский.\n",
            "15                     Да, необходимо тире с пробелами.\n",
            "16                                Да, совершенно верно.\n",
            "17    Инвест… — первая часть сложных слов, пишется с...\n",
            "18    Увы, мы не знаем, что именно было прописано в ...\n",
            "19    Допустимо; см. безделие и безделье в словарных...\n",
            "20         Спасибо за внимательность! Опечатку исправим\n",
            "21                 Корректно слитное написание: неясно.\n",
            "22    Такая формулировка грешит разговорностью, поэт...\n",
            "23    Предложение не вполне корректно: ошибочно соче...\n",
            "24    Корректно: гранеными, подобно хрустальным, пли...\n",
            "25    Корректно: Аландские острова, Северо-Западные ...\n",
            "26    Устоявшегося управления для этого относительно...\n",
            "27    В зависимости от значения возможны два вариант...\n",
            "28    Правильны сокращения г (грамм) и мг (миллиграм...\n",
            "29    Корректно: на фото – N, представитель штата Те...\n",
            "30                        Корректно: сорт \"Дар Сибири\".\n",
            "31    Оба варианта нехороши. Корректно: пройти обсле...\n",
            "32    В официальных документах предпочтительно испол...\n",
            "33                                   Да, запятая нужна.\n",
            "34    При перечислении авторов, как правило, использ...\n",
            "35    Вы правы, такое употребление некорректно. В пр...\n",
            "36    Не пишется раздельно с относительными прилагат...\n",
            "37    В данном случае возможны постановка как запято...\n",
            "38    В данном случае выделение/невыделение запятыми...\n",
            "39    Запятая обязательна (Странный, грубо сколоченн...\n",
            "40    Слово урбеч склоняется как существительное муж...\n",
            "Name: Correct_Answer_Cleaned, dtype: object\n",
            "                                      Correct_Answer  \\\n",
            "0  <p>Правильно слитное написание:&nbsp;<i>Над го...   \n",
            "1  <p>В данном случае <i>всероссийская</i> пишетс...   \n",
            "2  <p>Разница в типах текстов: такие названия не ...   \n",
            "3  <p>Вы путаете правило о написании суффиксов <i...   \n",
            "4  <p><span style=\"font-family:var(--spectral); l...   \n",
            "\n",
            "                              Correct_Answer_Cleaned  \n",
            "0  Правильно слитное написание: Над головой хрипл...  \n",
            "1  В данном случае всероссийская пишется со строч...  \n",
            "2  Разница в типах текстов: такие названия не выд...  \n",
            "3  Вы путаете правило о написании суффиксов -еньк...  \n",
            "4  В терминологическом значении правильно только ...  \n"
          ]
        }
      ]
    }
  ]
}